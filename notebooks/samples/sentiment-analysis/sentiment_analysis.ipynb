{
 "cells": [
  {
   "cell_type": "markdown",
   "id": "48b6c907",
   "metadata": {},
   "source": [
    "# Sentiment Analysis on Disneyland Resort Reviews\n",
    "\n",
    "In this example, we will extract valuable sentiments from Disneyland Resort reviews, gaining a deeper understanding of customer experiences. \n",
    "\n",
    "We will leverage the power of Natural Language Processing (NLP) and sentiment analysis techniques to assess the sentiment expressed in these reviews. But that's not all, our approach doesn't stop at sentiment analysis; it extends to the realm of powerful vector databases.\n",
    "\n",
    "Using KDB.AI we can store not only the reviews themselves but also the sentiment labels as metadata. With KDB.AI, we can easily search for any topic, keyword, or sentiment and retrieve relevant customer reviews instantly. Whether you're interested in finding the happiest moments in the park, uncovering areas for improvement, or simply exploring the multitude of experiences Disneyland Resort has to offer, KDB.AI makes it all possible with just a few clicks.\n",
    "\n",
    "## Aim \n",
    "\n",
    "In the sections that follow, we'll walk you through the entire process:\n",
    "\n",
    "- Data Loading: We'll load reviews and prepare them for analysis.\n",
    "- Sentiment Analysis: Using advanced NLP techniques, we'll determine the sentiment expressed in each review—positive, negative, or neutral.\n",
    "- KDB.AI Integration: We'll introduce you to KDB.AI and demonstrate how to store reviews and their associated sentiment labels.\n",
    "- Flexible Searching: Learn how to use KDB.AI's powerful search capabilities to explore reviews based on your criteria.\n",
    "- Visualization: We'll create visualizations to gain insights from the sentiment data.\n",
    "\n",
    "By the end of this tutorial, you'll not only have a deeper understanding of sentiment analysis but also the tools and knowledge to harness the insights hidden within vast datasets of customer reviews. Let's embark on this journey to uncover the magic and meaning behind Disneyland Resort reviews with sentiment analysis and KDB.AI.\n"
   ]
  },
  {
   "cell_type": "markdown",
   "id": "36f53e98",
   "metadata": {},
   "source": [
    "## Install Dependencies & Load Libraries"
   ]
  },
  {
   "cell_type": "code",
   "execution_count": null,
   "id": "576c7f47",
   "metadata": {},
   "outputs": [],
   "source": [
    "%pip install seaborn kdbai_client -q"
   ]
  },
  {
   "cell_type": "code",
   "execution_count": 47,
   "id": "a7b9e948",
   "metadata": {},
   "outputs": [],
   "source": [
    "import pandas as pd\n",
    "from tqdm.notebook import tqdm\n",
    "import seaborn as sns\n",
    "import matplotlib.pyplot as plt"
   ]
  },
  {
   "cell_type": "markdown",
   "id": "10ff8ec0",
   "metadata": {},
   "source": [
    "## 1. Data Loading \n",
    "\n",
    "### Dataset overview\n",
    "The dataset that will be used for this example is these [Disneyland Reviews](https://www.kaggle.com/datasets/arushchillar/disneyland-reviews) available on Kaggle. The dataset includes 42,000 reviews of 3 Disneyland branches - Paris, California and Hong Kong, posted by visitors on Trip Advisor.\n",
    "\n",
    "### Download data\n",
    "\n",
    "You can either manually download the zip folder from [Kaggle (39MB)](https://www.kaggle.com/datasets/arushchillar/disneyland-reviews) or alternatively you can use the [Kaggle API](https://www.kaggle.com/docs/api). You will need to install the kaggle package and get an API token to do the latter approach.\n",
    "\n",
    "Adjust the path if needed to match your setup."
   ]
  },
  {
   "cell_type": "code",
   "execution_count": 3,
   "id": "d3a14cc9",
   "metadata": {},
   "outputs": [
    {
     "data": {
      "text/html": [
       "<div>\n",
       "<style scoped>\n",
       "    .dataframe tbody tr th:only-of-type {\n",
       "        vertical-align: middle;\n",
       "    }\n",
       "\n",
       "    .dataframe tbody tr th {\n",
       "        vertical-align: top;\n",
       "    }\n",
       "\n",
       "    .dataframe thead th {\n",
       "        text-align: right;\n",
       "    }\n",
       "</style>\n",
       "<table border=\"1\" class=\"dataframe\">\n",
       "  <thead>\n",
       "    <tr style=\"text-align: right;\">\n",
       "      <th></th>\n",
       "      <th>Review_ID</th>\n",
       "      <th>Rating</th>\n",
       "      <th>Year_Month</th>\n",
       "      <th>Reviewer_Location</th>\n",
       "      <th>Review_Text</th>\n",
       "      <th>Branch</th>\n",
       "    </tr>\n",
       "  </thead>\n",
       "  <tbody>\n",
       "    <tr>\n",
       "      <th>0</th>\n",
       "      <td>670772142</td>\n",
       "      <td>4</td>\n",
       "      <td>2019-4</td>\n",
       "      <td>Australia</td>\n",
       "      <td>If you've ever been to Disneyland anywhere you...</td>\n",
       "      <td>Disneyland_HongKong</td>\n",
       "    </tr>\n",
       "    <tr>\n",
       "      <th>1</th>\n",
       "      <td>670682799</td>\n",
       "      <td>4</td>\n",
       "      <td>2019-5</td>\n",
       "      <td>Philippines</td>\n",
       "      <td>Its been a while since d last time we visit HK...</td>\n",
       "      <td>Disneyland_HongKong</td>\n",
       "    </tr>\n",
       "    <tr>\n",
       "      <th>2</th>\n",
       "      <td>670623270</td>\n",
       "      <td>4</td>\n",
       "      <td>2019-4</td>\n",
       "      <td>United Arab Emirates</td>\n",
       "      <td>Thanks God it wasn   t too hot or too humid wh...</td>\n",
       "      <td>Disneyland_HongKong</td>\n",
       "    </tr>\n",
       "    <tr>\n",
       "      <th>3</th>\n",
       "      <td>670607911</td>\n",
       "      <td>4</td>\n",
       "      <td>2019-4</td>\n",
       "      <td>Australia</td>\n",
       "      <td>HK Disneyland is a great compact park. Unfortu...</td>\n",
       "      <td>Disneyland_HongKong</td>\n",
       "    </tr>\n",
       "    <tr>\n",
       "      <th>4</th>\n",
       "      <td>670607296</td>\n",
       "      <td>4</td>\n",
       "      <td>2019-4</td>\n",
       "      <td>United Kingdom</td>\n",
       "      <td>the location is not in the city, took around 1...</td>\n",
       "      <td>Disneyland_HongKong</td>\n",
       "    </tr>\n",
       "  </tbody>\n",
       "</table>\n",
       "</div>"
      ],
      "text/plain": [
       "   Review_ID  Rating Year_Month     Reviewer_Location  \\\n",
       "0  670772142       4     2019-4             Australia   \n",
       "1  670682799       4     2019-5           Philippines   \n",
       "2  670623270       4     2019-4  United Arab Emirates   \n",
       "3  670607911       4     2019-4             Australia   \n",
       "4  670607296       4     2019-4        United Kingdom   \n",
       "\n",
       "                                         Review_Text               Branch  \n",
       "0  If you've ever been to Disneyland anywhere you...  Disneyland_HongKong  \n",
       "1  Its been a while since d last time we visit HK...  Disneyland_HongKong  \n",
       "2  Thanks God it wasn   t too hot or too humid wh...  Disneyland_HongKong  \n",
       "3  HK Disneyland is a great compact park. Unfortu...  Disneyland_HongKong  \n",
       "4  the location is not in the city, took around 1...  Disneyland_HongKong  "
      ]
     },
     "execution_count": 3,
     "metadata": {},
     "output_type": "execute_result"
    }
   ],
   "source": [
    "# Read in data\n",
    "df = pd.read_csv('./DisneylandReviews.csv',encoding='ISO-8859-1')\n",
    "df.head(5)"
   ]
  },
  {
   "cell_type": "markdown",
   "id": "4a1b091e",
   "metadata": {},
   "source": [
    "### Filtering\n",
    "\n",
    "Let's take a look at the number of reviews per resort."
   ]
  },
  {
   "cell_type": "code",
   "execution_count": 4,
   "id": "087498ed",
   "metadata": {},
   "outputs": [
    {
     "data": {
      "text/plain": [
       "Branch\n",
       "Disneyland_California    19406\n",
       "Disneyland_HongKong       9620\n",
       "Disneyland_Paris         13630\n",
       "Name: Branch, dtype: int64"
      ]
     },
     "execution_count": 4,
     "metadata": {},
     "output_type": "execute_result"
    }
   ],
   "source": [
    "df.groupby('Branch')['Branch'].count()"
   ]
  },
  {
   "cell_type": "markdown",
   "id": "62084d2c",
   "metadata": {},
   "source": [
    "We have a good number per resort so let's take the first 50 per resort only to help with performance.\n",
    "\n",
    "The speed of your hardware, particularly your CPU and memory, will influence processing time when running sentiment analysis. If you are running this example on a CPU it is a good idea to restrict the number of rows first to help with performance. If you have access to a GPU you may wish to use that and the full dataset."
   ]
  },
  {
   "cell_type": "code",
   "execution_count": 5,
   "id": "736bb9d0",
   "metadata": {},
   "outputs": [
    {
     "data": {
      "text/plain": [
       "Branch\n",
       "Disneyland_California    50\n",
       "Disneyland_HongKong      50\n",
       "Disneyland_Paris         50\n",
       "Name: Branch, dtype: int64"
      ]
     },
     "execution_count": 5,
     "metadata": {},
     "output_type": "execute_result"
    }
   ],
   "source": [
    "df = df.groupby('Branch').head(50)\n",
    "df.groupby('Branch')['Branch'].count()"
   ]
  },
  {
   "cell_type": "markdown",
   "id": "b0651452",
   "metadata": {},
   "source": [
    "## 2. Sentiment Analysis\n",
    "\n",
    "Sentiment analysis, the process of determining the emotional tone or sentiment expressed in text, has seen significant advancements with the use of transformer-based models. In this section, we explore sentiment analysis using the powerful [Hugging Face Transformers](https://huggingface.co/docs/transformers/model_doc/roberta) library.\n",
    "\n",
    "### Import tokenizer and model\n",
    "\n",
    "We begin by importing essential components, including the sentiment analysis model and tokenizer. In this example, we use the RoBERTa model, which is fine-tuned for sentiment classification tasks. The model is capable of classifying text into three sentiment labels: positive, negative, and neutral.\n",
    "\n",
    "Key Components:\n",
    "\n",
    "- **AutoModelForSequenceClassification**: This component is a pre-trained transformer model fine-tuned for sequence classification tasks like sentiment analysis. It's designed to handle various NLP tasks, making it highly versatile.\n",
    "- **AutoTokenizer**: We use the tokenizer to preprocess and encode text data before feeding it to the model.\n",
    "- **MODEL**: This variable specifies the pre-trained sentiment analysis model we're using in this example."
   ]
  },
  {
   "cell_type": "code",
   "execution_count": null,
   "id": "ab1520d5",
   "metadata": {},
   "outputs": [],
   "source": [
    "from transformers import pipeline\n",
    "from transformers import AutoTokenizer\n",
    "from transformers import AutoModelForSequenceClassification"
   ]
  },
  {
   "cell_type": "code",
   "execution_count": 7,
   "id": "4423d909",
   "metadata": {},
   "outputs": [],
   "source": [
    "MODEL = f\"cardiffnlp/twitter-roberta-base-sentiment\"\n",
    "tokenizer = AutoTokenizer.from_pretrained(MODEL)\n",
    "sentiment_model = AutoModelForSequenceClassification.from_pretrained(MODEL,num_labels=3)"
   ]
  },
  {
   "cell_type": "markdown",
   "id": "fdda7527",
   "metadata": {},
   "source": [
    "### Sentiment pipeline configuration\n",
    "\n",
    "In this section, we configure the sentiment analysis pipeline using the Hugging Face Transformers library. \n",
    "\n",
    "This configuration enables us to easily perform sentiment analysis on text data by utilizing the pre-trained model within the pipeline. The 'sentiment' function streamlines the process of obtaining sentiment labels and scores, making it convenient for analyzing reviews or textual data and interpreting the sentiment expressed within them."
   ]
  },
  {
   "cell_type": "code",
   "execution_count": 8,
   "id": "20f55ae5",
   "metadata": {},
   "outputs": [],
   "source": [
    "sentiment_pipeline = pipeline(\n",
    "    \"sentiment-analysis\",\n",
    "    model=sentiment_model,\n",
    "    tokenizer=tokenizer,\n",
    "    )\n",
    "\n",
    "def sentiment(reviews):\n",
    "    # pass the reviews through sentiment analysis pipeline\n",
    "    sentiments = sentiment_pipeline(reviews)\n",
    "    # extract only the label and score from the result\n",
    "    l = [labels[x[\"label\"]] for x in sentiments][0]\n",
    "    s = [x[\"score\"] for x in sentiments][0]\n",
    "    return l, s\n",
    "\n",
    "labels = {\n",
    "    \"LABEL_0\": \"negative\",\n",
    "    \"LABEL_1\": \"neutral\",\n",
    "    \"LABEL_2\": \"positive\"\n",
    "}"
   ]
  },
  {
   "cell_type": "markdown",
   "id": "c7ed3694",
   "metadata": {},
   "source": [
    "### Get sentiment for one review"
   ]
  },
  {
   "cell_type": "code",
   "execution_count": 9,
   "id": "9dc613e9",
   "metadata": {},
   "outputs": [
    {
     "name": "stdout",
     "output_type": "stream",
     "text": [
      "Disneyland never cease to amaze me! I've been to Disneyland florida and I thought I have exhausted the kid in me but nope! I still had so much fun in disneyland hong kong. 2 DL off my bucketlist and more to come!     \n"
     ]
    },
    {
     "data": {
      "text/plain": [
       "('positive', 0.9825873970985413)"
      ]
     },
     "execution_count": 9,
     "metadata": {},
     "output_type": "execute_result"
    }
   ],
   "source": [
    "example = df['Review_Text'][10]\n",
    "print(example)\n",
    "sentiment(example)"
   ]
  },
  {
   "cell_type": "markdown",
   "id": "d901741f",
   "metadata": {},
   "source": [
    "We can see that the Roberta Model has identified this as a very positive score which makes sense when reading the text.\n",
    "\n",
    "Great - now let's run our pipeline on the entire dataset."
   ]
  },
  {
   "cell_type": "markdown",
   "id": "9fb09123",
   "metadata": {},
   "source": [
    "### Get sentiment for entire DataFrame"
   ]
  },
  {
   "cell_type": "markdown",
   "id": "b9bfe0ee",
   "metadata": {},
   "source": [
    "In this code snippet, we perform sentiment analysis on the entire DataFrame containing reviews. \n",
    "\n",
    "The process involves iterating through each row of the DataFrame, extracting text data, and using a sentiment analysis function `sentiment` to analyze the sentiment of each review. Additionally, it includes error handling to gracefully handle any issues that may arise during the sentiment analysis process.\n",
    "\n",
    "This code will take a few minutes to run - you can always reduce or increase the size of the input data depending on your machines performance."
   ]
  },
  {
   "cell_type": "code",
   "execution_count": 10,
   "id": "c00808a7",
   "metadata": {},
   "outputs": [
    {
     "data": {
      "application/vnd.jupyter.widget-view+json": {
       "model_id": "131b5b97c26047e09f7a65bd03ef5a14",
       "version_major": 2,
       "version_minor": 0
      },
      "text/plain": [
       "  0%|          | 0/150 [00:00<?, ?it/s]"
      ]
     },
     "metadata": {},
     "output_type": "display_data"
    },
    {
     "name": "stdout",
     "output_type": "stream",
     "text": [
      "Broke for id 668777351\n",
      "Broke for id 669706763\n",
      "Broke for id 667308717\n"
     ]
    }
   ],
   "source": [
    "res = {}\n",
    "for i, row in tqdm(df.iterrows(), total=len(df)):\n",
    "    try:\n",
    "        text = row['Review_Text']\n",
    "        myid = row['Review_ID']\n",
    "        roberta_result = sentiment(text)\n",
    "        res[myid] = roberta_result\n",
    "    except RuntimeError:\n",
    "        print(f'Broke for id {myid}')"
   ]
  },
  {
   "cell_type": "markdown",
   "id": "89edf54b",
   "metadata": {},
   "source": [
    "We can see it broke for some IDs which is okay - these may have been too long for the RoBERTa model and have been ignored.\n",
    "\n",
    "Let's merge the sentiment analysis results obtained from the sentiment analysis process with the original DataFrame."
   ]
  },
  {
   "cell_type": "code",
   "execution_count": 11,
   "id": "527ca6a6",
   "metadata": {},
   "outputs": [
    {
     "data": {
      "text/html": [
       "<div>\n",
       "<style scoped>\n",
       "    .dataframe tbody tr th:only-of-type {\n",
       "        vertical-align: middle;\n",
       "    }\n",
       "\n",
       "    .dataframe tbody tr th {\n",
       "        vertical-align: top;\n",
       "    }\n",
       "\n",
       "    .dataframe thead th {\n",
       "        text-align: right;\n",
       "    }\n",
       "</style>\n",
       "<table border=\"1\" class=\"dataframe\">\n",
       "  <thead>\n",
       "    <tr style=\"text-align: right;\">\n",
       "      <th></th>\n",
       "      <th>Review_ID</th>\n",
       "      <th>Label</th>\n",
       "      <th>Score</th>\n",
       "      <th>Rating</th>\n",
       "      <th>Year_Month</th>\n",
       "      <th>Reviewer_Location</th>\n",
       "      <th>Review_Text</th>\n",
       "      <th>Branch</th>\n",
       "    </tr>\n",
       "  </thead>\n",
       "  <tbody>\n",
       "    <tr>\n",
       "      <th>0</th>\n",
       "      <td>670772142</td>\n",
       "      <td>positive</td>\n",
       "      <td>0.984786</td>\n",
       "      <td>4</td>\n",
       "      <td>2019-4</td>\n",
       "      <td>Australia</td>\n",
       "      <td>If you've ever been to Disneyland anywhere you...</td>\n",
       "      <td>Disneyland_HongKong</td>\n",
       "    </tr>\n",
       "    <tr>\n",
       "      <th>1</th>\n",
       "      <td>670682799</td>\n",
       "      <td>positive</td>\n",
       "      <td>0.858987</td>\n",
       "      <td>4</td>\n",
       "      <td>2019-5</td>\n",
       "      <td>Philippines</td>\n",
       "      <td>Its been a while since d last time we visit HK...</td>\n",
       "      <td>Disneyland_HongKong</td>\n",
       "    </tr>\n",
       "    <tr>\n",
       "      <th>2</th>\n",
       "      <td>670623270</td>\n",
       "      <td>positive</td>\n",
       "      <td>0.898818</td>\n",
       "      <td>4</td>\n",
       "      <td>2019-4</td>\n",
       "      <td>United Arab Emirates</td>\n",
       "      <td>Thanks God it wasn   t too hot or too humid wh...</td>\n",
       "      <td>Disneyland_HongKong</td>\n",
       "    </tr>\n",
       "    <tr>\n",
       "      <th>3</th>\n",
       "      <td>670607911</td>\n",
       "      <td>positive</td>\n",
       "      <td>0.863198</td>\n",
       "      <td>4</td>\n",
       "      <td>2019-4</td>\n",
       "      <td>Australia</td>\n",
       "      <td>HK Disneyland is a great compact park. Unfortu...</td>\n",
       "      <td>Disneyland_HongKong</td>\n",
       "    </tr>\n",
       "    <tr>\n",
       "      <th>4</th>\n",
       "      <td>670607296</td>\n",
       "      <td>positive</td>\n",
       "      <td>0.56407</td>\n",
       "      <td>4</td>\n",
       "      <td>2019-4</td>\n",
       "      <td>United Kingdom</td>\n",
       "      <td>the location is not in the city, took around 1...</td>\n",
       "      <td>Disneyland_HongKong</td>\n",
       "    </tr>\n",
       "    <tr>\n",
       "      <th>...</th>\n",
       "      <td>...</td>\n",
       "      <td>...</td>\n",
       "      <td>...</td>\n",
       "      <td>...</td>\n",
       "      <td>...</td>\n",
       "      <td>...</td>\n",
       "      <td>...</td>\n",
       "      <td>...</td>\n",
       "    </tr>\n",
       "    <tr>\n",
       "      <th>142</th>\n",
       "      <td>667573212</td>\n",
       "      <td>neutral</td>\n",
       "      <td>0.379349</td>\n",
       "      <td>3</td>\n",
       "      <td>2019-4</td>\n",
       "      <td>United Kingdom</td>\n",
       "      <td>I visited Disneyland Paris with my 2 nieces an...</td>\n",
       "      <td>Disneyland_Paris</td>\n",
       "    </tr>\n",
       "    <tr>\n",
       "      <th>143</th>\n",
       "      <td>667557905</td>\n",
       "      <td>negative</td>\n",
       "      <td>0.450606</td>\n",
       "      <td>3</td>\n",
       "      <td>2019-4</td>\n",
       "      <td>United States</td>\n",
       "      <td>Don't get my wrong, my family have been to Dis...</td>\n",
       "      <td>Disneyland_Paris</td>\n",
       "    </tr>\n",
       "    <tr>\n",
       "      <th>144</th>\n",
       "      <td>667525007</td>\n",
       "      <td>positive</td>\n",
       "      <td>0.543937</td>\n",
       "      <td>5</td>\n",
       "      <td>2019-4</td>\n",
       "      <td>United Kingdom</td>\n",
       "      <td>First time to Disneyland Paris. Really enjoyed...</td>\n",
       "      <td>Disneyland_Paris</td>\n",
       "    </tr>\n",
       "    <tr>\n",
       "      <th>145</th>\n",
       "      <td>667458156</td>\n",
       "      <td>positive</td>\n",
       "      <td>0.834823</td>\n",
       "      <td>4</td>\n",
       "      <td>2019-1</td>\n",
       "      <td>United Kingdom</td>\n",
       "      <td>We went to Disneyland in JanuraryWasnt as magi...</td>\n",
       "      <td>Disneyland_Paris</td>\n",
       "    </tr>\n",
       "    <tr>\n",
       "      <th>146</th>\n",
       "      <td>667232504</td>\n",
       "      <td>positive</td>\n",
       "      <td>0.987398</td>\n",
       "      <td>5</td>\n",
       "      <td>2019-4</td>\n",
       "      <td>United Kingdom</td>\n",
       "      <td>This was my second time back, being younger th...</td>\n",
       "      <td>Disneyland_Paris</td>\n",
       "    </tr>\n",
       "  </tbody>\n",
       "</table>\n",
       "<p>147 rows × 8 columns</p>\n",
       "</div>"
      ],
      "text/plain": [
       "     Review_ID     Label     Score  Rating Year_Month     Reviewer_Location  \\\n",
       "0    670772142  positive  0.984786       4     2019-4             Australia   \n",
       "1    670682799  positive  0.858987       4     2019-5           Philippines   \n",
       "2    670623270  positive  0.898818       4     2019-4  United Arab Emirates   \n",
       "3    670607911  positive  0.863198       4     2019-4             Australia   \n",
       "4    670607296  positive   0.56407       4     2019-4        United Kingdom   \n",
       "..         ...       ...       ...     ...        ...                   ...   \n",
       "142  667573212   neutral  0.379349       3     2019-4        United Kingdom   \n",
       "143  667557905  negative  0.450606       3     2019-4         United States   \n",
       "144  667525007  positive  0.543937       5     2019-4        United Kingdom   \n",
       "145  667458156  positive  0.834823       4     2019-1        United Kingdom   \n",
       "146  667232504  positive  0.987398       5     2019-4        United Kingdom   \n",
       "\n",
       "                                           Review_Text               Branch  \n",
       "0    If you've ever been to Disneyland anywhere you...  Disneyland_HongKong  \n",
       "1    Its been a while since d last time we visit HK...  Disneyland_HongKong  \n",
       "2    Thanks God it wasn   t too hot or too humid wh...  Disneyland_HongKong  \n",
       "3    HK Disneyland is a great compact park. Unfortu...  Disneyland_HongKong  \n",
       "4    the location is not in the city, took around 1...  Disneyland_HongKong  \n",
       "..                                                 ...                  ...  \n",
       "142  I visited Disneyland Paris with my 2 nieces an...     Disneyland_Paris  \n",
       "143  Don't get my wrong, my family have been to Dis...     Disneyland_Paris  \n",
       "144  First time to Disneyland Paris. Really enjoyed...     Disneyland_Paris  \n",
       "145  We went to Disneyland in JanuraryWasnt as magi...     Disneyland_Paris  \n",
       "146  This was my second time back, being younger th...     Disneyland_Paris  \n",
       "\n",
       "[147 rows x 8 columns]"
      ]
     },
     "execution_count": 11,
     "metadata": {},
     "output_type": "execute_result"
    }
   ],
   "source": [
    "results_df = pd.DataFrame(res).T\n",
    "results_df = results_df.reset_index().rename(columns={'index': 'Review_ID',0: 'Label',1:'Score'})\n",
    "results_df = results_df.merge(df, how='left')\n",
    "results_df"
   ]
  },
  {
   "cell_type": "markdown",
   "id": "7f21b19a",
   "metadata": {},
   "source": [
    "Visualizing this, we can see the variety in sentiment across the 3 resorts and compare the the rating the customer gave in their review. For the positive reviews we see all 4* or 5* reviews which makes sense. The negative reviews have lower ratings with the California resort getting the lowest ratings off all resorts."
   ]
  },
  {
   "cell_type": "code",
   "execution_count": 12,
   "id": "ad251769",
   "metadata": {},
   "outputs": [
    {
     "data": {
      "text/plain": [
       "<Axes: xlabel='Label', ylabel='Rating'>"
      ]
     },
     "execution_count": 12,
     "metadata": {},
     "output_type": "execute_result"
    },
    {
     "data": {
      "image/png": "[encoded data removed]",
      "text/plain": [
       "<Figure size 640x480 with 1 Axes>"
      ]
     },
     "metadata": {},
     "output_type": "display_data"
    }
   ],
   "source": [
    "sns.barplot(data=results_df, x='Label', y='Rating', hue='Branch', errorbar=None)"
   ]
  },
  {
   "cell_type": "markdown",
   "id": "ba67d2d9",
   "metadata": {},
   "source": [
    " This consolidated dataset can be further analyzed, visualized, and in this example we will add it to our KDB.AI vector database to gain insights into the sentiments expressed in the reviews."
   ]
  },
  {
   "cell_type": "markdown",
   "id": "5793e6d7",
   "metadata": {},
   "source": [
    "## 3. Generate Embeddings\n",
    "\n",
    "Before adding to KDB.AI, we utilize the [Sentence Transformers](https://huggingface.co/sentence-transformers/all-MiniLM-L6-v2) library to perform text embedding. Text embedding is the process of converting textual data into numerical vectors that capture semantic meaning.\n",
    "\n",
    "The `embeddings` DataFrame provides a combined view of the original data we want to store as metadata in KDB.AI and the associated embeddings."
   ]
  },
  {
   "cell_type": "code",
   "execution_count": 13,
   "id": "7ab15e75",
   "metadata": {},
   "outputs": [
    {
     "data": {
      "text/html": [
       "<div>\n",
       "<style scoped>\n",
       "    .dataframe tbody tr th:only-of-type {\n",
       "        vertical-align: middle;\n",
       "    }\n",
       "\n",
       "    .dataframe tbody tr th {\n",
       "        vertical-align: top;\n",
       "    }\n",
       "\n",
       "    .dataframe thead th {\n",
       "        text-align: right;\n",
       "    }\n",
       "</style>\n",
       "<table border=\"1\" class=\"dataframe\">\n",
       "  <thead>\n",
       "    <tr style=\"text-align: right;\">\n",
       "      <th></th>\n",
       "      <th>Branch</th>\n",
       "      <th>Label</th>\n",
       "      <th>Score</th>\n",
       "      <th>Rating</th>\n",
       "      <th>Review_Text</th>\n",
       "      <th>embeddings</th>\n",
       "    </tr>\n",
       "  </thead>\n",
       "  <tbody>\n",
       "    <tr>\n",
       "      <th>0</th>\n",
       "      <td>Disneyland_HongKong</td>\n",
       "      <td>positive</td>\n",
       "      <td>0.984786</td>\n",
       "      <td>4</td>\n",
       "      <td>If you've ever been to Disneyland anywhere you...</td>\n",
       "      <td>[0.12519377, -0.047441833, 0.08718413, 0.01021...</td>\n",
       "    </tr>\n",
       "    <tr>\n",
       "      <th>1</th>\n",
       "      <td>Disneyland_HongKong</td>\n",
       "      <td>positive</td>\n",
       "      <td>0.858987</td>\n",
       "      <td>4</td>\n",
       "      <td>Its been a while since d last time we visit HK...</td>\n",
       "      <td>[0.047256127, -0.022195388, 0.12704654, -0.017...</td>\n",
       "    </tr>\n",
       "    <tr>\n",
       "      <th>2</th>\n",
       "      <td>Disneyland_HongKong</td>\n",
       "      <td>positive</td>\n",
       "      <td>0.898818</td>\n",
       "      <td>4</td>\n",
       "      <td>Thanks God it wasn   t too hot or too humid wh...</td>\n",
       "      <td>[0.102995664, 0.01865532, 0.1257222, 0.0850504...</td>\n",
       "    </tr>\n",
       "    <tr>\n",
       "      <th>3</th>\n",
       "      <td>Disneyland_HongKong</td>\n",
       "      <td>positive</td>\n",
       "      <td>0.863198</td>\n",
       "      <td>4</td>\n",
       "      <td>HK Disneyland is a great compact park. Unfortu...</td>\n",
       "      <td>[0.14166501, -0.016745638, 0.086689875, 0.0085...</td>\n",
       "    </tr>\n",
       "    <tr>\n",
       "      <th>4</th>\n",
       "      <td>Disneyland_HongKong</td>\n",
       "      <td>positive</td>\n",
       "      <td>0.56407</td>\n",
       "      <td>4</td>\n",
       "      <td>the location is not in the city, took around 1...</td>\n",
       "      <td>[0.113461755, 0.0044915043, 0.0656381, 0.05553...</td>\n",
       "    </tr>\n",
       "    <tr>\n",
       "      <th>...</th>\n",
       "      <td>...</td>\n",
       "      <td>...</td>\n",
       "      <td>...</td>\n",
       "      <td>...</td>\n",
       "      <td>...</td>\n",
       "      <td>...</td>\n",
       "    </tr>\n",
       "    <tr>\n",
       "      <th>142</th>\n",
       "      <td>Disneyland_Paris</td>\n",
       "      <td>neutral</td>\n",
       "      <td>0.379349</td>\n",
       "      <td>3</td>\n",
       "      <td>I visited Disneyland Paris with my 2 nieces an...</td>\n",
       "      <td>[0.108627796, -0.015511898, 0.080564946, -0.02...</td>\n",
       "    </tr>\n",
       "    <tr>\n",
       "      <th>143</th>\n",
       "      <td>Disneyland_Paris</td>\n",
       "      <td>negative</td>\n",
       "      <td>0.450606</td>\n",
       "      <td>3</td>\n",
       "      <td>Don't get my wrong, my family have been to Dis...</td>\n",
       "      <td>[0.08578645, -0.045992117, 0.11141084, -0.0063...</td>\n",
       "    </tr>\n",
       "    <tr>\n",
       "      <th>144</th>\n",
       "      <td>Disneyland_Paris</td>\n",
       "      <td>positive</td>\n",
       "      <td>0.543937</td>\n",
       "      <td>5</td>\n",
       "      <td>First time to Disneyland Paris. Really enjoyed...</td>\n",
       "      <td>[0.12477912, -0.040522363, 0.092204586, -0.066...</td>\n",
       "    </tr>\n",
       "    <tr>\n",
       "      <th>145</th>\n",
       "      <td>Disneyland_Paris</td>\n",
       "      <td>positive</td>\n",
       "      <td>0.834823</td>\n",
       "      <td>4</td>\n",
       "      <td>We went to Disneyland in JanuraryWasnt as magi...</td>\n",
       "      <td>[0.10855069, 0.030211926, 0.08613848, 0.043550...</td>\n",
       "    </tr>\n",
       "    <tr>\n",
       "      <th>146</th>\n",
       "      <td>Disneyland_Paris</td>\n",
       "      <td>positive</td>\n",
       "      <td>0.987398</td>\n",
       "      <td>5</td>\n",
       "      <td>This was my second time back, being younger th...</td>\n",
       "      <td>[0.037138227, -0.0023277667, 0.10841354, 0.039...</td>\n",
       "    </tr>\n",
       "  </tbody>\n",
       "</table>\n",
       "<p>147 rows × 6 columns</p>\n",
       "</div>"
      ],
      "text/plain": [
       "                  Branch     Label     Score  Rating  \\\n",
       "0    Disneyland_HongKong  positive  0.984786       4   \n",
       "1    Disneyland_HongKong  positive  0.858987       4   \n",
       "2    Disneyland_HongKong  positive  0.898818       4   \n",
       "3    Disneyland_HongKong  positive  0.863198       4   \n",
       "4    Disneyland_HongKong  positive   0.56407       4   \n",
       "..                   ...       ...       ...     ...   \n",
       "142     Disneyland_Paris   neutral  0.379349       3   \n",
       "143     Disneyland_Paris  negative  0.450606       3   \n",
       "144     Disneyland_Paris  positive  0.543937       5   \n",
       "145     Disneyland_Paris  positive  0.834823       4   \n",
       "146     Disneyland_Paris  positive  0.987398       5   \n",
       "\n",
       "                                           Review_Text  \\\n",
       "0    If you've ever been to Disneyland anywhere you...   \n",
       "1    Its been a while since d last time we visit HK...   \n",
       "2    Thanks God it wasn   t too hot or too humid wh...   \n",
       "3    HK Disneyland is a great compact park. Unfortu...   \n",
       "4    the location is not in the city, took around 1...   \n",
       "..                                                 ...   \n",
       "142  I visited Disneyland Paris with my 2 nieces an...   \n",
       "143  Don't get my wrong, my family have been to Dis...   \n",
       "144  First time to Disneyland Paris. Really enjoyed...   \n",
       "145  We went to Disneyland in JanuraryWasnt as magi...   \n",
       "146  This was my second time back, being younger th...   \n",
       "\n",
       "                                            embeddings  \n",
       "0    [0.12519377, -0.047441833, 0.08718413, 0.01021...  \n",
       "1    [0.047256127, -0.022195388, 0.12704654, -0.017...  \n",
       "2    [0.102995664, 0.01865532, 0.1257222, 0.0850504...  \n",
       "3    [0.14166501, -0.016745638, 0.086689875, 0.0085...  \n",
       "4    [0.113461755, 0.0044915043, 0.0656381, 0.05553...  \n",
       "..                                                 ...  \n",
       "142  [0.108627796, -0.015511898, 0.080564946, -0.02...  \n",
       "143  [0.08578645, -0.045992117, 0.11141084, -0.0063...  \n",
       "144  [0.12477912, -0.040522363, 0.092204586, -0.066...  \n",
       "145  [0.10855069, 0.030211926, 0.08613848, 0.043550...  \n",
       "146  [0.037138227, -0.0023277667, 0.10841354, 0.039...  \n",
       "\n",
       "[147 rows x 6 columns]"
      ]
     },
     "execution_count": 13,
     "metadata": {},
     "output_type": "execute_result"
    }
   ],
   "source": [
    "from sentence_transformers import SentenceTransformer\n",
    "embedding_model = SentenceTransformer(\"all-MiniLM-L6-v2\")\n",
    "\n",
    "def encode_text(text):\n",
    "    return embedding_model.encode(text)\n",
    "\n",
    "results_df['embeddings'] = results_df['Review_Text'].apply(encode_text)\n",
    "embeddings = results_df[[\"Branch\",\"Label\",\"Score\",\"Rating\",\"Review_Text\",\"embeddings\"]]\n",
    "embeddings"
   ]
  },
  {
   "cell_type": "markdown",
   "id": "70505eae-4138-4ba8-80e9-fc13c37d0b32",
   "metadata": {},
   "source": [
    "## 4. Store Embeddings in KDB.AI\n",
    "\n",
    "With the embeddings created, we need to store them in a vector database to enable efficient searching. KDB.AI is perfect for this task.\n",
    "\n",
    "### Connect to KDB.AI session\n",
    "\n",
    "To use KDB.AI, you will need two session details - a URL endpoint and an API key. To get these you can sign up for free [here](https://trykdb.kx.com/kdbai/signup).\n",
    "\n",
    "You can connect to a KDB.AI session using `kdbai.Session`. Enter the session URL endpoint and API key details from your KDB.AI Cloud portal below."
   ]
  },
  {
   "cell_type": "code",
   "execution_count": null,
   "id": "3b3a4932",
   "metadata": {},
   "outputs": [],
   "source": [
    "import kdbai_client as kdbai\n",
    "from getpass import getpass\n",
    "\n",
    "KDBAI_ENDPOINT = input('KDB.AI endpoint: ')\n",
    "KDBAI_API_KEY = getpass('KDB.AI API key: ')\n",
    "session = kdbai.Session(api_key=KDBAI_API_KEY, endpoint=KDBAI_ENDPOINT)"
   ]
  },
  {
   "cell_type": "markdown",
   "id": "48c6525c",
   "metadata": {},
   "source": [
    "### Define schema\n",
    "\n",
    "The next step is to define a schema for our KDB.AI table where we will store our embeddings.\n",
    "\n",
    "At this point you will select the index and metric you want to use for searching."
   ]
  },
  {
   "cell_type": "code",
   "execution_count": 39,
   "id": "af604df0",
   "metadata": {},
   "outputs": [],
   "source": [
    "review_schema = {\n",
    "    \"columns\": [\n",
    "        {\"name\": \"Branch\", \"pytype\": \"str\"},\n",
    "        {\"name\": \"Label\", \"pytype\": \"str\"},\n",
    "        {\"name\": \"Score\", \"pytype\": \"float64\"},\n",
    "        {\"name\": \"Rating\", \"pytype\": \"int64\"},\n",
    "        {\"name\": \"Review_Text\", \"pytype\": \"str\"},\n",
    "        {\n",
    "            \"name\": \"embeddings\",\n",
    "            \"vectorIndex\": {\"dims\": 384, \"metric\": \"CS\", \"type\": \"hnsw\"},\n",
    "        },\n",
    "    ]\n",
    "}"
   ]
  },
  {
   "cell_type": "markdown",
   "id": "518cfe1e",
   "metadata": {},
   "source": [
    "### Create and save table\n",
    "\n",
    "Use `create_table` to create table."
   ]
  },
  {
   "cell_type": "code",
   "execution_count": 49,
   "id": "e1d190db-7c19-418e-9140-3dff04c9d4c0",
   "metadata": {},
   "outputs": [],
   "source": [
    "table = session.create_table(\"review\", review_schema)"
   ]
  },
  {
   "cell_type": "markdown",
   "id": "466068bc",
   "metadata": {},
   "source": [
    "We can use `query` to see our table exists but is empty."
   ]
  },
  {
   "cell_type": "code",
   "execution_count": 52,
   "id": "74e7332e",
   "metadata": {},
   "outputs": [
    {
     "data": {
      "text/html": [
       "<div>\n",
       "<style scoped>\n",
       "    .dataframe tbody tr th:only-of-type {\n",
       "        vertical-align: middle;\n",
       "    }\n",
       "\n",
       "    .dataframe tbody tr th {\n",
       "        vertical-align: top;\n",
       "    }\n",
       "\n",
       "    .dataframe thead th {\n",
       "        text-align: right;\n",
       "    }\n",
       "</style>\n",
       "<table border=\"1\" class=\"dataframe\">\n",
       "  <thead>\n",
       "    <tr style=\"text-align: right;\">\n",
       "      <th></th>\n",
       "      <th>Branch</th>\n",
       "      <th>Label</th>\n",
       "      <th>Score</th>\n",
       "      <th>Rating</th>\n",
       "      <th>Review_Text</th>\n",
       "      <th>embeddings</th>\n",
       "    </tr>\n",
       "  </thead>\n",
       "  <tbody>\n",
       "  </tbody>\n",
       "</table>\n",
       "</div>"
      ],
      "text/plain": [
       "Empty DataFrame\n",
       "Columns: [Branch, Label, Score, Rating, Review_Text, embeddings]\n",
       "Index: []"
      ]
     },
     "execution_count": 52,
     "metadata": {},
     "output_type": "execute_result"
    }
   ],
   "source": [
    "table.query()"
   ]
  },
  {
   "cell_type": "markdown",
   "id": "9a0a9d0e-80b8-4e09-9101-d22667da551f",
   "metadata": {},
   "source": [
    "### Add embeddings to index"
   ]
  },
  {
   "cell_type": "code",
   "execution_count": 53,
   "id": "83cc156c-8071-4784-8c3e-a049b61e8668",
   "metadata": {},
   "outputs": [
    {
     "data": {
      "text/plain": [
       "True"
      ]
     },
     "execution_count": 53,
     "metadata": {},
     "output_type": "execute_result"
    }
   ],
   "source": [
    "table.insert(embeddings)"
   ]
  },
  {
   "cell_type": "markdown",
   "id": "e31a4ecd",
   "metadata": {},
   "source": [
    "Rerunning `query` we can now see the embeddings and metadata have been added."
   ]
  },
  {
   "cell_type": "code",
   "execution_count": 54,
   "id": "ee6ecb8d",
   "metadata": {},
   "outputs": [
    {
     "data": {
      "text/html": [
       "<div>\n",
       "<style scoped>\n",
       "    .dataframe tbody tr th:only-of-type {\n",
       "        vertical-align: middle;\n",
       "    }\n",
       "\n",
       "    .dataframe tbody tr th {\n",
       "        vertical-align: top;\n",
       "    }\n",
       "\n",
       "    .dataframe thead th {\n",
       "        text-align: right;\n",
       "    }\n",
       "</style>\n",
       "<table border=\"1\" class=\"dataframe\">\n",
       "  <thead>\n",
       "    <tr style=\"text-align: right;\">\n",
       "      <th></th>\n",
       "      <th>Branch</th>\n",
       "      <th>Label</th>\n",
       "      <th>Score</th>\n",
       "      <th>Rating</th>\n",
       "      <th>Review_Text</th>\n",
       "      <th>embeddings</th>\n",
       "    </tr>\n",
       "  </thead>\n",
       "  <tbody>\n",
       "    <tr>\n",
       "      <th>0</th>\n",
       "      <td>Disneyland_HongKong</td>\n",
       "      <td>positive</td>\n",
       "      <td>0.984786</td>\n",
       "      <td>4</td>\n",
       "      <td>If you've ever been to Disneyland anywhere you...</td>\n",
       "      <td>[0.12519377, -0.047441833, 0.08718413, 0.01021...</td>\n",
       "    </tr>\n",
       "    <tr>\n",
       "      <th>1</th>\n",
       "      <td>Disneyland_HongKong</td>\n",
       "      <td>positive</td>\n",
       "      <td>0.858987</td>\n",
       "      <td>4</td>\n",
       "      <td>Its been a while since d last time we visit HK...</td>\n",
       "      <td>[0.047256127, -0.022195388, 0.12704654, -0.017...</td>\n",
       "    </tr>\n",
       "    <tr>\n",
       "      <th>2</th>\n",
       "      <td>Disneyland_HongKong</td>\n",
       "      <td>positive</td>\n",
       "      <td>0.898818</td>\n",
       "      <td>4</td>\n",
       "      <td>Thanks God it wasn   t too hot or too humid wh...</td>\n",
       "      <td>[0.102995664, 0.01865532, 0.1257222, 0.0850504...</td>\n",
       "    </tr>\n",
       "    <tr>\n",
       "      <th>3</th>\n",
       "      <td>Disneyland_HongKong</td>\n",
       "      <td>positive</td>\n",
       "      <td>0.863198</td>\n",
       "      <td>4</td>\n",
       "      <td>HK Disneyland is a great compact park. Unfortu...</td>\n",
       "      <td>[0.14166501, -0.016745638, 0.086689875, 0.0085...</td>\n",
       "    </tr>\n",
       "    <tr>\n",
       "      <th>4</th>\n",
       "      <td>Disneyland_HongKong</td>\n",
       "      <td>positive</td>\n",
       "      <td>0.564070</td>\n",
       "      <td>4</td>\n",
       "      <td>the location is not in the city, took around 1...</td>\n",
       "      <td>[0.113461755, 0.0044915043, 0.0656381, 0.05553...</td>\n",
       "    </tr>\n",
       "    <tr>\n",
       "      <th>...</th>\n",
       "      <td>...</td>\n",
       "      <td>...</td>\n",
       "      <td>...</td>\n",
       "      <td>...</td>\n",
       "      <td>...</td>\n",
       "      <td>...</td>\n",
       "    </tr>\n",
       "    <tr>\n",
       "      <th>142</th>\n",
       "      <td>Disneyland_Paris</td>\n",
       "      <td>neutral</td>\n",
       "      <td>0.379349</td>\n",
       "      <td>3</td>\n",
       "      <td>I visited Disneyland Paris with my 2 nieces an...</td>\n",
       "      <td>[0.108627796, -0.015511898, 0.080564946, -0.02...</td>\n",
       "    </tr>\n",
       "    <tr>\n",
       "      <th>143</th>\n",
       "      <td>Disneyland_Paris</td>\n",
       "      <td>negative</td>\n",
       "      <td>0.450606</td>\n",
       "      <td>3</td>\n",
       "      <td>Don't get my wrong, my family have been to Dis...</td>\n",
       "      <td>[0.08578645, -0.045992117, 0.11141084, -0.0063...</td>\n",
       "    </tr>\n",
       "    <tr>\n",
       "      <th>144</th>\n",
       "      <td>Disneyland_Paris</td>\n",
       "      <td>positive</td>\n",
       "      <td>0.543937</td>\n",
       "      <td>5</td>\n",
       "      <td>First time to Disneyland Paris. Really enjoyed...</td>\n",
       "      <td>[0.12477912, -0.040522363, 0.092204586, -0.066...</td>\n",
       "    </tr>\n",
       "    <tr>\n",
       "      <th>145</th>\n",
       "      <td>Disneyland_Paris</td>\n",
       "      <td>positive</td>\n",
       "      <td>0.834823</td>\n",
       "      <td>4</td>\n",
       "      <td>We went to Disneyland in JanuraryWasnt as magi...</td>\n",
       "      <td>[0.10855069, 0.030211926, 0.08613848, 0.043550...</td>\n",
       "    </tr>\n",
       "    <tr>\n",
       "      <th>146</th>\n",
       "      <td>Disneyland_Paris</td>\n",
       "      <td>positive</td>\n",
       "      <td>0.987398</td>\n",
       "      <td>5</td>\n",
       "      <td>This was my second time back, being younger th...</td>\n",
       "      <td>[0.037138227, -0.0023277667, 0.10841354, 0.039...</td>\n",
       "    </tr>\n",
       "  </tbody>\n",
       "</table>\n",
       "<p>147 rows × 6 columns</p>\n",
       "</div>"
      ],
      "text/plain": [
       "                  Branch     Label     Score  Rating  \\\n",
       "0    Disneyland_HongKong  positive  0.984786       4   \n",
       "1    Disneyland_HongKong  positive  0.858987       4   \n",
       "2    Disneyland_HongKong  positive  0.898818       4   \n",
       "3    Disneyland_HongKong  positive  0.863198       4   \n",
       "4    Disneyland_HongKong  positive  0.564070       4   \n",
       "..                   ...       ...       ...     ...   \n",
       "142     Disneyland_Paris   neutral  0.379349       3   \n",
       "143     Disneyland_Paris  negative  0.450606       3   \n",
       "144     Disneyland_Paris  positive  0.543937       5   \n",
       "145     Disneyland_Paris  positive  0.834823       4   \n",
       "146     Disneyland_Paris  positive  0.987398       5   \n",
       "\n",
       "                                           Review_Text  \\\n",
       "0    If you've ever been to Disneyland anywhere you...   \n",
       "1    Its been a while since d last time we visit HK...   \n",
       "2    Thanks God it wasn   t too hot or too humid wh...   \n",
       "3    HK Disneyland is a great compact park. Unfortu...   \n",
       "4    the location is not in the city, took around 1...   \n",
       "..                                                 ...   \n",
       "142  I visited Disneyland Paris with my 2 nieces an...   \n",
       "143  Don't get my wrong, my family have been to Dis...   \n",
       "144  First time to Disneyland Paris. Really enjoyed...   \n",
       "145  We went to Disneyland in JanuraryWasnt as magi...   \n",
       "146  This was my second time back, being younger th...   \n",
       "\n",
       "                                            embeddings  \n",
       "0    [0.12519377, -0.047441833, 0.08718413, 0.01021...  \n",
       "1    [0.047256127, -0.022195388, 0.12704654, -0.017...  \n",
       "2    [0.102995664, 0.01865532, 0.1257222, 0.0850504...  \n",
       "3    [0.14166501, -0.016745638, 0.086689875, 0.0085...  \n",
       "4    [0.113461755, 0.0044915043, 0.0656381, 0.05553...  \n",
       "..                                                 ...  \n",
       "142  [0.108627796, -0.015511898, 0.080564946, -0.02...  \n",
       "143  [0.08578645, -0.045992117, 0.11141084, -0.0063...  \n",
       "144  [0.12477912, -0.040522363, 0.092204586, -0.066...  \n",
       "145  [0.10855069, 0.030211926, 0.08613848, 0.043550...  \n",
       "146  [0.037138227, -0.0023277667, 0.10841354, 0.039...  \n",
       "\n",
       "[147 rows x 6 columns]"
      ]
     },
     "execution_count": 54,
     "metadata": {},
     "output_type": "execute_result"
    }
   ],
   "source": [
    "table.query()"
   ]
  },
  {
   "cell_type": "markdown",
   "id": "f448f100",
   "metadata": {},
   "source": [
    "## 5. Flexible Searching\n",
    "\n",
    "Next, let's create a function to let us perform a search, retrieve relevant results, and return them in a DataFrame format, allowing for further analysis or examination of the retrieved data."
   ]
  },
  {
   "cell_type": "code",
   "execution_count": 47,
   "id": "5991de18",
   "metadata": {},
   "outputs": [],
   "source": [
    "def search_and_extract_results(search_term, n):\n",
    "    # Encode the search term\n",
    "    search_term_embedded = [embedding_model.encode(search_term).tolist()]\n",
    "\n",
    "    # Perform the search\n",
    "    results = table.search(search_term_embedded, n=n)\n",
    "\n",
    "    # Extract the results to a DataFrame\n",
    "    if results:\n",
    "        results_df = results[0].drop('embeddings', axis=1)\n",
    "        return results_df\n",
    "    else:\n",
    "        return None  # Return None if no results are found"
   ]
  },
  {
   "cell_type": "markdown",
   "id": "1903f487",
   "metadata": {},
   "source": [
    "Let's try with a query, calling with the search term \"are customers satisfied with the food at the park?\" and requesting 10 results. "
   ]
  },
  {
   "cell_type": "code",
   "execution_count": 51,
   "id": "cc6bd3df",
   "metadata": {},
   "outputs": [
    {
     "data": {
      "text/html": [
       "<div>\n",
       "<style scoped>\n",
       "    .dataframe tbody tr th:only-of-type {\n",
       "        vertical-align: middle;\n",
       "    }\n",
       "\n",
       "    .dataframe tbody tr th {\n",
       "        vertical-align: top;\n",
       "    }\n",
       "\n",
       "    .dataframe thead th {\n",
       "        text-align: right;\n",
       "    }\n",
       "</style>\n",
       "<table border=\"1\" class=\"dataframe\">\n",
       "  <thead>\n",
       "    <tr style=\"text-align: right;\">\n",
       "      <th></th>\n",
       "      <th>Branch</th>\n",
       "      <th>Label</th>\n",
       "      <th>Score</th>\n",
       "      <th>Rating</th>\n",
       "      <th>Review_Text</th>\n",
       "      <th>__nn_distance</th>\n",
       "    </tr>\n",
       "  </thead>\n",
       "  <tbody>\n",
       "    <tr>\n",
       "      <th>0</th>\n",
       "      <td>Disneyland_Paris</td>\n",
       "      <td>negative</td>\n",
       "      <td>0.914860</td>\n",
       "      <td>2</td>\n",
       "      <td>Visited the Park today   20 4   and can conclu...</td>\n",
       "      <td>0.600825</td>\n",
       "    </tr>\n",
       "    <tr>\n",
       "      <th>1</th>\n",
       "      <td>Disneyland_California</td>\n",
       "      <td>positive</td>\n",
       "      <td>0.763060</td>\n",
       "      <td>5</td>\n",
       "      <td>I wish they had better food restaurant choices...</td>\n",
       "      <td>0.568034</td>\n",
       "    </tr>\n",
       "    <tr>\n",
       "      <th>2</th>\n",
       "      <td>Disneyland_California</td>\n",
       "      <td>positive</td>\n",
       "      <td>0.962652</td>\n",
       "      <td>5</td>\n",
       "      <td>We found this park to provide family friendly ...</td>\n",
       "      <td>0.492384</td>\n",
       "    </tr>\n",
       "    <tr>\n",
       "      <th>3</th>\n",
       "      <td>Disneyland_Paris</td>\n",
       "      <td>negative</td>\n",
       "      <td>0.450606</td>\n",
       "      <td>3</td>\n",
       "      <td>Don't get my wrong, my family have been to Dis...</td>\n",
       "      <td>0.483248</td>\n",
       "    </tr>\n",
       "    <tr>\n",
       "      <th>4</th>\n",
       "      <td>Disneyland_HongKong</td>\n",
       "      <td>positive</td>\n",
       "      <td>0.985430</td>\n",
       "      <td>3</td>\n",
       "      <td>The park is great if this is the only amusemen...</td>\n",
       "      <td>0.477172</td>\n",
       "    </tr>\n",
       "    <tr>\n",
       "      <th>5</th>\n",
       "      <td>Disneyland_Paris</td>\n",
       "      <td>positive</td>\n",
       "      <td>0.905848</td>\n",
       "      <td>5</td>\n",
       "      <td>I just Love Disneyland ParkBeen there several ...</td>\n",
       "      <td>0.464798</td>\n",
       "    </tr>\n",
       "    <tr>\n",
       "      <th>6</th>\n",
       "      <td>Disneyland_Paris</td>\n",
       "      <td>negative</td>\n",
       "      <td>0.646106</td>\n",
       "      <td>2</td>\n",
       "      <td>I know Disneyland is a money machine but hadn ...</td>\n",
       "      <td>0.448986</td>\n",
       "    </tr>\n",
       "    <tr>\n",
       "      <th>7</th>\n",
       "      <td>Disneyland_Paris</td>\n",
       "      <td>negative</td>\n",
       "      <td>0.861247</td>\n",
       "      <td>1</td>\n",
       "      <td>Its a shame this park carry the name Disney......</td>\n",
       "      <td>0.447803</td>\n",
       "    </tr>\n",
       "    <tr>\n",
       "      <th>8</th>\n",
       "      <td>Disneyland_Paris</td>\n",
       "      <td>positive</td>\n",
       "      <td>0.882301</td>\n",
       "      <td>5</td>\n",
       "      <td>First time at Disneyland Paris and had the mos...</td>\n",
       "      <td>0.445165</td>\n",
       "    </tr>\n",
       "    <tr>\n",
       "      <th>9</th>\n",
       "      <td>Disneyland_California</td>\n",
       "      <td>positive</td>\n",
       "      <td>0.376557</td>\n",
       "      <td>3</td>\n",
       "      <td>Took my son to the Park on a weekend(Fri Sun)....</td>\n",
       "      <td>0.438407</td>\n",
       "    </tr>\n",
       "  </tbody>\n",
       "</table>\n",
       "</div>"
      ],
      "text/plain": [
       "                  Branch     Label     Score  Rating  \\\n",
       "0       Disneyland_Paris  negative  0.914860       2   \n",
       "1  Disneyland_California  positive  0.763060       5   \n",
       "2  Disneyland_California  positive  0.962652       5   \n",
       "3       Disneyland_Paris  negative  0.450606       3   \n",
       "4    Disneyland_HongKong  positive  0.985430       3   \n",
       "5       Disneyland_Paris  positive  0.905848       5   \n",
       "6       Disneyland_Paris  negative  0.646106       2   \n",
       "7       Disneyland_Paris  negative  0.861247       1   \n",
       "8       Disneyland_Paris  positive  0.882301       5   \n",
       "9  Disneyland_California  positive  0.376557       3   \n",
       "\n",
       "                                         Review_Text  __nn_distance  \n",
       "0  Visited the Park today   20 4   and can conclu...       0.600825  \n",
       "1  I wish they had better food restaurant choices...       0.568034  \n",
       "2  We found this park to provide family friendly ...       0.492384  \n",
       "3  Don't get my wrong, my family have been to Dis...       0.483248  \n",
       "4  The park is great if this is the only amusemen...       0.477172  \n",
       "5  I just Love Disneyland ParkBeen there several ...       0.464798  \n",
       "6  I know Disneyland is a money machine but hadn ...       0.448986  \n",
       "7  Its a shame this park carry the name Disney......       0.447803  \n",
       "8  First time at Disneyland Paris and had the mos...       0.445165  \n",
       "9  Took my son to the Park on a weekend(Fri Sun)....       0.438407  "
      ]
     },
     "execution_count": 51,
     "metadata": {},
     "output_type": "execute_result"
    }
   ],
   "source": [
    "search_and_extract_results(\"are customers satisfied with the food at the park?\",10)"
   ]
  },
  {
   "cell_type": "markdown",
   "id": "87116d87",
   "metadata": {},
   "source": [
    "### Group results by resort\n",
    "\n",
    "This functions provides a convenient way to perform sentiment analysis on reviews or data associated with different branches or contexts, aggregating sentiment counts for each branch based on a given search term. \n",
    "\n",
    "It enables insights into the sentiments expressed in reviews within specific contexts, which can be valuable for analyzing customer feedback and making data-driven decisions."
   ]
  },
  {
   "cell_type": "code",
   "execution_count": 57,
   "id": "6f4a2dbd",
   "metadata": {},
   "outputs": [],
   "source": [
    "def sentiment_counts_by_resort(search_term, n):\n",
    "    result = search_and_extract_results(search_term, n)\n",
    "    def sentiment_counts(result):\n",
    "        # Store count of sentiment labels\n",
    "        sentiments = {\n",
    "            \"negative\": 0,\n",
    "            \"neutral\": 0,\n",
    "            \"positive\": 0,\n",
    "        }\n",
    "        # Iterate through search results\n",
    "        for index, row in result.iterrows():\n",
    "            # Extract the sentiment label and increase its count\n",
    "            label = row[\"Label\"]\n",
    "            sentiments[label] += 1\n",
    "        return sentiments\n",
    "\n",
    "    grouped_df = result.groupby(\"Branch\").apply(sentiment_counts).reset_index()\n",
    "    grouped_df.columns = [\"Branch\", \"Sentiments\"]\n",
    "    return grouped_df"
   ]
  },
  {
   "cell_type": "code",
   "execution_count": 58,
   "id": "d9521679",
   "metadata": {},
   "outputs": [
    {
     "data": {
      "text/html": [
       "<div>\n",
       "<style scoped>\n",
       "    .dataframe tbody tr th:only-of-type {\n",
       "        vertical-align: middle;\n",
       "    }\n",
       "\n",
       "    .dataframe tbody tr th {\n",
       "        vertical-align: top;\n",
       "    }\n",
       "\n",
       "    .dataframe thead th {\n",
       "        text-align: right;\n",
       "    }\n",
       "</style>\n",
       "<table border=\"1\" class=\"dataframe\">\n",
       "  <thead>\n",
       "    <tr style=\"text-align: right;\">\n",
       "      <th></th>\n",
       "      <th>Branch</th>\n",
       "      <th>Sentiments</th>\n",
       "    </tr>\n",
       "  </thead>\n",
       "  <tbody>\n",
       "    <tr>\n",
       "      <th>0</th>\n",
       "      <td>Disneyland_California</td>\n",
       "      <td>{'negative': 2, 'neutral': 0, 'positive': 8}</td>\n",
       "    </tr>\n",
       "    <tr>\n",
       "      <th>1</th>\n",
       "      <td>Disneyland_HongKong</td>\n",
       "      <td>{'negative': 1, 'neutral': 0, 'positive': 5}</td>\n",
       "    </tr>\n",
       "    <tr>\n",
       "      <th>2</th>\n",
       "      <td>Disneyland_Paris</td>\n",
       "      <td>{'negative': 4, 'neutral': 0, 'positive': 5}</td>\n",
       "    </tr>\n",
       "  </tbody>\n",
       "</table>\n",
       "</div>"
      ],
      "text/plain": [
       "                  Branch                                    Sentiments\n",
       "0  Disneyland_California  {'negative': 2, 'neutral': 0, 'positive': 8}\n",
       "1    Disneyland_HongKong  {'negative': 1, 'neutral': 0, 'positive': 5}\n",
       "2       Disneyland_Paris  {'negative': 4, 'neutral': 0, 'positive': 5}"
      ]
     },
     "execution_count": 58,
     "metadata": {},
     "output_type": "execute_result"
    }
   ],
   "source": [
    "sentiment_counts_by_resort(\"are customers satisfied with the food at the park?\",25)"
   ]
  },
  {
   "cell_type": "markdown",
   "id": "122f99f5",
   "metadata": {},
   "source": [
    "### Visualization function\n",
    "\n",
    "To further improve the interpretability of the results let's define some functions for visualization."
   ]
  },
  {
   "cell_type": "code",
   "execution_count": 93,
   "id": "aea99cac",
   "metadata": {},
   "outputs": [],
   "source": [
    "def plot_sentiment(search_term, n):\n",
    "    df = sentiment_counts_by_park(search_term,n)\n",
    "    dfs_per_branch = []\n",
    "\n",
    "    # Iterate through the branches and create separate DataFrames\n",
    "    for index, row in df.iterrows():\n",
    "        branch_name = row[\"Branch\"]\n",
    "        sentiment_counts = row[\"Sentiments\"]\n",
    "\n",
    "        # Create a DataFrame from the sentiment_counts dictionary\n",
    "        sentiment_df = pd.DataFrame([sentiment_counts])\n",
    "\n",
    "        # Add a \"Branch\" column to identify the branch\n",
    "        sentiment_df[\"Branch\"] = branch_name\n",
    "\n",
    "        dfs_per_branch.append(sentiment_df)\n",
    "\n",
    "    # Concatenate all DataFrames into one\n",
    "    final_df = pd.concat(dfs_per_branch, ignore_index=True)\n",
    "\n",
    "    # Melt the DataFrame for easier plotting\n",
    "    final_df = final_df.melt(id_vars=[\"Branch\"], var_name=\"Sentiment\", value_name=\"Count\")\n",
    "\n",
    "    # Create a bar plot with different colors per Branch and a legend\n",
    "    plt.figure(figsize=(10, 4))\n",
    "    sns.barplot(x=\"Sentiment\", y=\"Count\", hue=\"Branch\", data=final_df)\n",
    "    plt.title(search_term)\n",
    "    plt.ylabel(\"Number of Reviews\")\n",
    "    plt.xticks(rotation=45)\n",
    "    plt.legend(title=\"Park\", loc=\"upper right\")\n",
    "    plt.show()\n",
    "\n",
    "pd.set_option('display.max_colwidth', 200)"
   ]
  },
  {
   "cell_type": "markdown",
   "id": "bcbd62f1",
   "metadata": {},
   "source": [
    "### Guest satisfaction with rides and attractions"
   ]
  },
  {
   "cell_type": "code",
   "execution_count": 94,
   "id": "a23cf52c",
   "metadata": {},
   "outputs": [
    {
     "name": "stdout",
     "output_type": "stream",
     "text": [
      "Top 3 matches: 0    We didn't realise it was school holidays when we went, so consequently it was extremely busy with ride wait times of up to 95 minutes or more, which was disappointing. We only went on 2 rides (Ind...\n",
      "1              We had a terrific time at Disneyland HongKong   rides were fun, waiting times ok, shows were enjoyable, very clean, staff super friendly   only let down was average food but to be expected.\n",
      "2    It was amazing excellent exciting family tour in which we find our children excited happy enjoying from entering Disney land till leaving it all we enjoyed are the smiles and joy on our children  ...\n",
      "Name: Review_Text, dtype: object\n"
     ]
    },
    {
     "data": {
      "image/png": "[encoded data removed]",
      "text/plain": [
       "<Figure size 1000x400 with 1 Axes>"
      ]
     },
     "metadata": {},
     "output_type": "display_data"
    }
   ],
   "source": [
    "query = \"what did guests think of the rides and attractions?\"\n",
    "n=50\n",
    "print('Top 3 matches:', search_and_extract_results(query,n)[:3][\"Review_Text\"])\n",
    "plot_sentiment(query,n)"
   ]
  },
  {
   "cell_type": "markdown",
   "id": "e4312c00",
   "metadata": {},
   "source": [
    "We can see the guests are extremely satisfied with the rides and attractions at all 3 resorts with Disneyland California coming out on top with no negative reviews related to rides and attractions."
   ]
  },
  {
   "cell_type": "markdown",
   "id": "1899ecdc",
   "metadata": {},
   "source": [
    "### Guest satisfaction with food"
   ]
  },
  {
   "cell_type": "code",
   "execution_count": 98,
   "id": "83d17e7a",
   "metadata": {},
   "outputs": [
    {
     "name": "stdout",
     "output_type": "stream",
     "text": [
      "Top 3 matches: 0    Visited the Park today   20 4   and can conclude that they simply let too many people in. Already at opening, queues at the attractions where 1 hour plus. At midday   the so called fast track was ...\n",
      "1                                                                                             I wish they had better food restaurant choices, but the attractions make up for this deficit so it's all good.\n",
      "2    We found this park to provide family friendly fun with a variety of shows and rides. We pre paid our tickets to save time which was a benefit and were glad we paid extra for the park hopper ticket...\n",
      "Name: Review_Text, dtype: object\n"
     ]
    },
    {
     "data": {
      "image/png": "[encoded data removed]",
      "text/plain": [
       "<Figure size 1000x400 with 1 Axes>"
      ]
     },
     "metadata": {},
     "output_type": "display_data"
    }
   ],
   "source": [
    "query = \"are customers satisfied with the food at the park?\"\n",
    "n=50\n",
    "print('Top 3 matches:', search_and_extract_results(query,n)[:3][\"Review_Text\"])\n",
    "plot_sentiment(query,n)"
   ]
  },
  {
   "cell_type": "markdown",
   "id": "f6bbbc64",
   "metadata": {},
   "source": [
    "Things don't fare as well when it comes to satisfaction on the food at each resort, we see a lot more negative food related reviews especially for Disneyland Paris."
   ]
  },
  {
   "cell_type": "markdown",
   "id": "8c4f1d47",
   "metadata": {},
   "source": [
    "### Guest satisfaction with staff"
   ]
  },
  {
   "cell_type": "code",
   "execution_count": 109,
   "id": "a72a1067",
   "metadata": {
    "scrolled": true
   },
   "outputs": [
    {
     "name": "stdout",
     "output_type": "stream",
     "text": [
      "Top 3 matches: 0    This was very disappointing on this visit, three times in last four years. A number of the attraction s being closed and queues being very large for some of the rides. There appeared to be. A shor...\n",
      "1    First time at Disneyland Paris and had the most magical time. Loved that there were bigger rides for thrill seekers. Wait times not always accurate which was annoying as you lined up for a 20 minu...\n",
      "2    Took a five year old and a two year old. Could not fault anything other than a hire pram being pinched, which was quickly replaced.  Staff amazing. If you can stay at one of the hotels, do so.  Ma...\n",
      "Name: Review_Text, dtype: object\n"
     ]
    },
    {
     "data": {
      "image/png": "[encoded data removed]",
      "text/plain": [
       "<Figure size 1000x400 with 1 Axes>"
      ]
     },
     "metadata": {},
     "output_type": "display_data"
    }
   ],
   "source": [
    "query = \"what did guests think of the staff?\"\n",
    "n=50\n",
    "print('Top 3 matches:', search_and_extract_results(query,n)[:3][\"Review_Text\"])\n",
    "plot_sentiment(query,n)"
   ]
  },
  {
   "cell_type": "markdown",
   "id": "ca5e2cbf",
   "metadata": {},
   "source": [
    "Similarly for satisfaction with the staff - the most amount of negative reviews are coming for Disneyland Paris with less for California and none for Hong Kong.\n",
    "\n",
    "Of course we took a subset of data - just 150 of the 42,000 reviews so to get more meaningful insights it would be a good idea to run the analysis on the full dataset."
   ]
  }
 ],
 "metadata": {
  "kernelspec": {
   "display_name": "Python 3 (ipykernel)",
   "language": "python",
   "name": "python3"
  },
  "language_info": {
   "codemirror_mode": {
    "name": "ipython",
    "version": 3
   },
   "file_extension": ".py",
   "mimetype": "text/x-python",
   "name": "python",
   "nbconvert_exporter": "python",
   "pygments_lexer": "ipython3",
   "version": "3.9.2"
  }
 },
 "nbformat": 4,
 "nbformat_minor": 5
}
