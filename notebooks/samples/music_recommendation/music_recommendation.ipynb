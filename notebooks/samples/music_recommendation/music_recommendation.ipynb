{
 "cells": [
  {
   "cell_type": "markdown",
   "id": "1c9731fb",
   "metadata": {},
   "source": [
    "# Music Recommendation with KDB.AI\n",
    "\n",
    "This example demonstrates how you can use KDB.AI to perform similarity recommendations using vector embeddings created from both categorical and numeric music data.\n",
    "\n",
    "Applications like Spotify and YouTube Music perform hundreds of millions of song recommendations for users every single day. They do this by extracting a vast array of features about every given song and artist and comparing their characteristics.\n",
    "By leveraging this sort of data, KDB.AI can be used to productionize a music recommendation system and help to quickly and efficiently find music similar to given input songs.\n",
    "\n",
    "In this tutorial, we'll break down how you might perform similarity search on music, taking some Spotify data as an example and using KDB.AI as the vector database to store and query this data.\n",
    "This breaks down as follows:\n",
    "\n",
    "1. Read In Song Data\n",
    "1. Create Vector Embeddings\n",
    "1. Create KDB.AI Vector Database\n",
    "1. Query Songs From Vector Database"
   ]
  },
  {
   "cell_type": "markdown",
   "id": "5a3605c7",
   "metadata": {},
   "source": [
    "## 1. Setup"
   ]
  },
  {
   "cell_type": "markdown",
   "id": "37f9672c",
   "metadata": {},
   "source": [
    "### Import Packages"
   ]
  },
  {
   "cell_type": "markdown",
   "id": "115f7122",
   "metadata": {},
   "source": [
    "We will start by importing all of the Python packages needed to run this music recommendation system example.\n",
    "This includes packages for reading in the data, embedding it as vectors, and interacting with the vector database."
   ]
  },
  {
   "cell_type": "code",
   "execution_count": 1,
   "id": "f4ff5f5c",
   "metadata": {},
   "outputs": [
    {
     "name": "stdout",
     "output_type": "stream",
     "text": [
      "Note: you may need to restart the kernel to use updated packages.\n"
     ]
    }
   ],
   "source": [
    "%pip install -U gensim kdbai_client -q"
   ]
  },
  {
   "cell_type": "code",
   "execution_count": 2,
   "id": "2d851ae9",
   "metadata": {},
   "outputs": [],
   "source": [
    "import pandas as pd\n",
    "import numpy as np"
   ]
  },
  {
   "cell_type": "code",
   "execution_count": 3,
   "id": "b91bc28a",
   "metadata": {},
   "outputs": [],
   "source": [
    "# embedding categorical data\n",
    "from nltk.tokenize import sent_tokenize, word_tokenize\n",
    "from gensim.models import Word2Vec"
   ]
  },
  {
   "cell_type": "code",
   "execution_count": 4,
   "id": "cc5a0f0c",
   "metadata": {},
   "outputs": [],
   "source": [
    "# embedding numeric data\n",
    "from sklearn.preprocessing import StandardScaler"
   ]
  },
  {
   "cell_type": "code",
   "execution_count": 34,
   "id": "afa4c3cd",
   "metadata": {},
   "outputs": [],
   "source": [
    "# vector DB\n",
    "import kdbai_client as kdbai\n",
    "from getpass import getpass"
   ]
  },
  {
   "cell_type": "code",
   "execution_count": 6,
   "id": "33e34c9b",
   "metadata": {},
   "outputs": [
    {
     "name": "stderr",
     "output_type": "stream",
     "text": [
      "[nltk_data] Downloading package punkt to /home/mwoods/nltk_data...\n",
      "[nltk_data]   Package punkt is already up-to-date!\n"
     ]
    },
    {
     "data": {
      "text/plain": [
       "True"
      ]
     },
     "execution_count": 6,
     "metadata": {},
     "output_type": "execute_result"
    }
   ],
   "source": [
    "# tokeniser\n",
    "import nltk\n",
    "nltk.download('punkt')"
   ]
  },
  {
   "cell_type": "markdown",
   "id": "95be3259",
   "metadata": {},
   "source": [
    "### Configure Console"
   ]
  },
  {
   "cell_type": "markdown",
   "id": "ec282385",
   "metadata": {},
   "source": [
    "In order to fully view our embeddings when it comes to displaying the results, we must increase the maximum allowed column width in Pandas DataFrames from the default value."
   ]
  },
  {
   "cell_type": "code",
   "execution_count": 7,
   "id": "b4f29527",
   "metadata": {},
   "outputs": [],
   "source": [
    "pd.set_option(\"max_colwidth\", 1000)"
   ]
  },
  {
   "cell_type": "markdown",
   "id": "4edaa685",
   "metadata": {},
   "source": [
    "This removes a warning that appears when performing in-place column assignment."
   ]
  },
  {
   "cell_type": "code",
   "execution_count": 8,
   "id": "d28588d9",
   "metadata": {},
   "outputs": [],
   "source": [
    "pd.options.mode.chained_assignment = None"
   ]
  },
  {
   "cell_type": "markdown",
   "id": "fc36e465",
   "metadata": {},
   "source": [
    "### Define Helper Functions"
   ]
  },
  {
   "cell_type": "markdown",
   "id": "10f01f99",
   "metadata": {},
   "source": [
    "Defining these two helper functions will allow us to easily show the shape and head of any Pandas DataFrames or embedding arrays passed."
   ]
  },
  {
   "cell_type": "code",
   "execution_count": 9,
   "id": "bf07de0a",
   "metadata": {},
   "outputs": [],
   "source": [
    "def show_df(df: pd.DataFrame) -> pd.DataFrame:\n",
    "    print(df.shape)\n",
    "    return df.head()"
   ]
  },
  {
   "cell_type": "code",
   "execution_count": 11,
   "id": "082ccef4",
   "metadata": {},
   "outputs": [],
   "source": [
    "def show_embeddings(embeddings: np.array) -> list[int]:\n",
    "    print(\"Num Embeddings:\", len(embeddings))\n",
    "    print(\"Embedding Size:\", len(embeddings[0]))\n",
    "    return list(embeddings[0])"
   ]
  },
  {
   "cell_type": "markdown",
   "id": "3f889dd7",
   "metadata": {},
   "source": [
    "## 2. Read in Song Data"
   ]
  },
  {
   "cell_type": "markdown",
   "id": "24da7ed7",
   "metadata": {},
   "source": [
    "The song data we will read in will be taken from an [open-source Spotify dataset](https://www.kaggle.com/datasets/vatsalmavani/spotify-dataset) on Kaggle. There are 5 files on Kaggle, however, only one file is relevant to this analysis.\n",
    "This dataset contains a list of metadata on 170,000 songs from 1921 to 2020. This metadata includes:\n",
    "- Song Name\n",
    "- Artist Name\n",
    "- Song Year\n",
    "- Various features about the song's music, including:\n",
    "    * acousticness\n",
    "    * danceability\n",
    "    * duration_ms\n",
    "    * energy\n",
    "    * explicit\n",
    "    * instrumentalness\n",
    "    * key\n",
    "    * liveness\n",
    "    * loudness\n",
    "    * mode\n",
    "    * popularity\n",
    "    * release_date\n",
    "    * speechiness\n",
    "    * tempo\n",
    "    * valence\n",
    "   "
   ]
  },
  {
   "cell_type": "markdown",
   "id": "19c148de",
   "metadata": {},
   "source": [
    "### Read Data from CSV"
   ]
  },
  {
   "cell_type": "markdown",
   "id": "ecc57e87",
   "metadata": {},
   "source": [
    "We can read this song data from a CSV into a Pandas DataFrame and show the resulting table."
   ]
  },
  {
   "cell_type": "code",
   "execution_count": 12,
   "id": "1e138b0a",
   "metadata": {},
   "outputs": [],
   "source": [
    "raw_song_df = pd.read_csv(\"data/song_data.csv\")"
   ]
  },
  {
   "cell_type": "code",
   "execution_count": 13,
   "id": "70881392",
   "metadata": {},
   "outputs": [
    {
     "name": "stdout",
     "output_type": "stream",
     "text": [
      "(170653, 19)\n"
     ]
    },
    {
     "data": {
      "text/html": [
       "<div>\n",
       "<style scoped>\n",
       "    .dataframe tbody tr th:only-of-type {\n",
       "        vertical-align: middle;\n",
       "    }\n",
       "\n",
       "    .dataframe tbody tr th {\n",
       "        vertical-align: top;\n",
       "    }\n",
       "\n",
       "    .dataframe thead th {\n",
       "        text-align: right;\n",
       "    }\n",
       "</style>\n",
       "<table border=\"1\" class=\"dataframe\">\n",
       "  <thead>\n",
       "    <tr style=\"text-align: right;\">\n",
       "      <th></th>\n",
       "      <th>id</th>\n",
       "      <th>name</th>\n",
       "      <th>artists</th>\n",
       "      <th>acousticness</th>\n",
       "      <th>danceability</th>\n",
       "      <th>duration_ms</th>\n",
       "      <th>energy</th>\n",
       "      <th>explicit</th>\n",
       "      <th>instrumentalness</th>\n",
       "      <th>key</th>\n",
       "      <th>liveness</th>\n",
       "      <th>loudness</th>\n",
       "      <th>mode</th>\n",
       "      <th>popularity</th>\n",
       "      <th>release_date</th>\n",
       "      <th>speechiness</th>\n",
       "      <th>tempo</th>\n",
       "      <th>valence</th>\n",
       "      <th>year</th>\n",
       "    </tr>\n",
       "  </thead>\n",
       "  <tbody>\n",
       "    <tr>\n",
       "      <th>0</th>\n",
       "      <td>4BJqT0PrAfrxzMOxytFOIz</td>\n",
       "      <td>Piano Concerto No. 3 in D Minor, Op. 30: III. Finale. Alla breve</td>\n",
       "      <td>['Sergei Rachmaninoff', 'James Levine', 'Berliner Philharmoniker']</td>\n",
       "      <td>0.982</td>\n",
       "      <td>0.279</td>\n",
       "      <td>831667</td>\n",
       "      <td>0.211</td>\n",
       "      <td>0</td>\n",
       "      <td>0.878000</td>\n",
       "      <td>10</td>\n",
       "      <td>0.665</td>\n",
       "      <td>-20.096</td>\n",
       "      <td>1</td>\n",
       "      <td>4</td>\n",
       "      <td>1921</td>\n",
       "      <td>0.0366</td>\n",
       "      <td>80.954</td>\n",
       "      <td>0.0594</td>\n",
       "      <td>1921</td>\n",
       "    </tr>\n",
       "    <tr>\n",
       "      <th>1</th>\n",
       "      <td>7xPhfUan2yNtyFG0cUWkt8</td>\n",
       "      <td>Clancy Lowered the Boom</td>\n",
       "      <td>['Dennis Day']</td>\n",
       "      <td>0.732</td>\n",
       "      <td>0.819</td>\n",
       "      <td>180533</td>\n",
       "      <td>0.341</td>\n",
       "      <td>0</td>\n",
       "      <td>0.000000</td>\n",
       "      <td>7</td>\n",
       "      <td>0.160</td>\n",
       "      <td>-12.441</td>\n",
       "      <td>1</td>\n",
       "      <td>5</td>\n",
       "      <td>1921</td>\n",
       "      <td>0.4150</td>\n",
       "      <td>60.936</td>\n",
       "      <td>0.9630</td>\n",
       "      <td>1921</td>\n",
       "    </tr>\n",
       "    <tr>\n",
       "      <th>2</th>\n",
       "      <td>1o6I8BglA6ylDMrIELygv1</td>\n",
       "      <td>Gati Bali</td>\n",
       "      <td>['KHP Kridhamardawa Karaton Ngayogyakarta Hadiningrat']</td>\n",
       "      <td>0.961</td>\n",
       "      <td>0.328</td>\n",
       "      <td>500062</td>\n",
       "      <td>0.166</td>\n",
       "      <td>0</td>\n",
       "      <td>0.913000</td>\n",
       "      <td>3</td>\n",
       "      <td>0.101</td>\n",
       "      <td>-14.850</td>\n",
       "      <td>1</td>\n",
       "      <td>5</td>\n",
       "      <td>1921</td>\n",
       "      <td>0.0339</td>\n",
       "      <td>110.339</td>\n",
       "      <td>0.0394</td>\n",
       "      <td>1921</td>\n",
       "    </tr>\n",
       "    <tr>\n",
       "      <th>3</th>\n",
       "      <td>3ftBPsC5vPBKxYSee08FDH</td>\n",
       "      <td>Danny Boy</td>\n",
       "      <td>['Frank Parker']</td>\n",
       "      <td>0.967</td>\n",
       "      <td>0.275</td>\n",
       "      <td>210000</td>\n",
       "      <td>0.309</td>\n",
       "      <td>0</td>\n",
       "      <td>0.000028</td>\n",
       "      <td>5</td>\n",
       "      <td>0.381</td>\n",
       "      <td>-9.316</td>\n",
       "      <td>1</td>\n",
       "      <td>3</td>\n",
       "      <td>1921</td>\n",
       "      <td>0.0354</td>\n",
       "      <td>100.109</td>\n",
       "      <td>0.1650</td>\n",
       "      <td>1921</td>\n",
       "    </tr>\n",
       "    <tr>\n",
       "      <th>4</th>\n",
       "      <td>4d6HGyGT8e121BsdKmw9v6</td>\n",
       "      <td>When Irish Eyes Are Smiling</td>\n",
       "      <td>['Phil Regan']</td>\n",
       "      <td>0.957</td>\n",
       "      <td>0.418</td>\n",
       "      <td>166693</td>\n",
       "      <td>0.193</td>\n",
       "      <td>0</td>\n",
       "      <td>0.000002</td>\n",
       "      <td>3</td>\n",
       "      <td>0.229</td>\n",
       "      <td>-10.096</td>\n",
       "      <td>1</td>\n",
       "      <td>2</td>\n",
       "      <td>1921</td>\n",
       "      <td>0.0380</td>\n",
       "      <td>101.665</td>\n",
       "      <td>0.2530</td>\n",
       "      <td>1921</td>\n",
       "    </tr>\n",
       "  </tbody>\n",
       "</table>\n",
       "</div>"
      ],
      "text/plain": [
       "                       id  \\\n",
       "0  4BJqT0PrAfrxzMOxytFOIz   \n",
       "1  7xPhfUan2yNtyFG0cUWkt8   \n",
       "2  1o6I8BglA6ylDMrIELygv1   \n",
       "3  3ftBPsC5vPBKxYSee08FDH   \n",
       "4  4d6HGyGT8e121BsdKmw9v6   \n",
       "\n",
       "                                                               name  \\\n",
       "0  Piano Concerto No. 3 in D Minor, Op. 30: III. Finale. Alla breve   \n",
       "1                                           Clancy Lowered the Boom   \n",
       "2                                                         Gati Bali   \n",
       "3                                                         Danny Boy   \n",
       "4                                       When Irish Eyes Are Smiling   \n",
       "\n",
       "                                                              artists  \\\n",
       "0  ['Sergei Rachmaninoff', 'James Levine', 'Berliner Philharmoniker']   \n",
       "1                                                      ['Dennis Day']   \n",
       "2             ['KHP Kridhamardawa Karaton Ngayogyakarta Hadiningrat']   \n",
       "3                                                    ['Frank Parker']   \n",
       "4                                                      ['Phil Regan']   \n",
       "\n",
       "   acousticness  danceability  duration_ms  energy  explicit  \\\n",
       "0         0.982         0.279       831667   0.211         0   \n",
       "1         0.732         0.819       180533   0.341         0   \n",
       "2         0.961         0.328       500062   0.166         0   \n",
       "3         0.967         0.275       210000   0.309         0   \n",
       "4         0.957         0.418       166693   0.193         0   \n",
       "\n",
       "   instrumentalness  key  liveness  loudness  mode  popularity release_date  \\\n",
       "0          0.878000   10     0.665   -20.096     1           4         1921   \n",
       "1          0.000000    7     0.160   -12.441     1           5         1921   \n",
       "2          0.913000    3     0.101   -14.850     1           5         1921   \n",
       "3          0.000028    5     0.381    -9.316     1           3         1921   \n",
       "4          0.000002    3     0.229   -10.096     1           2         1921   \n",
       "\n",
       "   speechiness    tempo  valence  year  \n",
       "0       0.0366   80.954   0.0594  1921  \n",
       "1       0.4150   60.936   0.9630  1921  \n",
       "2       0.0339  110.339   0.0394  1921  \n",
       "3       0.0354  100.109   0.1650  1921  \n",
       "4       0.0380  101.665   0.2530  1921  "
      ]
     },
     "execution_count": 13,
     "metadata": {},
     "output_type": "execute_result"
    }
   ],
   "source": [
    "show_df(raw_song_df)"
   ]
  },
  {
   "cell_type": "markdown",
   "id": "a918f77d",
   "metadata": {},
   "source": [
    "### Pre-process Data"
   ]
  },
  {
   "cell_type": "markdown",
   "id": "9b71c3a9",
   "metadata": {},
   "source": [
    "Here we will perform a few operations on this Pandas DataFrame to get it into the correct format for creating the vector embeddings for our vector database.\n",
    "This will include:\n",
    "- Adding a column prefix\n",
    "- Removing excess columns\n",
    "- Fixing column values\n",
    "- Combining columns into one\n",
    "- Removing duplicate rows\n",
    "\n",
    "Once these pre-processing steps have been carried out, our data will be clean and in the correct format to start creating embeddings."
   ]
  },
  {
   "cell_type": "code",
   "execution_count": 14,
   "id": "44b59370",
   "metadata": {},
   "outputs": [],
   "source": [
    "# add \"song_\" prefix to col names\n",
    "song_df = raw_song_df.add_prefix(\"song_\")"
   ]
  },
  {
   "cell_type": "code",
   "execution_count": 15,
   "id": "781e33be",
   "metadata": {},
   "outputs": [],
   "source": [
    "# drop unused cols\n",
    "song_df = song_df.drop(columns=[\"song_id\", \"song_release_date\"])"
   ]
  },
  {
   "cell_type": "code",
   "execution_count": 16,
   "id": "d01ceb35",
   "metadata": {},
   "outputs": [],
   "source": [
    "# fix artists list names - remove quotes\n",
    "def fix_artists(str_list):\n",
    "    return \", \".join([v for v in str_list.rstrip(\"']\").lstrip(\"['\").split(\"', '\")])\n",
    "\n",
    "\n",
    "song_df[\"song_artists\"] = song_df[\"song_artists\"].apply(fix_artists)"
   ]
  },
  {
   "cell_type": "code",
   "execution_count": 17,
   "id": "6049043d",
   "metadata": {},
   "outputs": [],
   "source": [
    "# combine song_name & song_artists into song_description\n",
    "song_df.insert(\n",
    "    0, \"song_description\", song_df[\"song_name\"] + \" - \" + song_df[\"song_artists\"]\n",
    ")"
   ]
  },
  {
   "cell_type": "code",
   "execution_count": 18,
   "id": "4b9867c7",
   "metadata": {},
   "outputs": [],
   "source": [
    "# remove duplicate rows\n",
    "song_data = song_df[\n",
    "    ~song_df.duplicated(subset=[\"song_description\"], keep=\"first\")\n",
    "].reset_index(drop=True)"
   ]
  },
  {
   "cell_type": "code",
   "execution_count": 19,
   "id": "0f3b35c5",
   "metadata": {},
   "outputs": [
    {
     "name": "stdout",
     "output_type": "stream",
     "text": [
      "(170653, 18)\n"
     ]
    },
    {
     "data": {
      "text/html": [
       "<div>\n",
       "<style scoped>\n",
       "    .dataframe tbody tr th:only-of-type {\n",
       "        vertical-align: middle;\n",
       "    }\n",
       "\n",
       "    .dataframe tbody tr th {\n",
       "        vertical-align: top;\n",
       "    }\n",
       "\n",
       "    .dataframe thead th {\n",
       "        text-align: right;\n",
       "    }\n",
       "</style>\n",
       "<table border=\"1\" class=\"dataframe\">\n",
       "  <thead>\n",
       "    <tr style=\"text-align: right;\">\n",
       "      <th></th>\n",
       "      <th>song_description</th>\n",
       "      <th>song_name</th>\n",
       "      <th>song_artists</th>\n",
       "      <th>song_acousticness</th>\n",
       "      <th>song_danceability</th>\n",
       "      <th>song_duration_ms</th>\n",
       "      <th>song_energy</th>\n",
       "      <th>song_explicit</th>\n",
       "      <th>song_instrumentalness</th>\n",
       "      <th>song_key</th>\n",
       "      <th>song_liveness</th>\n",
       "      <th>song_loudness</th>\n",
       "      <th>song_mode</th>\n",
       "      <th>song_popularity</th>\n",
       "      <th>song_speechiness</th>\n",
       "      <th>song_tempo</th>\n",
       "      <th>song_valence</th>\n",
       "      <th>song_year</th>\n",
       "    </tr>\n",
       "  </thead>\n",
       "  <tbody>\n",
       "    <tr>\n",
       "      <th>0</th>\n",
       "      <td>Piano Concerto No. 3 in D Minor, Op. 30: III. Finale. Alla breve - Sergei Rachmaninoff, James Levine, Berliner Philharmoniker</td>\n",
       "      <td>Piano Concerto No. 3 in D Minor, Op. 30: III. Finale. Alla breve</td>\n",
       "      <td>Sergei Rachmaninoff, James Levine, Berliner Philharmoniker</td>\n",
       "      <td>0.982</td>\n",
       "      <td>0.279</td>\n",
       "      <td>831667</td>\n",
       "      <td>0.211</td>\n",
       "      <td>0</td>\n",
       "      <td>0.878000</td>\n",
       "      <td>10</td>\n",
       "      <td>0.665</td>\n",
       "      <td>-20.096</td>\n",
       "      <td>1</td>\n",
       "      <td>4</td>\n",
       "      <td>0.0366</td>\n",
       "      <td>80.954</td>\n",
       "      <td>0.0594</td>\n",
       "      <td>1921</td>\n",
       "    </tr>\n",
       "    <tr>\n",
       "      <th>1</th>\n",
       "      <td>Clancy Lowered the Boom - Dennis Day</td>\n",
       "      <td>Clancy Lowered the Boom</td>\n",
       "      <td>Dennis Day</td>\n",
       "      <td>0.732</td>\n",
       "      <td>0.819</td>\n",
       "      <td>180533</td>\n",
       "      <td>0.341</td>\n",
       "      <td>0</td>\n",
       "      <td>0.000000</td>\n",
       "      <td>7</td>\n",
       "      <td>0.160</td>\n",
       "      <td>-12.441</td>\n",
       "      <td>1</td>\n",
       "      <td>5</td>\n",
       "      <td>0.4150</td>\n",
       "      <td>60.936</td>\n",
       "      <td>0.9630</td>\n",
       "      <td>1921</td>\n",
       "    </tr>\n",
       "    <tr>\n",
       "      <th>2</th>\n",
       "      <td>Gati Bali - KHP Kridhamardawa Karaton Ngayogyakarta Hadiningrat</td>\n",
       "      <td>Gati Bali</td>\n",
       "      <td>KHP Kridhamardawa Karaton Ngayogyakarta Hadiningrat</td>\n",
       "      <td>0.961</td>\n",
       "      <td>0.328</td>\n",
       "      <td>500062</td>\n",
       "      <td>0.166</td>\n",
       "      <td>0</td>\n",
       "      <td>0.913000</td>\n",
       "      <td>3</td>\n",
       "      <td>0.101</td>\n",
       "      <td>-14.850</td>\n",
       "      <td>1</td>\n",
       "      <td>5</td>\n",
       "      <td>0.0339</td>\n",
       "      <td>110.339</td>\n",
       "      <td>0.0394</td>\n",
       "      <td>1921</td>\n",
       "    </tr>\n",
       "    <tr>\n",
       "      <th>3</th>\n",
       "      <td>Danny Boy - Frank Parker</td>\n",
       "      <td>Danny Boy</td>\n",
       "      <td>Frank Parker</td>\n",
       "      <td>0.967</td>\n",
       "      <td>0.275</td>\n",
       "      <td>210000</td>\n",
       "      <td>0.309</td>\n",
       "      <td>0</td>\n",
       "      <td>0.000028</td>\n",
       "      <td>5</td>\n",
       "      <td>0.381</td>\n",
       "      <td>-9.316</td>\n",
       "      <td>1</td>\n",
       "      <td>3</td>\n",
       "      <td>0.0354</td>\n",
       "      <td>100.109</td>\n",
       "      <td>0.1650</td>\n",
       "      <td>1921</td>\n",
       "    </tr>\n",
       "    <tr>\n",
       "      <th>4</th>\n",
       "      <td>When Irish Eyes Are Smiling - Phil Regan</td>\n",
       "      <td>When Irish Eyes Are Smiling</td>\n",
       "      <td>Phil Regan</td>\n",
       "      <td>0.957</td>\n",
       "      <td>0.418</td>\n",
       "      <td>166693</td>\n",
       "      <td>0.193</td>\n",
       "      <td>0</td>\n",
       "      <td>0.000002</td>\n",
       "      <td>3</td>\n",
       "      <td>0.229</td>\n",
       "      <td>-10.096</td>\n",
       "      <td>1</td>\n",
       "      <td>2</td>\n",
       "      <td>0.0380</td>\n",
       "      <td>101.665</td>\n",
       "      <td>0.2530</td>\n",
       "      <td>1921</td>\n",
       "    </tr>\n",
       "  </tbody>\n",
       "</table>\n",
       "</div>"
      ],
      "text/plain": [
       "                                                                                                                song_description  \\\n",
       "0  Piano Concerto No. 3 in D Minor, Op. 30: III. Finale. Alla breve - Sergei Rachmaninoff, James Levine, Berliner Philharmoniker   \n",
       "1                                                                                           Clancy Lowered the Boom - Dennis Day   \n",
       "2                                                                Gati Bali - KHP Kridhamardawa Karaton Ngayogyakarta Hadiningrat   \n",
       "3                                                                                                       Danny Boy - Frank Parker   \n",
       "4                                                                                       When Irish Eyes Are Smiling - Phil Regan   \n",
       "\n",
       "                                                          song_name  \\\n",
       "0  Piano Concerto No. 3 in D Minor, Op. 30: III. Finale. Alla breve   \n",
       "1                                           Clancy Lowered the Boom   \n",
       "2                                                         Gati Bali   \n",
       "3                                                         Danny Boy   \n",
       "4                                       When Irish Eyes Are Smiling   \n",
       "\n",
       "                                                 song_artists  \\\n",
       "0  Sergei Rachmaninoff, James Levine, Berliner Philharmoniker   \n",
       "1                                                  Dennis Day   \n",
       "2         KHP Kridhamardawa Karaton Ngayogyakarta Hadiningrat   \n",
       "3                                                Frank Parker   \n",
       "4                                                  Phil Regan   \n",
       "\n",
       "   song_acousticness  song_danceability  song_duration_ms  song_energy  \\\n",
       "0              0.982              0.279            831667        0.211   \n",
       "1              0.732              0.819            180533        0.341   \n",
       "2              0.961              0.328            500062        0.166   \n",
       "3              0.967              0.275            210000        0.309   \n",
       "4              0.957              0.418            166693        0.193   \n",
       "\n",
       "   song_explicit  song_instrumentalness  song_key  song_liveness  \\\n",
       "0              0               0.878000        10          0.665   \n",
       "1              0               0.000000         7          0.160   \n",
       "2              0               0.913000         3          0.101   \n",
       "3              0               0.000028         5          0.381   \n",
       "4              0               0.000002         3          0.229   \n",
       "\n",
       "   song_loudness  song_mode  song_popularity  song_speechiness  song_tempo  \\\n",
       "0        -20.096          1                4            0.0366      80.954   \n",
       "1        -12.441          1                5            0.4150      60.936   \n",
       "2        -14.850          1                5            0.0339     110.339   \n",
       "3         -9.316          1                3            0.0354     100.109   \n",
       "4        -10.096          1                2            0.0380     101.665   \n",
       "\n",
       "   song_valence  song_year  \n",
       "0        0.0594       1921  \n",
       "1        0.9630       1921  \n",
       "2        0.0394       1921  \n",
       "3        0.1650       1921  \n",
       "4        0.2530       1921  "
      ]
     },
     "execution_count": 19,
     "metadata": {},
     "output_type": "execute_result"
    }
   ],
   "source": [
    "show_df(song_df)"
   ]
  },
  {
   "cell_type": "markdown",
   "id": "92d0819e",
   "metadata": {},
   "source": [
    "## 3. Create Vector Embeddings"
   ]
  },
  {
   "cell_type": "markdown",
   "id": "76775144",
   "metadata": {},
   "source": [
    "We will create vector embeddings from this data in three steps:\n",
    "1. Encoding the categorical song_description as numeric values,\n",
    "1. Scaling the numeric column values,\n",
    "1. Joining these two sets of encodings together into one vector embedding."
   ]
  },
  {
   "cell_type": "markdown",
   "id": "7edae729",
   "metadata": {},
   "source": [
    "### Embed Categorical Song Metadata"
   ]
  },
  {
   "cell_type": "markdown",
   "id": "28410994",
   "metadata": {},
   "source": [
    "To embed the song descriptions as numeric vectors, we must perform natural language processing on them.\n",
    "This involves tokenising the descriptions to break them up into their individual sub-parts and then using a Word2Vec model to turn these tokenised song descriptions into vectors.\n",
    "\n",
    "The length of the vectors we turn these desciptions into is configurable, however, in this case we chose to set this to `15` as there are also 15 numeric columns which describe the song. We do not want to bias the final embedding vectors in favour of either the categorical columns or the numeric columns, so it made sense to keep the number of values representing each the same for both."
   ]
  },
  {
   "cell_type": "code",
   "execution_count": 20,
   "id": "4c640b59",
   "metadata": {},
   "outputs": [],
   "source": [
    "# tokenise the descriptions\n",
    "tokenised_song_descs = [word_tokenize(v.lower()) for v in song_data[\"song_description\"]]"
   ]
  },
  {
   "cell_type": "code",
   "execution_count": 21,
   "id": "df2bc20b",
   "metadata": {},
   "outputs": [],
   "source": [
    "# create embedding model\n",
    "embedding_dim = 15\n",
    "word2Vec_model = Word2Vec(\n",
    "    sentences=tokenised_song_descs,\n",
    "    vector_size=embedding_dim,\n",
    "    window=5,\n",
    "    min_count=1,\n",
    "    sg=1,\n",
    ")"
   ]
  },
  {
   "cell_type": "code",
   "execution_count": 22,
   "id": "bedcbe34",
   "metadata": {},
   "outputs": [],
   "source": [
    "# function to create embedding vector from tokens\n",
    "def get_embedding(song_desc_tokens, model, embedding_dim):\n",
    "    vectors = [model.wv[token] for token in song_desc_tokens if token in model.wv]\n",
    "\n",
    "    # Average of word vectors OR zeros if no valid tokens found\n",
    "    return sum(vectors) / len(vectors) if vectors else [0] * embedding_dim"
   ]
  },
  {
   "cell_type": "code",
   "execution_count": 23,
   "id": "e20683ba",
   "metadata": {},
   "outputs": [],
   "source": [
    "# embed song descriptions as vectors\n",
    "categorical_embeddings = [\n",
    "    get_embedding(song_desc_tokens, word2Vec_model, embedding_dim)\n",
    "    for song_desc_tokens in tokenised_song_descs\n",
    "]"
   ]
  },
  {
   "cell_type": "code",
   "execution_count": 24,
   "id": "980bb2e3",
   "metadata": {},
   "outputs": [
    {
     "name": "stdout",
     "output_type": "stream",
     "text": [
      "Num Embeddings: 157685\n",
      "Embedding Size: 15\n"
     ]
    },
    {
     "data": {
      "text/plain": [
       "[-1.3084614,\n",
       " 0.66102946,\n",
       " 1.6010187,\n",
       " -0.8913263,\n",
       " -0.5413131,\n",
       " -0.3870546,\n",
       " -1.2124491,\n",
       " -0.5503847,\n",
       " -0.42727256,\n",
       " 1.4809988,\n",
       " 0.26244432,\n",
       " 0.27446768,\n",
       " 0.2161151,\n",
       " -1.0858109,\n",
       " -0.842732]"
      ]
     },
     "execution_count": 24,
     "metadata": {},
     "output_type": "execute_result"
    }
   ],
   "source": [
    "show_embeddings(categorical_embeddings)"
   ]
  },
  {
   "cell_type": "markdown",
   "id": "6b222f5a",
   "metadata": {},
   "source": [
    "### Embed Numeric Song Metadata"
   ]
  },
  {
   "cell_type": "markdown",
   "id": "03623844",
   "metadata": {},
   "source": [
    "There are 15 numeric columns in our data which we will use to make up the other half of our final embedding vectors.\n",
    "First, however, we will scale these values to make them more uniform.\n",
    "\n",
    "The standard scaled score of a sample `x` is calculated as:\n",
    "\n",
    "    z = (x - u) / s\n",
    "\n",
    "where `u` is the mean of the training samples and `s` is the standard deviation of the training samples."
   ]
  },
  {
   "cell_type": "code",
   "execution_count": 25,
   "id": "e8614aa0",
   "metadata": {},
   "outputs": [
    {
     "data": {
      "text/plain": [
       "['song_acousticness',\n",
       " 'song_danceability',\n",
       " 'song_duration_ms',\n",
       " 'song_energy',\n",
       " 'song_explicit',\n",
       " 'song_instrumentalness',\n",
       " 'song_key',\n",
       " 'song_liveness',\n",
       " 'song_loudness',\n",
       " 'song_mode',\n",
       " 'song_popularity',\n",
       " 'song_speechiness',\n",
       " 'song_tempo',\n",
       " 'song_valence',\n",
       " 'song_year']"
      ]
     },
     "execution_count": 25,
     "metadata": {},
     "output_type": "execute_result"
    }
   ],
   "source": [
    "# extract numeric columns\n",
    "numeric_cols = list(\n",
    "    song_data.drop(columns=[\"song_name\", \"song_artists\", \"song_description\"]).columns\n",
    ")\n",
    "numeric_cols"
   ]
  },
  {
   "cell_type": "code",
   "execution_count": 26,
   "id": "4305095d",
   "metadata": {},
   "outputs": [],
   "source": [
    "# scale these columns\n",
    "numeric_embeddings = StandardScaler().fit_transform(song_data[numeric_cols])"
   ]
  },
  {
   "cell_type": "code",
   "execution_count": 27,
   "id": "7ab28edb",
   "metadata": {},
   "outputs": [
    {
     "name": "stdout",
     "output_type": "stream",
     "text": [
      "Num Embeddings: 157685\n",
      "Embedding Size: 15\n"
     ]
    },
    {
     "data": {
      "text/plain": [
       "[1.2703070294949106,\n",
       " -1.461259048884883,\n",
       " 4.752569009266444,\n",
       " -1.007676175100162,\n",
       " -0.3092011481361043,\n",
       " 2.262496351074803,\n",
       " 1.3649563314116429,\n",
       " 2.6110012104955738,\n",
       " -1.5078176079821606,\n",
       " 0.6453499264358126,\n",
       " -1.2499471942272533,\n",
       " -0.38364744367670833,\n",
       " -1.1655450558051375,\n",
       " -1.7786347004763523,\n",
       " -2.142666230649]"
      ]
     },
     "execution_count": 27,
     "metadata": {},
     "output_type": "execute_result"
    }
   ],
   "source": [
    "show_embeddings(numeric_embeddings)"
   ]
  },
  {
   "cell_type": "markdown",
   "id": "1ccebdaf",
   "metadata": {},
   "source": [
    "### Merge Categorical & Numeric Embeddings"
   ]
  },
  {
   "cell_type": "markdown",
   "id": "1ec7954d",
   "metadata": {},
   "source": [
    "This leaves us with two sets of vectors: one representing the categorical column and one representing the numeric columns.\n",
    "Both sets have 15 values each, so when we join these together, the resulting vector will have 30 values."
   ]
  },
  {
   "cell_type": "code",
   "execution_count": 28,
   "id": "6c5849e6",
   "metadata": {},
   "outputs": [],
   "source": [
    "row_embeddings = [\n",
    "    np.concatenate([cat_row, num_row])\n",
    "    for cat_row, num_row in zip(categorical_embeddings, numeric_embeddings)\n",
    "]"
   ]
  },
  {
   "cell_type": "code",
   "execution_count": 29,
   "id": "d5150a08",
   "metadata": {},
   "outputs": [
    {
     "name": "stdout",
     "output_type": "stream",
     "text": [
      "Num Embeddings: 157685\n",
      "Embedding Size: 30\n"
     ]
    },
    {
     "data": {
      "text/plain": [
       "[-1.3084614276885986,\n",
       " 0.6610294580459595,\n",
       " 1.6010186672210693,\n",
       " -0.8913263082504272,\n",
       " -0.541313111782074,\n",
       " -0.38705459237098694,\n",
       " -1.212449073791504,\n",
       " -0.5503847002983093,\n",
       " -0.4272725582122803,\n",
       " 1.4809987545013428,\n",
       " 0.26244431734085083,\n",
       " 0.27446767687797546,\n",
       " 0.2161151021718979,\n",
       " -1.085810899734497,\n",
       " -0.8427320122718811,\n",
       " 1.2703070294949106,\n",
       " -1.461259048884883,\n",
       " 4.752569009266444,\n",
       " -1.007676175100162,\n",
       " -0.3092011481361043,\n",
       " 2.262496351074803,\n",
       " 1.3649563314116429,\n",
       " 2.6110012104955738,\n",
       " -1.5078176079821606,\n",
       " 0.6453499264358126,\n",
       " -1.2499471942272533,\n",
       " -0.38364744367670833,\n",
       " -1.1655450558051375,\n",
       " -1.7786347004763523,\n",
       " -2.142666230649]"
      ]
     },
     "execution_count": 29,
     "metadata": {},
     "output_type": "execute_result"
    }
   ],
   "source": [
    "show_embeddings(row_embeddings)"
   ]
  },
  {
   "cell_type": "markdown",
   "id": "f1d97c52",
   "metadata": {},
   "source": [
    "### Create DataFrame With Embeddings"
   ]
  },
  {
   "cell_type": "markdown",
   "id": "ae9205b8",
   "metadata": {},
   "source": [
    "We can take these defined embeddings and create a Pandas DataFrame containing them.\n",
    "This will be the table we insert into our vector database.\n",
    "\n",
    "To enable proper filtering of the data once inserted into the KDB.AI vector database, we will pair these embedding vectors with three song description columns: `song_name`, `song_artists`, and `song_year`."
   ]
  },
  {
   "cell_type": "code",
   "execution_count": 30,
   "id": "40e00e5f",
   "metadata": {},
   "outputs": [],
   "source": [
    "embedded_song_df = song_data[[\"song_name\", \"song_artists\", \"song_year\"]]"
   ]
  },
  {
   "cell_type": "code",
   "execution_count": 31,
   "id": "5af8b92f",
   "metadata": {},
   "outputs": [],
   "source": [
    "embedded_song_df[\"song_embeddings\"] = row_embeddings"
   ]
  },
  {
   "cell_type": "code",
   "execution_count": 32,
   "id": "a5430d33",
   "metadata": {},
   "outputs": [
    {
     "name": "stdout",
     "output_type": "stream",
     "text": [
      "(157685, 4)\n"
     ]
    },
    {
     "data": {
      "text/html": [
       "<div>\n",
       "<style scoped>\n",
       "    .dataframe tbody tr th:only-of-type {\n",
       "        vertical-align: middle;\n",
       "    }\n",
       "\n",
       "    .dataframe tbody tr th {\n",
       "        vertical-align: top;\n",
       "    }\n",
       "\n",
       "    .dataframe thead th {\n",
       "        text-align: right;\n",
       "    }\n",
       "</style>\n",
       "<table border=\"1\" class=\"dataframe\">\n",
       "  <thead>\n",
       "    <tr style=\"text-align: right;\">\n",
       "      <th></th>\n",
       "      <th>song_name</th>\n",
       "      <th>song_artists</th>\n",
       "      <th>song_year</th>\n",
       "      <th>song_embeddings</th>\n",
       "    </tr>\n",
       "  </thead>\n",
       "  <tbody>\n",
       "    <tr>\n",
       "      <th>0</th>\n",
       "      <td>Piano Concerto No. 3 in D Minor, Op. 30: III. Finale. Alla breve</td>\n",
       "      <td>Sergei Rachmaninoff, James Levine, Berliner Philharmoniker</td>\n",
       "      <td>1921</td>\n",
       "      <td>[-1.3084614276885986, 0.6610294580459595, 1.6010186672210693, -0.8913263082504272, -0.541313111782074, -0.38705459237098694, -1.212449073791504, -0.5503847002983093, -0.4272725582122803, 1.4809987545013428, 0.26244431734085083, 0.27446767687797546, 0.2161151021718979, -1.085810899734497, -0.8427320122718811, 1.2703070294949106, -1.461259048884883, 4.752569009266444, -1.007676175100162, -0.3092011481361043, 2.262496351074803, 1.3649563314116429, 2.6110012104955738, -1.5078176079821606, 0.6453499264358126, -1.2499471942272533, -0.38364744367670833, -1.1655450558051375, -1.7786347004763523, -2.142666230649]</td>\n",
       "    </tr>\n",
       "    <tr>\n",
       "      <th>1</th>\n",
       "      <td>Clancy Lowered the Boom</td>\n",
       "      <td>Dennis Day</td>\n",
       "      <td>1921</td>\n",
       "      <td>[-0.46706071496009827, 0.22206126153469086, 1.6218688488006592, -0.6445634961128235, 0.15803197026252747, 0.29785123467445374, -0.553114116191864, -0.07888539880514145, -0.35507890582084656, 0.12263522297143936, 0.6071826219558716, 0.6136294603347778, 0.5297210812568665, -0.7411094307899475, 0.0877525731921196, 0.6055353575765545, 1.600008527700499, -0.3958314054754836, -0.5219481676317469, -0.3092011481361043, -0.5349944602375606, 0.5117210944216953, -0.26640400859153673, -0.1646257835500665, 0.6453499264358126, -1.2044048830284118, 1.872793548131166, -1.8164526201212032, 1.6541851866630062, -2.142666230649]</td>\n",
       "    </tr>\n",
       "    <tr>\n",
       "      <th>2</th>\n",
       "      <td>Gati Bali</td>\n",
       "      <td>KHP Kridhamardawa Karaton Ngayogyakarta Hadiningrat</td>\n",
       "      <td>1921</td>\n",
       "      <td>[-0.5912865400314331, 0.19827693700790405, 0.5054091811180115, 0.2651362419128418, 0.5384843349456787, 0.21282942593097687, 0.3593631386756897, -0.42768657207489014, -0.22806212306022644, 0.5242754220962524, 0.7951330542564392, 0.06683247536420822, -0.1490078866481781, -0.2776865065097809, -1.2925686836242676, 1.2144662090537686, -1.183477361379913, 2.1306274127125904, -1.1758127930699978, -0.3092011481361043, 2.374013638541697, -0.6259258882315683, -0.6025761034947833, -0.5873232499193564, 0.6453499264358126, -1.2044048830284118, -0.3997478418740689, -0.21005905433508043, -1.854615663007104, -2.142666230649]</td>\n",
       "    </tr>\n",
       "    <tr>\n",
       "      <th>3</th>\n",
       "      <td>Danny Boy</td>\n",
       "      <td>Frank Parker</td>\n",
       "      <td>1921</td>\n",
       "      <td>[-0.4566471576690674, 0.5354787111282349, 1.7839219570159912, -1.2448246479034424, 0.024612929672002792, 0.26332181692123413, -0.8040102124214172, 0.16238971054553986, -0.35203710198402405, 0.37662094831466675, 0.7859536409378052, 0.6951225996017456, 0.438914954662323, -0.7189780473709106, 0.012237541377544403, 1.2304207291798093, -1.4839351050077376, -0.16284109162119192, -0.6415119848547415, -0.3092011481361043, -0.5349062022700511, -0.05710239690493648, 0.9928168892663868, 0.3837053008849818, 0.6453499264358126, -1.295489505426095, -0.39080317620886856, -0.5426988976237884, -1.3774552183139837, -2.142666230649]</td>\n",
       "    </tr>\n",
       "    <tr>\n",
       "      <th>4</th>\n",
       "      <td>When Irish Eyes Are Smiling</td>\n",
       "      <td>Phil Regan</td>\n",
       "      <td>1921</td>\n",
       "      <td>[-0.4916699230670929, 0.2079925537109375, 1.5473459959030151, -0.6245953440666199, 0.6297972798347473, 0.08845526725053787, -1.0048013925552368, 0.13564133644104004, -0.448259562253952, -0.01485042180866003, 1.0761586427688599, 0.3285246193408966, 0.7505322098731995, -0.7707496881484985, -0.13520577549934387, 1.203829862303075, -0.6732660986156829, -0.5052618172494476, -1.0749308222880962, -0.3092011481361043, -0.5349891074077622, -0.6259258882315683, 0.12674640748175162, 0.24684186220999385, 0.6453499264358126, -1.3410318166249366, -0.3752990890558546, -0.4921038246856425, -1.0431389831786766, -2.142666230649]</td>\n",
       "    </tr>\n",
       "  </tbody>\n",
       "</table>\n",
       "</div>"
      ],
      "text/plain": [
       "                                                          song_name  \\\n",
       "0  Piano Concerto No. 3 in D Minor, Op. 30: III. Finale. Alla breve   \n",
       "1                                           Clancy Lowered the Boom   \n",
       "2                                                         Gati Bali   \n",
       "3                                                         Danny Boy   \n",
       "4                                       When Irish Eyes Are Smiling   \n",
       "\n",
       "                                                 song_artists  song_year  \\\n",
       "0  Sergei Rachmaninoff, James Levine, Berliner Philharmoniker       1921   \n",
       "1                                                  Dennis Day       1921   \n",
       "2         KHP Kridhamardawa Karaton Ngayogyakarta Hadiningrat       1921   \n",
       "3                                                Frank Parker       1921   \n",
       "4                                                  Phil Regan       1921   \n",
       "\n",
       "                                                                                                                                                                                                                                                                                                                                                                                                                                                                                                                                                                                                                                 song_embeddings  \n",
       "0            [-1.3084614276885986, 0.6610294580459595, 1.6010186672210693, -0.8913263082504272, -0.541313111782074, -0.38705459237098694, -1.212449073791504, -0.5503847002983093, -0.4272725582122803, 1.4809987545013428, 0.26244431734085083, 0.27446767687797546, 0.2161151021718979, -1.085810899734497, -0.8427320122718811, 1.2703070294949106, -1.461259048884883, 4.752569009266444, -1.007676175100162, -0.3092011481361043, 2.262496351074803, 1.3649563314116429, 2.6110012104955738, -1.5078176079821606, 0.6453499264358126, -1.2499471942272533, -0.38364744367670833, -1.1655450558051375, -1.7786347004763523, -2.142666230649]  \n",
       "1       [-0.46706071496009827, 0.22206126153469086, 1.6218688488006592, -0.6445634961128235, 0.15803197026252747, 0.29785123467445374, -0.553114116191864, -0.07888539880514145, -0.35507890582084656, 0.12263522297143936, 0.6071826219558716, 0.6136294603347778, 0.5297210812568665, -0.7411094307899475, 0.0877525731921196, 0.6055353575765545, 1.600008527700499, -0.3958314054754836, -0.5219481676317469, -0.3092011481361043, -0.5349944602375606, 0.5117210944216953, -0.26640400859153673, -0.1646257835500665, 0.6453499264358126, -1.2044048830284118, 1.872793548131166, -1.8164526201212032, 1.6541851866630062, -2.142666230649]  \n",
       "2       [-0.5912865400314331, 0.19827693700790405, 0.5054091811180115, 0.2651362419128418, 0.5384843349456787, 0.21282942593097687, 0.3593631386756897, -0.42768657207489014, -0.22806212306022644, 0.5242754220962524, 0.7951330542564392, 0.06683247536420822, -0.1490078866481781, -0.2776865065097809, -1.2925686836242676, 1.2144662090537686, -1.183477361379913, 2.1306274127125904, -1.1758127930699978, -0.3092011481361043, 2.374013638541697, -0.6259258882315683, -0.6025761034947833, -0.5873232499193564, 0.6453499264358126, -1.2044048830284118, -0.3997478418740689, -0.21005905433508043, -1.854615663007104, -2.142666230649]  \n",
       "3  [-0.4566471576690674, 0.5354787111282349, 1.7839219570159912, -1.2448246479034424, 0.024612929672002792, 0.26332181692123413, -0.8040102124214172, 0.16238971054553986, -0.35203710198402405, 0.37662094831466675, 0.7859536409378052, 0.6951225996017456, 0.438914954662323, -0.7189780473709106, 0.012237541377544403, 1.2304207291798093, -1.4839351050077376, -0.16284109162119192, -0.6415119848547415, -0.3092011481361043, -0.5349062022700511, -0.05710239690493648, 0.9928168892663868, 0.3837053008849818, 0.6453499264358126, -1.295489505426095, -0.39080317620886856, -0.5426988976237884, -1.3774552183139837, -2.142666230649]  \n",
       "4     [-0.4916699230670929, 0.2079925537109375, 1.5473459959030151, -0.6245953440666199, 0.6297972798347473, 0.08845526725053787, -1.0048013925552368, 0.13564133644104004, -0.448259562253952, -0.01485042180866003, 1.0761586427688599, 0.3285246193408966, 0.7505322098731995, -0.7707496881484985, -0.13520577549934387, 1.203829862303075, -0.6732660986156829, -0.5052618172494476, -1.0749308222880962, -0.3092011481361043, -0.5349891074077622, -0.6259258882315683, 0.12674640748175162, 0.24684186220999385, 0.6453499264358126, -1.3410318166249366, -0.3752990890558546, -0.4921038246856425, -1.0431389831786766, -2.142666230649]  "
      ]
     },
     "execution_count": 32,
     "metadata": {},
     "output_type": "execute_result"
    }
   ],
   "source": [
    "show_df(embedded_song_df)"
   ]
  },
  {
   "cell_type": "markdown",
   "id": "e59c8f54",
   "metadata": {},
   "source": [
    "## 4. Create KDB.AI Vector Database"
   ]
  },
  {
   "cell_type": "markdown",
   "id": "9d2724a9",
   "metadata": {},
   "source": [
    "Now that our data has been read in and our embeddings have been defined, we can set about creating a KDB.AI vector database and ingesting the data into it.\n",
    "\n",
    "Once we have the database set up, we can then query our data and start deriving some insights"
   ]
  },
  {
   "cell_type": "markdown",
   "id": "499f0a87",
   "metadata": {},
   "source": [
    "### Connect To KDB.AI Session"
   ]
  },
  {
   "cell_type": "markdown",
   "id": "fb7cbcea",
   "metadata": {},
   "source": [
    "To use KDB.AI, you will need two session details - a URL endpoint and an API key. To get these you can sign up for free [here](https://trykdb.kx.com/kdbai/signup).\n",
    "\n",
    "You can connect to a KDB.AI session using `kdbai.Session`. Enter the session URL endpoint and API key details from your KDB.AI Cloud portal below."
   ]
  },
  {
   "cell_type": "code",
   "execution_count": null,
   "id": "8f2409e5",
   "metadata": {},
   "outputs": [],
   "source": [
    "KDBAI_ENDPOINT = input('KDB.AI endpoint: ')\n",
    "KDBAI_API_KEY = getpass('KDB.AI API key: ')\n",
    "session = kdbai.Session(api_key=KDBAI_API_KEY, endpoint=KDBAI_ENDPOINT)"
   ]
  },
  {
   "cell_type": "markdown",
   "id": "ecb9a4ac",
   "metadata": {},
   "source": [
    "We can check if there are any tables defined in this KDB.AI session - it should not contain a table called `songs`."
   ]
  },
  {
   "cell_type": "code",
   "execution_count": 31,
   "id": "61082605",
   "metadata": {},
   "outputs": [
    {
     "data": {
      "text/plain": [
       "[]"
      ]
     },
     "execution_count": 31,
     "metadata": {},
     "output_type": "execute_result"
    }
   ],
   "source": [
    "session.list()"
   ]
  },
  {
   "cell_type": "markdown",
   "id": "c1bf41c4",
   "metadata": {},
   "source": [
    "### Define Vector DB Schema"
   ]
  },
  {
   "cell_type": "markdown",
   "id": "1a3e5fcc",
   "metadata": {},
   "source": [
    "The next step is to define the schema for the table in KDB.AI which will store our embeddings.\n",
    "\n",
    "As mentioned above, our table will have four columns:\n",
    "- Song Name\n",
    "- Song Artists\n",
    "- Song Year\n",
    "- Song Embeddings\n",
    "\n",
    "When defining the schema, we must supply the types of these columns. We can use the `.dtypes()` function on the defined Pandas DataFrame to help with this."
   ]
  },
  {
   "cell_type": "code",
   "execution_count": 37,
   "id": "d535b113",
   "metadata": {},
   "outputs": [
    {
     "data": {
      "text/plain": [
       "song_name          object\n",
       "song_artists       object\n",
       "song_year           int64\n",
       "song_embeddings    object\n",
       "dtype: object"
      ]
     },
     "execution_count": 37,
     "metadata": {},
     "output_type": "execute_result"
    }
   ],
   "source": [
    "embedded_song_df.dtypes"
   ]
  },
  {
   "cell_type": "code",
   "execution_count": 38,
   "id": "c1c94ebc",
   "metadata": {},
   "outputs": [],
   "source": [
    "schema = {\n",
    "    \"columns\": [\n",
    "        {\n",
    "            \"name\": \"song_name\",\n",
    "            \"pytype\": \"str\",\n",
    "        },\n",
    "        {\n",
    "            \"name\": \"song_artists\",\n",
    "            \"pytype\": \"str\",\n",
    "        },\n",
    "        {\n",
    "            \"name\": \"song_year\",\n",
    "            \"pytype\": \"int64\",\n",
    "        },\n",
    "        {\n",
    "            \"name\": \"song_embeddings\",\n",
    "            \"vectorIndex\": {\n",
    "                \"dims\": len(numeric_cols) + embedding_dim,\n",
    "                \"metric\": \"L2\",\n",
    "                \"type\": \"flat\",\n",
    "            },\n",
    "        },\n",
    "    ]\n",
    "}"
   ]
  },
  {
   "cell_type": "markdown",
   "id": "c70075f1",
   "metadata": {},
   "source": [
    "### Create Vector DB Table"
   ]
  },
  {
   "cell_type": "markdown",
   "id": "968f6d8f",
   "metadata": {},
   "source": [
    "Using this defined schema, we will create a table in the KDB.AI vector database to house the emebedding data."
   ]
  },
  {
   "cell_type": "code",
   "execution_count": 47,
   "id": "e1179907",
   "metadata": {
    "scrolled": true
   },
   "outputs": [],
   "source": [
    "songs = session.create_table(\"songs\", schema)"
   ]
  },
  {
   "cell_type": "markdown",
   "id": "565a070e",
   "metadata": {},
   "source": [
    "### Add Embedding Data to Vector DB Table"
   ]
  },
  {
   "cell_type": "markdown",
   "id": "f7cef68a",
   "metadata": {},
   "source": [
    "When adding larger amounts of data, you should insert data into an index in chunks.\n",
    "\n",
    "It is a good idea to first get an idea of how large your dataset to insert is."
   ]
  },
  {
   "cell_type": "code",
   "execution_count": 40,
   "id": "a7c74728",
   "metadata": {},
   "outputs": [
    {
     "data": {
      "text/plain": [
       "79.63715362548828"
      ]
     },
     "execution_count": 40,
     "metadata": {},
     "output_type": "execute_result"
    }
   ],
   "source": [
    "embedded_song_df.memory_usage(deep=True).sum() / (1024**2)"
   ]
  },
  {
   "cell_type": "markdown",
   "id": "a3202579",
   "metadata": {},
   "source": [
    "This dataset is 80MB which exceeds the insert limit of <10MB at a time. As such, we'll insert this data in chunks, inserting 10,000 rows at a time."
   ]
  },
  {
   "cell_type": "code",
   "execution_count": 41,
   "id": "c2179418",
   "metadata": {},
   "outputs": [],
   "source": [
    "chunk_size = 10_000"
   ]
  },
  {
   "cell_type": "code",
   "execution_count": 48,
   "id": "a6a2fd78",
   "metadata": {
    "scrolled": true
   },
   "outputs": [],
   "source": [
    "for i in range((len(embedded_song_df) // chunk_size) + 1):\n",
    "    index = i * chunk_size\n",
    "    songs.insert(\n",
    "        embedded_song_df.iloc[index : index + chunk_size].reset_index(drop=True)\n",
    "    )"
   ]
  },
  {
   "cell_type": "code",
   "execution_count": 49,
   "id": "6ba1c69e",
   "metadata": {
    "scrolled": true
   },
   "outputs": [
    {
     "data": {
      "text/html": [
       "<div>\n",
       "<style scoped>\n",
       "    .dataframe tbody tr th:only-of-type {\n",
       "        vertical-align: middle;\n",
       "    }\n",
       "\n",
       "    .dataframe tbody tr th {\n",
       "        vertical-align: top;\n",
       "    }\n",
       "\n",
       "    .dataframe thead th {\n",
       "        text-align: right;\n",
       "    }\n",
       "</style>\n",
       "<table border=\"1\" class=\"dataframe\">\n",
       "  <thead>\n",
       "    <tr style=\"text-align: right;\">\n",
       "      <th></th>\n",
       "      <th>song_name</th>\n",
       "      <th>song_artists</th>\n",
       "      <th>song_year</th>\n",
       "      <th>song_embeddings</th>\n",
       "    </tr>\n",
       "  </thead>\n",
       "  <tbody>\n",
       "    <tr>\n",
       "      <th>0</th>\n",
       "      <td>Piano Concerto No. 3 in D Minor, Op. 30: III. Finale. Alla breve</td>\n",
       "      <td>Sergei Rachmaninoff, James Levine, Berliner Philharmoniker</td>\n",
       "      <td>1921</td>\n",
       "      <td>[-1.3084614276885986, 0.6610294580459595, 1.6010186672210693, -0.8913263082504272, -0.541313111782074, -0.38705459237098694, -1.212449073791504, -0.5503847002983093, -0.4272725582122803, 1.4809987545013428, 0.26244431734085083, 0.27446767687797546, 0.2161151021718979, -1.085810899734497, -0.8427320122718811, 1.2703070294949106, -1.461259048884883, 4.752569009266444, -1.007676175100162, -0.3092011481361043, 2.262496351074803, 1.3649563314116429, 2.6110012104955738, -1.5078176079821606, 0.6453499264358126, -1.2499471942272533, -0.38364744367670833, -1.1655450558051375, -1.7786347004763523, -2.142666230649]</td>\n",
       "    </tr>\n",
       "    <tr>\n",
       "      <th>1</th>\n",
       "      <td>Clancy Lowered the Boom</td>\n",
       "      <td>Dennis Day</td>\n",
       "      <td>1921</td>\n",
       "      <td>[-0.46706071496009827, 0.22206126153469086, 1.6218688488006592, -0.6445634961128235, 0.15803197026252747, 0.29785123467445374, -0.553114116191864, -0.07888539880514145, -0.35507890582084656, 0.12263522297143936, 0.6071826219558716, 0.6136294603347778, 0.5297210812568665, -0.7411094307899475, 0.0877525731921196, 0.6055353575765545, 1.600008527700499, -0.3958314054754836, -0.5219481676317469, -0.3092011481361043, -0.5349944602375606, 0.5117210944216953, -0.26640400859153673, -0.1646257835500665, 0.6453499264358126, -1.2044048830284118, 1.872793548131166, -1.8164526201212032, 1.6541851866630062, -2.142666230649]</td>\n",
       "    </tr>\n",
       "    <tr>\n",
       "      <th>2</th>\n",
       "      <td>Gati Bali</td>\n",
       "      <td>KHP Kridhamardawa Karaton Ngayogyakarta Hadiningrat</td>\n",
       "      <td>1921</td>\n",
       "      <td>[-0.5912865400314331, 0.19827693700790405, 0.5054091811180115, 0.2651362419128418, 0.5384843349456787, 0.21282942593097687, 0.3593631386756897, -0.42768657207489014, -0.22806212306022644, 0.5242754220962524, 0.7951330542564392, 0.06683247536420822, -0.1490078866481781, -0.2776865065097809, -1.2925686836242676, 1.2144662090537686, -1.183477361379913, 2.1306274127125904, -1.1758127930699978, -0.3092011481361043, 2.374013638541697, -0.6259258882315683, -0.6025761034947833, -0.5873232499193564, 0.6453499264358126, -1.2044048830284118, -0.3997478418740689, -0.21005905433508043, -1.854615663007104, -2.142666230649]</td>\n",
       "    </tr>\n",
       "    <tr>\n",
       "      <th>3</th>\n",
       "      <td>Danny Boy</td>\n",
       "      <td>Frank Parker</td>\n",
       "      <td>1921</td>\n",
       "      <td>[-0.4566471576690674, 0.5354787111282349, 1.7839219570159912, -1.2448246479034424, 0.024612929672002792, 0.26332181692123413, -0.8040102124214172, 0.16238971054553986, -0.35203710198402405, 0.37662094831466675, 0.7859536409378052, 0.6951225996017456, 0.438914954662323, -0.7189780473709106, 0.012237541377544403, 1.2304207291798093, -1.4839351050077376, -0.16284109162119192, -0.6415119848547415, -0.3092011481361043, -0.5349062022700511, -0.05710239690493648, 0.9928168892663868, 0.3837053008849818, 0.6453499264358126, -1.295489505426095, -0.39080317620886856, -0.5426988976237884, -1.3774552183139837, -2.142666230649]</td>\n",
       "    </tr>\n",
       "    <tr>\n",
       "      <th>4</th>\n",
       "      <td>When Irish Eyes Are Smiling</td>\n",
       "      <td>Phil Regan</td>\n",
       "      <td>1921</td>\n",
       "      <td>[-0.4916699230670929, 0.2079925537109375, 1.5473459959030151, -0.6245953440666199, 0.6297972798347473, 0.08845526725053787, -1.0048013925552368, 0.13564133644104004, -0.448259562253952, -0.01485042180866003, 1.0761586427688599, 0.3285246193408966, 0.7505322098731995, -0.7707496881484985, -0.13520577549934387, 1.203829862303075, -0.6732660986156829, -0.5052618172494476, -1.0749308222880962, -0.3092011481361043, -0.5349891074077622, -0.6259258882315683, 0.12674640748175162, 0.24684186220999385, 0.6453499264358126, -1.3410318166249366, -0.3752990890558546, -0.4921038246856425, -1.0431389831786766, -2.142666230649]</td>\n",
       "    </tr>\n",
       "    <tr>\n",
       "      <th>...</th>\n",
       "      <td>...</td>\n",
       "      <td>...</td>\n",
       "      <td>...</td>\n",
       "      <td>...</td>\n",
       "    </tr>\n",
       "    <tr>\n",
       "      <th>157680</th>\n",
       "      <td>China</td>\n",
       "      <td>Anuel AA, Daddy Yankee, KAROL G, Ozuna, J Balvin</td>\n",
       "      <td>2020</td>\n",
       "      <td>[-0.28655603528022766, 0.9745289087295532, 1.3392137289047241, -0.9253003001213074, -0.2074325680732727, 0.7460130453109741, -0.7828342318534851, -0.4283033609390259, 0.2643398344516754, 1.1300415992736816, 0.7959958910942078, 0.37394899129867554, -0.08583994954824448, -0.07435858994722366, -0.35595691204071045, -1.1159573640232203, 1.4129310646869482, 0.5623251501011589, 1.222936289966328, -0.3092011481361043, -0.5340736460639054, 0.5117210944216953, -0.7096953472944619, 1.3687711274508574, 0.6453499264358126, 1.8469299672939783, -0.07654725583816306, -0.38271961815355937, 0.3055231017421648, 1.67161836828771]</td>\n",
       "    </tr>\n",
       "    <tr>\n",
       "      <th>157681</th>\n",
       "      <td>Halloweenie III: Seven Days</td>\n",
       "      <td>Ashnikko</td>\n",
       "      <td>2020</td>\n",
       "      <td>[-0.8442466855049133, 0.44078871607780457, 1.1242568492889404, -0.5557034015655518, -0.3165823519229889, -0.2579832673072815, -0.6739505529403687, 0.044604092836380005, -0.3704001307487488, 0.5132179260253906, 0.6041792631149292, 0.6238645911216736, 0.33421558141708374, -0.9213175177574158, -0.22282981872558594, -0.7931442401396668, 1.0217690965677046, -0.6320793298536824, 1.0174359791143062, -0.3092011481361043, -0.5349944602375606, 0.5117210944216953, -0.6025761034947833, 0.9620410622603162, 0.6453499264358126, 1.6647607224986116, -0.24112910407784943, 0.6872881358153081, 0.7842031656859001, 1.67161836828771]</td>\n",
       "    </tr>\n",
       "    <tr>\n",
       "      <th>157682</th>\n",
       "      <td>AYA</td>\n",
       "      <td>MAMAMOO</td>\n",
       "      <td>2020</td>\n",
       "      <td>[-0.34516969323158264, 0.09709582477807999, 0.6036271452903748, -0.29998070001602173, 0.00513003533706069, 0.16760064661502838, -0.1008884385228157, -0.04938097670674324, -0.0713208019733429, 0.2948763072490692, 0.5107501149177551, 0.376104474067688, 0.04023111239075661, -0.18077604472637177, -0.22394497692584991, -1.0723483423453763, 0.5512409320184701, -0.15272035989643223, 1.4097547543772566, -0.3092011481361043, -0.5349671862952544, -0.34151414256825235, 0.29198353887487283, 1.6277588652512194, -1.549546934208044, 2.0290992120893447, -0.11948165103112472, -0.8165170912048448, 0.41569549741175477, 1.67161836828771]</td>\n",
       "    </tr>\n",
       "    <tr>\n",
       "      <th>157683</th>\n",
       "      <td>Darkness</td>\n",
       "      <td>Eminem</td>\n",
       "      <td>2020</td>\n",
       "      <td>[-0.5850518345832825, 0.4422513544559479, 1.3515478372573853, -1.0609279870986938, 0.15809135138988495, 0.025874977931380272, -0.6630580425262451, -0.06309940665960312, -0.2641795873641968, 0.19424855709075928, 0.9878397583961487, 0.45681536197662354, 0.5147631168365479, -0.6564363837242126, 0.036643724888563156, -1.3143784126574114, 0.7609944511548762, 0.8424875619788227, 0.5317079716458913, 3.2341406428407566, -0.5349704043655499, -0.9103376338948841, 2.485648903921482, 0.7618344167113913, 0.6453499264358126, 1.755845344896295, 1.2347407306802076, -1.3573576106008445, -1.2634837745178564, 1.67161836828771]</td>\n",
       "    </tr>\n",
       "    <tr>\n",
       "      <th>157684</th>\n",
       "      <td>Billetes Azules (with J Balvin)</td>\n",
       "      <td>KEVVO, J Balvin</td>\n",
       "      <td>2020</td>\n",
       "      <td>[-0.5087469816207886, 0.946880578994751, 1.1904650926589966, -0.7641785144805908, -0.3542262017726898, 0.634281575679779, -0.6205987334251404, -0.30390694737434387, 0.23018614947795868, 0.8166864514350891, 0.7776119112968445, 0.3352837562561035, 0.1444573551416397, -0.22916309535503387, -0.09288349747657776, -0.9899166550275, 1.809762046836905, -0.32487558789892634, 0.8978721618913117, 3.2341406428407566, -0.5199874195527301, 0.5117210944216953, -0.14105170201744485, 1.1536498764052994, 0.6453499264358126, 1.9380145896916616, 0.0421186419868282, -0.7091163676092826, 0.43469073804444264, 1.67161836828771]</td>\n",
       "    </tr>\n",
       "  </tbody>\n",
       "</table>\n",
       "<p>157685 rows × 4 columns</p>\n",
       "</div>"
      ],
      "text/plain": [
       "                                                               song_name  \\\n",
       "0       Piano Concerto No. 3 in D Minor, Op. 30: III. Finale. Alla breve   \n",
       "1                                                Clancy Lowered the Boom   \n",
       "2                                                              Gati Bali   \n",
       "3                                                              Danny Boy   \n",
       "4                                            When Irish Eyes Are Smiling   \n",
       "...                                                                  ...   \n",
       "157680                                                             China   \n",
       "157681                                       Halloweenie III: Seven Days   \n",
       "157682                                                               AYA   \n",
       "157683                                                          Darkness   \n",
       "157684                                   Billetes Azules (with J Balvin)   \n",
       "\n",
       "                                                      song_artists  song_year  \\\n",
       "0       Sergei Rachmaninoff, James Levine, Berliner Philharmoniker       1921   \n",
       "1                                                       Dennis Day       1921   \n",
       "2              KHP Kridhamardawa Karaton Ngayogyakarta Hadiningrat       1921   \n",
       "3                                                     Frank Parker       1921   \n",
       "4                                                       Phil Regan       1921   \n",
       "...                                                            ...        ...   \n",
       "157680            Anuel AA, Daddy Yankee, KAROL G, Ozuna, J Balvin       2020   \n",
       "157681                                                    Ashnikko       2020   \n",
       "157682                                                     MAMAMOO       2020   \n",
       "157683                                                      Eminem       2020   \n",
       "157684                                             KEVVO, J Balvin       2020   \n",
       "\n",
       "                                                                                                                                                                                                                                                                                                                                                                                                                                                                                                                                                                                                                                          song_embeddings  \n",
       "0                     [-1.3084614276885986, 0.6610294580459595, 1.6010186672210693, -0.8913263082504272, -0.541313111782074, -0.38705459237098694, -1.212449073791504, -0.5503847002983093, -0.4272725582122803, 1.4809987545013428, 0.26244431734085083, 0.27446767687797546, 0.2161151021718979, -1.085810899734497, -0.8427320122718811, 1.2703070294949106, -1.461259048884883, 4.752569009266444, -1.007676175100162, -0.3092011481361043, 2.262496351074803, 1.3649563314116429, 2.6110012104955738, -1.5078176079821606, 0.6453499264358126, -1.2499471942272533, -0.38364744367670833, -1.1655450558051375, -1.7786347004763523, -2.142666230649]  \n",
       "1                [-0.46706071496009827, 0.22206126153469086, 1.6218688488006592, -0.6445634961128235, 0.15803197026252747, 0.29785123467445374, -0.553114116191864, -0.07888539880514145, -0.35507890582084656, 0.12263522297143936, 0.6071826219558716, 0.6136294603347778, 0.5297210812568665, -0.7411094307899475, 0.0877525731921196, 0.6055353575765545, 1.600008527700499, -0.3958314054754836, -0.5219481676317469, -0.3092011481361043, -0.5349944602375606, 0.5117210944216953, -0.26640400859153673, -0.1646257835500665, 0.6453499264358126, -1.2044048830284118, 1.872793548131166, -1.8164526201212032, 1.6541851866630062, -2.142666230649]  \n",
       "2                [-0.5912865400314331, 0.19827693700790405, 0.5054091811180115, 0.2651362419128418, 0.5384843349456787, 0.21282942593097687, 0.3593631386756897, -0.42768657207489014, -0.22806212306022644, 0.5242754220962524, 0.7951330542564392, 0.06683247536420822, -0.1490078866481781, -0.2776865065097809, -1.2925686836242676, 1.2144662090537686, -1.183477361379913, 2.1306274127125904, -1.1758127930699978, -0.3092011481361043, 2.374013638541697, -0.6259258882315683, -0.6025761034947833, -0.5873232499193564, 0.6453499264358126, -1.2044048830284118, -0.3997478418740689, -0.21005905433508043, -1.854615663007104, -2.142666230649]  \n",
       "3           [-0.4566471576690674, 0.5354787111282349, 1.7839219570159912, -1.2448246479034424, 0.024612929672002792, 0.26332181692123413, -0.8040102124214172, 0.16238971054553986, -0.35203710198402405, 0.37662094831466675, 0.7859536409378052, 0.6951225996017456, 0.438914954662323, -0.7189780473709106, 0.012237541377544403, 1.2304207291798093, -1.4839351050077376, -0.16284109162119192, -0.6415119848547415, -0.3092011481361043, -0.5349062022700511, -0.05710239690493648, 0.9928168892663868, 0.3837053008849818, 0.6453499264358126, -1.295489505426095, -0.39080317620886856, -0.5426988976237884, -1.3774552183139837, -2.142666230649]  \n",
       "4              [-0.4916699230670929, 0.2079925537109375, 1.5473459959030151, -0.6245953440666199, 0.6297972798347473, 0.08845526725053787, -1.0048013925552368, 0.13564133644104004, -0.448259562253952, -0.01485042180866003, 1.0761586427688599, 0.3285246193408966, 0.7505322098731995, -0.7707496881484985, -0.13520577549934387, 1.203829862303075, -0.6732660986156829, -0.5052618172494476, -1.0749308222880962, -0.3092011481361043, -0.5349891074077622, -0.6259258882315683, 0.12674640748175162, 0.24684186220999385, 0.6453499264358126, -1.3410318166249366, -0.3752990890558546, -0.4921038246856425, -1.0431389831786766, -2.142666230649]  \n",
       "...                                                                                                                                                                                                                                                                                                                                                                                                                                                                                                                                                                                                                                                   ...  \n",
       "157680         [-0.28655603528022766, 0.9745289087295532, 1.3392137289047241, -0.9253003001213074, -0.2074325680732727, 0.7460130453109741, -0.7828342318534851, -0.4283033609390259, 0.2643398344516754, 1.1300415992736816, 0.7959958910942078, 0.37394899129867554, -0.08583994954824448, -0.07435858994722366, -0.35595691204071045, -1.1159573640232203, 1.4129310646869482, 0.5623251501011589, 1.222936289966328, -0.3092011481361043, -0.5340736460639054, 0.5117210944216953, -0.7096953472944619, 1.3687711274508574, 0.6453499264358126, 1.8469299672939783, -0.07654725583816306, -0.38271961815355937, 0.3055231017421648, 1.67161836828771]  \n",
       "157681         [-0.8442466855049133, 0.44078871607780457, 1.1242568492889404, -0.5557034015655518, -0.3165823519229889, -0.2579832673072815, -0.6739505529403687, 0.044604092836380005, -0.3704001307487488, 0.5132179260253906, 0.6041792631149292, 0.6238645911216736, 0.33421558141708374, -0.9213175177574158, -0.22282981872558594, -0.7931442401396668, 1.0217690965677046, -0.6320793298536824, 1.0174359791143062, -0.3092011481361043, -0.5349944602375606, 0.5117210944216953, -0.6025761034947833, 0.9620410622603162, 0.6453499264358126, 1.6647607224986116, -0.24112910407784943, 0.6872881358153081, 0.7842031656859001, 1.67161836828771]  \n",
       "157682  [-0.34516969323158264, 0.09709582477807999, 0.6036271452903748, -0.29998070001602173, 0.00513003533706069, 0.16760064661502838, -0.1008884385228157, -0.04938097670674324, -0.0713208019733429, 0.2948763072490692, 0.5107501149177551, 0.376104474067688, 0.04023111239075661, -0.18077604472637177, -0.22394497692584991, -1.0723483423453763, 0.5512409320184701, -0.15272035989643223, 1.4097547543772566, -0.3092011481361043, -0.5349671862952544, -0.34151414256825235, 0.29198353887487283, 1.6277588652512194, -1.549546934208044, 2.0290992120893447, -0.11948165103112472, -0.8165170912048448, 0.41569549741175477, 1.67161836828771]  \n",
       "157683            [-0.5850518345832825, 0.4422513544559479, 1.3515478372573853, -1.0609279870986938, 0.15809135138988495, 0.025874977931380272, -0.6630580425262451, -0.06309940665960312, -0.2641795873641968, 0.19424855709075928, 0.9878397583961487, 0.45681536197662354, 0.5147631168365479, -0.6564363837242126, 0.036643724888563156, -1.3143784126574114, 0.7609944511548762, 0.8424875619788227, 0.5317079716458913, 3.2341406428407566, -0.5349704043655499, -0.9103376338948841, 2.485648903921482, 0.7618344167113913, 0.6453499264358126, 1.755845344896295, 1.2347407306802076, -1.3573576106008445, -1.2634837745178564, 1.67161836828771]  \n",
       "157684                [-0.5087469816207886, 0.946880578994751, 1.1904650926589966, -0.7641785144805908, -0.3542262017726898, 0.634281575679779, -0.6205987334251404, -0.30390694737434387, 0.23018614947795868, 0.8166864514350891, 0.7776119112968445, 0.3352837562561035, 0.1444573551416397, -0.22916309535503387, -0.09288349747657776, -0.9899166550275, 1.809762046836905, -0.32487558789892634, 0.8978721618913117, 3.2341406428407566, -0.5199874195527301, 0.5117210944216953, -0.14105170201744485, 1.1536498764052994, 0.6453499264358126, 1.9380145896916616, 0.0421186419868282, -0.7091163676092826, 0.43469073804444264, 1.67161836828771]  \n",
       "\n",
       "[157685 rows x 4 columns]"
      ]
     },
     "execution_count": 49,
     "metadata": {},
     "output_type": "execute_result"
    }
   ],
   "source": [
    "songs.query()"
   ]
  },
  {
   "cell_type": "code",
   "execution_count": 50,
   "id": "f9a04081",
   "metadata": {},
   "outputs": [
    {
     "name": "stdout",
     "output_type": "stream",
     "text": [
      "(157685, 4)\n"
     ]
    },
    {
     "data": {
      "text/html": [
       "<div>\n",
       "<style scoped>\n",
       "    .dataframe tbody tr th:only-of-type {\n",
       "        vertical-align: middle;\n",
       "    }\n",
       "\n",
       "    .dataframe tbody tr th {\n",
       "        vertical-align: top;\n",
       "    }\n",
       "\n",
       "    .dataframe thead th {\n",
       "        text-align: right;\n",
       "    }\n",
       "</style>\n",
       "<table border=\"1\" class=\"dataframe\">\n",
       "  <thead>\n",
       "    <tr style=\"text-align: right;\">\n",
       "      <th></th>\n",
       "      <th>song_name</th>\n",
       "      <th>song_artists</th>\n",
       "      <th>song_year</th>\n",
       "      <th>song_embeddings</th>\n",
       "    </tr>\n",
       "  </thead>\n",
       "  <tbody>\n",
       "    <tr>\n",
       "      <th>0</th>\n",
       "      <td>Piano Concerto No. 3 in D Minor, Op. 30: III. Finale. Alla breve</td>\n",
       "      <td>Sergei Rachmaninoff, James Levine, Berliner Philharmoniker</td>\n",
       "      <td>1921</td>\n",
       "      <td>[-1.3084614276885986, 0.6610294580459595, 1.6010186672210693, -0.8913263082504272, -0.541313111782074, -0.38705459237098694, -1.212449073791504, -0.5503847002983093, -0.4272725582122803, 1.4809987545013428, 0.26244431734085083, 0.27446767687797546, 0.2161151021718979, -1.085810899734497, -0.8427320122718811, 1.2703070294949106, -1.461259048884883, 4.752569009266444, -1.007676175100162, -0.3092011481361043, 2.262496351074803, 1.3649563314116429, 2.6110012104955738, -1.5078176079821606, 0.6453499264358126, -1.2499471942272533, -0.38364744367670833, -1.1655450558051375, -1.7786347004763523, -2.142666230649]</td>\n",
       "    </tr>\n",
       "    <tr>\n",
       "      <th>1</th>\n",
       "      <td>Clancy Lowered the Boom</td>\n",
       "      <td>Dennis Day</td>\n",
       "      <td>1921</td>\n",
       "      <td>[-0.46706071496009827, 0.22206126153469086, 1.6218688488006592, -0.6445634961128235, 0.15803197026252747, 0.29785123467445374, -0.553114116191864, -0.07888539880514145, -0.35507890582084656, 0.12263522297143936, 0.6071826219558716, 0.6136294603347778, 0.5297210812568665, -0.7411094307899475, 0.0877525731921196, 0.6055353575765545, 1.600008527700499, -0.3958314054754836, -0.5219481676317469, -0.3092011481361043, -0.5349944602375606, 0.5117210944216953, -0.26640400859153673, -0.1646257835500665, 0.6453499264358126, -1.2044048830284118, 1.872793548131166, -1.8164526201212032, 1.6541851866630062, -2.142666230649]</td>\n",
       "    </tr>\n",
       "    <tr>\n",
       "      <th>2</th>\n",
       "      <td>Gati Bali</td>\n",
       "      <td>KHP Kridhamardawa Karaton Ngayogyakarta Hadiningrat</td>\n",
       "      <td>1921</td>\n",
       "      <td>[-0.5912865400314331, 0.19827693700790405, 0.5054091811180115, 0.2651362419128418, 0.5384843349456787, 0.21282942593097687, 0.3593631386756897, -0.42768657207489014, -0.22806212306022644, 0.5242754220962524, 0.7951330542564392, 0.06683247536420822, -0.1490078866481781, -0.2776865065097809, -1.2925686836242676, 1.2144662090537686, -1.183477361379913, 2.1306274127125904, -1.1758127930699978, -0.3092011481361043, 2.374013638541697, -0.6259258882315683, -0.6025761034947833, -0.5873232499193564, 0.6453499264358126, -1.2044048830284118, -0.3997478418740689, -0.21005905433508043, -1.854615663007104, -2.142666230649]</td>\n",
       "    </tr>\n",
       "    <tr>\n",
       "      <th>3</th>\n",
       "      <td>Danny Boy</td>\n",
       "      <td>Frank Parker</td>\n",
       "      <td>1921</td>\n",
       "      <td>[-0.4566471576690674, 0.5354787111282349, 1.7839219570159912, -1.2448246479034424, 0.024612929672002792, 0.26332181692123413, -0.8040102124214172, 0.16238971054553986, -0.35203710198402405, 0.37662094831466675, 0.7859536409378052, 0.6951225996017456, 0.438914954662323, -0.7189780473709106, 0.012237541377544403, 1.2304207291798093, -1.4839351050077376, -0.16284109162119192, -0.6415119848547415, -0.3092011481361043, -0.5349062022700511, -0.05710239690493648, 0.9928168892663868, 0.3837053008849818, 0.6453499264358126, -1.295489505426095, -0.39080317620886856, -0.5426988976237884, -1.3774552183139837, -2.142666230649]</td>\n",
       "    </tr>\n",
       "    <tr>\n",
       "      <th>4</th>\n",
       "      <td>When Irish Eyes Are Smiling</td>\n",
       "      <td>Phil Regan</td>\n",
       "      <td>1921</td>\n",
       "      <td>[-0.4916699230670929, 0.2079925537109375, 1.5473459959030151, -0.6245953440666199, 0.6297972798347473, 0.08845526725053787, -1.0048013925552368, 0.13564133644104004, -0.448259562253952, -0.01485042180866003, 1.0761586427688599, 0.3285246193408966, 0.7505322098731995, -0.7707496881484985, -0.13520577549934387, 1.203829862303075, -0.6732660986156829, -0.5052618172494476, -1.0749308222880962, -0.3092011481361043, -0.5349891074077622, -0.6259258882315683, 0.12674640748175162, 0.24684186220999385, 0.6453499264358126, -1.3410318166249366, -0.3752990890558546, -0.4921038246856425, -1.0431389831786766, -2.142666230649]</td>\n",
       "    </tr>\n",
       "  </tbody>\n",
       "</table>\n",
       "</div>"
      ],
      "text/plain": [
       "                                                          song_name  \\\n",
       "0  Piano Concerto No. 3 in D Minor, Op. 30: III. Finale. Alla breve   \n",
       "1                                           Clancy Lowered the Boom   \n",
       "2                                                         Gati Bali   \n",
       "3                                                         Danny Boy   \n",
       "4                                       When Irish Eyes Are Smiling   \n",
       "\n",
       "                                                 song_artists  song_year  \\\n",
       "0  Sergei Rachmaninoff, James Levine, Berliner Philharmoniker       1921   \n",
       "1                                                  Dennis Day       1921   \n",
       "2         KHP Kridhamardawa Karaton Ngayogyakarta Hadiningrat       1921   \n",
       "3                                                Frank Parker       1921   \n",
       "4                                                  Phil Regan       1921   \n",
       "\n",
       "                                                                                                                                                                                                                                                                                                                                                                                                                                                                                                                                                                                                                                 song_embeddings  \n",
       "0            [-1.3084614276885986, 0.6610294580459595, 1.6010186672210693, -0.8913263082504272, -0.541313111782074, -0.38705459237098694, -1.212449073791504, -0.5503847002983093, -0.4272725582122803, 1.4809987545013428, 0.26244431734085083, 0.27446767687797546, 0.2161151021718979, -1.085810899734497, -0.8427320122718811, 1.2703070294949106, -1.461259048884883, 4.752569009266444, -1.007676175100162, -0.3092011481361043, 2.262496351074803, 1.3649563314116429, 2.6110012104955738, -1.5078176079821606, 0.6453499264358126, -1.2499471942272533, -0.38364744367670833, -1.1655450558051375, -1.7786347004763523, -2.142666230649]  \n",
       "1       [-0.46706071496009827, 0.22206126153469086, 1.6218688488006592, -0.6445634961128235, 0.15803197026252747, 0.29785123467445374, -0.553114116191864, -0.07888539880514145, -0.35507890582084656, 0.12263522297143936, 0.6071826219558716, 0.6136294603347778, 0.5297210812568665, -0.7411094307899475, 0.0877525731921196, 0.6055353575765545, 1.600008527700499, -0.3958314054754836, -0.5219481676317469, -0.3092011481361043, -0.5349944602375606, 0.5117210944216953, -0.26640400859153673, -0.1646257835500665, 0.6453499264358126, -1.2044048830284118, 1.872793548131166, -1.8164526201212032, 1.6541851866630062, -2.142666230649]  \n",
       "2       [-0.5912865400314331, 0.19827693700790405, 0.5054091811180115, 0.2651362419128418, 0.5384843349456787, 0.21282942593097687, 0.3593631386756897, -0.42768657207489014, -0.22806212306022644, 0.5242754220962524, 0.7951330542564392, 0.06683247536420822, -0.1490078866481781, -0.2776865065097809, -1.2925686836242676, 1.2144662090537686, -1.183477361379913, 2.1306274127125904, -1.1758127930699978, -0.3092011481361043, 2.374013638541697, -0.6259258882315683, -0.6025761034947833, -0.5873232499193564, 0.6453499264358126, -1.2044048830284118, -0.3997478418740689, -0.21005905433508043, -1.854615663007104, -2.142666230649]  \n",
       "3  [-0.4566471576690674, 0.5354787111282349, 1.7839219570159912, -1.2448246479034424, 0.024612929672002792, 0.26332181692123413, -0.8040102124214172, 0.16238971054553986, -0.35203710198402405, 0.37662094831466675, 0.7859536409378052, 0.6951225996017456, 0.438914954662323, -0.7189780473709106, 0.012237541377544403, 1.2304207291798093, -1.4839351050077376, -0.16284109162119192, -0.6415119848547415, -0.3092011481361043, -0.5349062022700511, -0.05710239690493648, 0.9928168892663868, 0.3837053008849818, 0.6453499264358126, -1.295489505426095, -0.39080317620886856, -0.5426988976237884, -1.3774552183139837, -2.142666230649]  \n",
       "4     [-0.4916699230670929, 0.2079925537109375, 1.5473459959030151, -0.6245953440666199, 0.6297972798347473, 0.08845526725053787, -1.0048013925552368, 0.13564133644104004, -0.448259562253952, -0.01485042180866003, 1.0761586427688599, 0.3285246193408966, 0.7505322098731995, -0.7707496881484985, -0.13520577549934387, 1.203829862303075, -0.6732660986156829, -0.5052618172494476, -1.0749308222880962, -0.3092011481361043, -0.5349891074077622, -0.6259258882315683, 0.12674640748175162, 0.24684186220999385, 0.6453499264358126, -1.3410318166249366, -0.3752990890558546, -0.4921038246856425, -1.0431389831786766, -2.142666230649]  "
      ]
     },
     "execution_count": 50,
     "metadata": {},
     "output_type": "execute_result"
    }
   ],
   "source": [
    "show_df(songs.query())"
   ]
  },
  {
   "cell_type": "markdown",
   "id": "89aca5e4",
   "metadata": {},
   "source": [
    "## 5. Query Songs From Vector Database"
   ]
  },
  {
   "cell_type": "markdown",
   "id": "6d9a23b4",
   "metadata": {},
   "source": [
    "Now that the data has been inserted into the database, we can perform some queries on the data."
   ]
  },
  {
   "cell_type": "markdown",
   "id": "6465d403",
   "metadata": {},
   "source": [
    "### Find Songs By Artist"
   ]
  },
  {
   "cell_type": "markdown",
   "id": "3aa6798d",
   "metadata": {},
   "source": [
    "We can query the database to find songs by particular artists using KDB.AI's `.query()` function.\n",
    "\n",
    "Here, we want to return all songs in the dataset by the DJ `Calvin Harris`, sorted by the year they were produced. This returns 32 songs to us."
   ]
  },
  {
   "cell_type": "code",
   "execution_count": 51,
   "id": "d30ac168",
   "metadata": {
    "scrolled": true
   },
   "outputs": [
    {
     "data": {
      "text/html": [
       "<div>\n",
       "<style scoped>\n",
       "    .dataframe tbody tr th:only-of-type {\n",
       "        vertical-align: middle;\n",
       "    }\n",
       "\n",
       "    .dataframe tbody tr th {\n",
       "        vertical-align: top;\n",
       "    }\n",
       "\n",
       "    .dataframe thead th {\n",
       "        text-align: right;\n",
       "    }\n",
       "</style>\n",
       "<table border=\"1\" class=\"dataframe\">\n",
       "  <thead>\n",
       "    <tr style=\"text-align: right;\">\n",
       "      <th></th>\n",
       "      <th>song_name</th>\n",
       "      <th>song_artists</th>\n",
       "      <th>song_year</th>\n",
       "      <th>song_embeddings</th>\n",
       "    </tr>\n",
       "  </thead>\n",
       "  <tbody>\n",
       "    <tr>\n",
       "      <th>0</th>\n",
       "      <td>Flashback</td>\n",
       "      <td>Calvin Harris</td>\n",
       "      <td>2009</td>\n",
       "      <td>[-0.4910580515861511, 0.540467381477356, 1.3442914485931396, -1.1832348108291626, 0.5024847984313965, 0.4400637745857239, -0.8165419101715088, -0.14912326633930206, 0.13948674499988556, 0.15553173422813416, 0.41881316900253296, 0.602066695690155, 0.3767136335372925, -0.3130016028881073, -0.17774870991706848, -1.3351724705550174, -1.5406252453148743, -0.011030115749796763, 1.7460279903169285, -0.3092011481361043, -0.5313940449564866, 1.0805445857483271, -0.7039975151774578, 1.0250333372402145, -1.549546934208044, 0.7539144985217788, -0.307319630000332, 0.36420802995835755, -1.2520866301382436, 1.247808968405853]</td>\n",
       "    </tr>\n",
       "    <tr>\n",
       "      <th>1</th>\n",
       "      <td>You Used To Hold Me</td>\n",
       "      <td>Calvin Harris</td>\n",
       "      <td>2009</td>\n",
       "      <td>[-0.4107224941253662, 0.6976003050804138, 1.8933608531951904, -1.1152050495147705, 0.3909798264503479, 0.1973215937614441, -1.1214869022369385, 0.12395014613866806, -0.28961804509162903, 0.09116952866315842, 1.361146092414856, 0.2691359519958496, 0.8772494196891785, -0.22174984216690063, -0.1768137663602829, -1.279491195315136, 0.46053670752705134, 0.004253770518922344, 1.8244917453695186, -0.3092011481361043, -0.5349904137531296, 1.6493680770749588, 0.6224578016611152, 0.958707209266951, -1.549546934208044, 0.5717452537264123, -0.35562082459241384, 0.3955535635781341, -1.2824790151505443, 1.247808968405853]</td>\n",
       "    </tr>\n",
       "    <tr>\n",
       "      <th>2</th>\n",
       "      <td>I'm Not Alone - Radio Edit</td>\n",
       "      <td>Calvin Harris</td>\n",
       "      <td>2009</td>\n",
       "      <td>[-0.5333942770957947, 0.632325291633606, 1.6398407220840454, -1.0604794025421143, 0.2829623520374298, 0.18867354094982147, -0.9835246801376343, 0.1709904968738556, -0.19129319489002228, 0.24490037560462952, 1.0491188764572144, 0.36916524171829224, 0.8066525459289551, -0.44579797983169556, -0.11600116640329361, -1.3273547556932577, 0.3074733286977821, -0.1491385696844665, 0.7932538218211915, -0.3092011481361043, -0.14309084999676247, 0.5117210944216953, 0.4914076629700189, 0.8665875870818629, 0.6453499264358126, 0.3895760089310457, -0.411077751716656, 0.46191895166730823, -0.36310936852844955, 1.247808968405853]</td>\n",
       "    </tr>\n",
       "    <tr>\n",
       "      <th>3</th>\n",
       "      <td>We Found Love</td>\n",
       "      <td>Rihanna, Calvin Harris</td>\n",
       "      <td>2011</td>\n",
       "      <td>[-0.3598034977912903, 0.7455580830574036, 1.6835709810256958, -1.104311227798462, 0.2709399461746216, 0.22481369972229004, -1.127227544784546, 0.005336357280611992, -0.034981757402420044, 0.25602656602859497, 0.934143602848053, 0.438564270734787, 0.7639918327331543, -0.5546166896820068, -0.23971381783485413, -1.2744389306085564, 1.1181423350898372, -0.12151213480453658, 1.0660087798611477, -0.3092011481361043, -0.5305974929031516, -1.1947493795582, -0.5626912786757541, 1.2313812909348116, 0.6453499264358126, 1.9835569008905032, -0.37351015592281456, 0.36375280436636925, 0.2751307167298641, 1.3248652229298272]</td>\n",
       "    </tr>\n",
       "    <tr>\n",
       "      <th>4</th>\n",
       "      <td>Dance Wiv Me - Radio Edit</td>\n",
       "      <td>Dizzee Rascal, Calvin Harris, Chrome</td>\n",
       "      <td>2011</td>\n",
       "      <td>[-0.38744503259658813, 0.5095685720443726, 1.3607453107833862, -0.9676647186279297, 0.1452278345823288, 0.26811453700065613, -0.56062251329422, 0.058428164571523666, -0.23659648001194, 0.222921684384346, 0.5812807083129883, 0.40284159779548645, 0.28188979625701904, -0.3537159562110901, -0.19545702636241913, -1.2143435714671371, 1.9344803555126058, -0.20954668716662583, 0.9912813940967762, -0.3092011481361043, -0.5349944602375606, 1.6493680770749588, -0.30059100129356187, 1.2671763441267319, 0.6453499264358126, 1.5281337889020867, -0.3329610049072396, -0.1561798539118754, 1.00454795702508, 1.3248652229298272]</td>\n",
       "    </tr>\n",
       "    <tr>\n",
       "      <th>5</th>\n",
       "      <td>Feel So Close - Radio Edit</td>\n",
       "      <td>Calvin Harris</td>\n",
       "      <td>2012</td>\n",
       "      <td>[-0.44324296712875366, 0.6264983415603638, 1.615656852722168, -1.2315382957458496, 0.36009278893470764, 0.4174306392669678, -0.9566606879234314, 0.1460820585489273, -0.3323456048965454, 0.22914759814739227, 0.9515199661254883, 0.47497859597206116, 0.6885043978691101, -0.3836240768432617, -0.10300761461257935, -1.3383314655399736, 0.9650789562605678, -0.19120286091549893, 1.6563551273996828, -0.3092011481361043, -0.5125954164977816, 0.5117210944216953, -0.015699395443352974, 1.5196718418873827, 0.6453499264358126, 2.2112684568847114, -0.4170408621601229, 0.36215951479440944, 1.4870270690953529, 1.363393350191814]</td>\n",
       "    </tr>\n",
       "    <tr>\n",
       "      <th>6</th>\n",
       "      <td>Sweet Nothing (feat. Florence Welch)</td>\n",
       "      <td>Calvin Harris, Florence Welch</td>\n",
       "      <td>2012</td>\n",
       "      <td>[-0.40882691740989685, 0.6764470338821411, 1.477700114250183, -1.1095026731491089, 0.016572212800383568, 0.06780119240283966, -0.9213535189628601, -0.1499304473400116, -0.012639260850846767, 0.3309081196784973, 0.8274251222610474, 0.6812624335289001, 0.4366550147533417, -0.5594111084938049, -0.18349286913871765, -0.8170760203287275, 0.20543107614493594, -0.14259962817167257, 1.6750369738407758, -0.3092011481361043, -0.5346376049176665, 0.7961328400850112, -0.8549900662780685, 1.3266593001662457, -1.549546934208044, 1.8469299672939783, 0.048081752430295104, 0.36206196645326905, 0.20674785045218758, 1.363393350191814]</td>\n",
       "    </tr>\n",
       "    <tr>\n",
       "      <th>7</th>\n",
       "      <td>I Need Your Love (feat. Ellie Goulding)</td>\n",
       "      <td>Calvin Harris, Ellie Goulding</td>\n",
       "      <td>2012</td>\n",
       "      <td>[-0.3774174749851227, 0.8269869089126587, 1.50078284740448, -1.1727783679962158, -0.010527359321713448, 0.23503747582435608, -1.0714644193649292, -0.033264197409152985, -0.07468359172344208, 0.4814065992832184, 0.9365670680999756, 0.5289013385772705, 0.5522522926330566, -0.4374532699584961, -0.13418690860271454, -0.2506905558542882, 0.8970507878920038, 0.030931386799656055, 1.4508548165476611, -0.3092011481361043, -0.5349944602375606, 0.7961328400850112, 0.17232906441778495, 1.1294355757166477, 0.6453499264358126, 1.8013876560951365, -0.31387905148814554, 0.2663020115671261, 0.1991497541991124, 1.363393350191814]</td>\n",
       "    </tr>\n",
       "    <tr>\n",
       "      <th>8</th>\n",
       "      <td>Let's Go (feat. Ne-Yo)</td>\n",
       "      <td>Calvin Harris, Ne-Yo</td>\n",
       "      <td>2012</td>\n",
       "      <td>[-0.39963534474372864, 0.7486370801925659, 1.5308308601379395, -1.272628664970398, -0.2500835061073303, 0.2834585905075073, -0.9142901301383972, -0.11888151615858078, -0.07866819947957993, 0.5267953276634216, 1.0008399486541748, 0.5832821130752563, 0.7204375863075256, -0.5482826232910156, -0.09892870485782623, -1.3202549942371695, 0.9820859983527089, 0.01743444222608983, 1.4994276172945025, -0.3092011481361043, -0.5104287949127105, -0.34151414256825235, 0.4971054950870231, 1.5038799066556534, -1.549546934208044, 1.5736761001009283, -0.24709221452131636, 0.36472828777777266, 1.3198689515276991, 1.363393350191814]</td>\n",
       "    </tr>\n",
       "    <tr>\n",
       "      <th>9</th>\n",
       "      <td>Thinking About You (feat. Ayah Marar)</td>\n",
       "      <td>Calvin Harris, Ayah Marar</td>\n",
       "      <td>2012</td>\n",
       "      <td>[-0.3512330949306488, 0.7024886012077332, 1.2614879608154297, -0.9504008889198303, 0.015216207131743431, 0.19515106081962585, -0.7863128781318665, -0.04647252336144447, -0.007798895705491304, 0.4837551414966583, 0.7469135522842407, 0.4484209716320038, 0.5094717741012573, -0.41166651248931885, -0.17580729722976685, -1.3339492906786878, 1.067121208813414, 0.1370883744063931, 1.4695366629887539, -0.3092011481361043, -0.5336817424536646, -1.479161125221516, -0.6322048305032051, 1.3664900701396077, -1.549546934208044, 1.61921841129977, -0.36575811234630756, 0.3637202882526556, 0.8373898394574263, 1.363393350191814]</td>\n",
       "    </tr>\n",
       "    <tr>\n",
       "      <th>10</th>\n",
       "      <td>Spectrum (Say My Name) - Calvin Harris Remix</td>\n",
       "      <td>Florence + The Machine, Calvin Harris</td>\n",
       "      <td>2012</td>\n",
       "      <td>[-0.45267805457115173, 0.5793741941452026, 1.724799633026123, -1.1064972877502441, 0.23043972253799438, 0.20666712522506714, -0.9249350428581238, -0.09840086847543716, -0.052852317690849304, 0.1088552251458168, 0.8847510814666748, 0.740455150604248, 0.43202877044677734, -0.48771727085113525, -0.077384814620018, -1.334933152753127, 0.23377614629850432, -0.09808422222604993, 1.7385552517404912, -0.3092011481361043, -0.5218672823986005, 1.6493680770749588, -0.6276465648096017, 1.3428021672920136, -1.549546934208044, 0.9360837433171454, -0.31447536253249225, 0.30216728499307355, 0.2295421392114131, 1.363393350191814]</td>\n",
       "    </tr>\n",
       "    <tr>\n",
       "      <th>11</th>\n",
       "      <td>Bounce (feat. Kelis) - Radio Edit</td>\n",
       "      <td>Calvin Harris, Kelis</td>\n",
       "      <td>2012</td>\n",
       "      <td>[-0.3972977101802826, 0.7559469938278198, 1.4296000003814697, -1.2333838939666748, -0.08654845505952835, 0.2865409851074219, -0.7764200568199158, -0.07368560135364532, -0.10281690210103989, 0.5347558856010437, 0.6492310762405396, 0.6430849432945251, 0.4008353352546692, -0.40742650628089905, -0.08398512750864029, -1.2521026024320998, 1.3732479664719526, -0.06648065605115584, 1.802073529640207, -0.3092011481361043, 1.0358061889389716, -0.9103376338948841, 2.6053033783785695, 1.6454809259001602, -1.549546934208044, 1.4370491665044034, -0.36396917921326755, 0.3622895792492634, 0.8791793688493397, 1.363393350191814]</td>\n",
       "    </tr>\n",
       "    <tr>\n",
       "      <th>12</th>\n",
       "      <td>We'll Be Coming Back (feat. Example)</td>\n",
       "      <td>Calvin Harris, Example</td>\n",
       "      <td>2012</td>\n",
       "      <td>[-0.34059783816337585, 0.7046299576759338, 1.567442536354065, -0.9440027475357056, 0.010635298676788807, 0.21948833763599396, -0.9731754660606384, 0.029252592474222183, -0.13168580830097198, 0.3829052746295929, 0.9932756423950195, 0.4696826934814453, 0.7406731843948364, -0.5489519834518433, -0.19860906898975372, -1.3374326942395398, 0.3358183988513505, 0.029769084015640684, 1.7609734674698028, -0.3092011481361043, -0.5349944602375606, 0.5117210944216953, 2.2292464586562937, 1.252612670524137, 0.6453499264358126, 1.5281337889020867, -0.08131774419293655, 0.36241964370411694, 0.16495832106027414, 1.363393350191814]</td>\n",
       "    </tr>\n",
       "    <tr>\n",
       "      <th>13</th>\n",
       "      <td>Drinking from the Bottle (feat. Tinie Tempah)</td>\n",
       "      <td>Calvin Harris, Tinie Tempah</td>\n",
       "      <td>2012</td>\n",
       "      <td>[-0.42183399200439453, 0.5862194895744324, 1.2953916788101196, -0.9390124678611755, -0.08238545805215836, 0.17917677760124207, -0.7101532220840454, -0.1406235694885254, -0.0787709653377533, 0.41837039589881897, 0.7092507481575012, 0.5465660095214844, 0.36408814787864685, -0.6244803071022034, -0.08556903898715973, -1.2162049321485084, 0.7269803669705941, 0.07710722529387208, 1.5143730944473768, -0.3092011481361043, -0.5347956408450482, 1.0805445857483271, -0.878920961169486, 1.2857757345107685, -1.549546934208044, 1.4370491665044034, -0.2953934091133982, 0.3662240290085925, 0.009197347872233573, 1.363393350191814]</td>\n",
       "    </tr>\n",
       "    <tr>\n",
       "      <th>14</th>\n",
       "      <td>Summer</td>\n",
       "      <td>Calvin Harris</td>\n",
       "      <td>2014</td>\n",
       "      <td>[-0.6719444394111633, 0.6872846484184265, 1.7020819187164307, -1.436699628829956, 0.40188056230545044, 0.4849163889884949, -1.083462119102478, -0.16809232532978058, -0.1046343743801117, 0.05270920693874359, 0.6027317643165588, 0.710165798664093, 0.5008111596107483, -0.42074471712112427, -0.04613339900970459, -1.284809368690483, 0.3358183988513505, -0.06374489575680674, 1.4022820158008196, -0.3092011481361043, -0.4782799540401117, -0.34151414256825235, -0.37466281881461627, 1.394389155715663, -1.549546934208044, 2.2112684568847114, -0.3955736645636421, 0.362549708158971, 0.8183945988247383, 1.440449604715788]</td>\n",
       "    </tr>\n",
       "    <tr>\n",
       "      <th>15</th>\n",
       "      <td>Outside (feat. Ellie Goulding)</td>\n",
       "      <td>Calvin Harris, Ellie Goulding</td>\n",
       "      <td>2014</td>\n",
       "      <td>[-0.3573906123638153, 0.8027336597442627, 1.3717281818389893, -1.2795078754425049, -0.043902747333049774, 0.3503075838088989, -0.9301891326904297, -0.1977846473455429, 0.0013075803872197866, 0.516788899898529, 0.7290318012237549, 0.6742270588874817, 0.4341610372066498, -0.44604623317718506, -0.12713971734046936, -0.7745306333259528, 0.6192691003870343, -0.02631400201851587, 1.2789818292896065, -0.3092011481361043, -0.5349944602375606, -0.9103376338948841, 0.6566447943631403, 1.2948999637557677, -1.549546934208044, 2.2112684568847114, -0.366950734435001, 0.36534609393832856, -0.41629604229997574, 1.440449604715788]</td>\n",
       "    </tr>\n",
       "    <tr>\n",
       "      <th>16</th>\n",
       "      <td>Blame (feat. John Newman)</td>\n",
       "      <td>Calvin Harris, John Newman</td>\n",
       "      <td>2014</td>\n",
       "      <td>[-0.40171974897384644, 0.6296876072883606, 1.5806726217269897, -1.440370798110962, 0.042835451662540436, 0.4440273642539978, -1.1382536888122559, -0.181850403547287, -0.0705193355679512, 0.3635680079460144, 0.5343220233917236, 0.6028924584388733, 0.38578176498413086, -0.8557679653167725, -0.2957802414894104, -1.2646003098641647, -0.6959421547385375, -0.13943689950768517, 1.406018385089038, -0.3092011481361043, -0.51670562509299, -1.479161125221516, 0.7762992688202281, 1.3027959313716324, -1.549546934208044, 2.0290992120893447, -0.12007796207547143, 0.36498841668748067, -0.6822294111576065, 1.440449604715788]</td>\n",
       "    </tr>\n",
       "    <tr>\n",
       "      <th>17</th>\n",
       "      <td>Under Control (feat. Hurts)</td>\n",
       "      <td>Calvin Harris, Alesso, Hurts</td>\n",
       "      <td>2014</td>\n",
       "      <td>[-0.34438657760620117, 0.6941242218017578, 1.4575908184051514, -1.1487195491790771, -0.024735113605856895, 0.30485472083091736, -0.8760634064674377, -0.04816131666302681, 0.06255228817462921, 0.4548816680908203, 0.8383621573448181, 0.5947394371032715, 0.40871840715408325, -0.46514543890953064, -0.17008700966835022, -0.9978939150905204, 0.04102966925423999, -0.36620454471558167, 1.6227278038057156, -0.3092011481361043, -0.532082265930568, 0.7961328400850112, -0.5228064538567248, 1.4208845137155646, 0.6453499264358126, 1.8924722784928198, -0.10039969761203067, 0.30223231722050037, -0.06678361465851812, 1.440449604715788]</td>\n",
       "    </tr>\n",
       "    <tr>\n",
       "      <th>18</th>\n",
       "      <td>Pray to God (feat. HAIM)</td>\n",
       "      <td>Calvin Harris, HAIM</td>\n",
       "      <td>2014</td>\n",
       "      <td>[-0.39463168382644653, 0.6960747838020325, 1.357674241065979, -1.0414999723434448, -0.06338931620121002, 0.2308138757944107, -0.9231687784194946, -0.11910665780305862, 0.01573355868458748, 0.34958145022392273, 0.7799509763717651, 0.5971093773841858, 0.48386746644973755, -0.5111026763916016, -0.20487645268440247, -1.3010297974852907, 0.39250853915848727, 0.01290383341492788, 1.7497643596051469, -0.3092011481361043, -0.5349065208908724, 0.5117210944216953, -0.5569934465587499, 1.5359901749601697, -1.549546934208044, 1.4370491665044034, -0.3550245135480672, 0.10508711977578558, -0.3479131760222992, 1.440449604715788]</td>\n",
       "    </tr>\n",
       "    <tr>\n",
       "      <th>19</th>\n",
       "      <td>Open Wide (feat. Big Sean)</td>\n",
       "      <td>Calvin Harris, Big Sean</td>\n",
       "      <td>2014</td>\n",
       "      <td>[-0.334529846906662, 0.8217257261276245, 1.5565983057022095, -1.3403756618499756, -0.022130949422717094, 0.36997514963150024, -0.9882375001907349, -0.3357073664665222, 0.010691196657717228, 0.6033620834350586, 0.8761431574821472, 0.6704148650169373, 0.3931194841861725, -0.6119762063026428, 0.03310846909880638, -1.1553118470007873, 1.2655366998883928, -0.3403729583524646, 1.7273461438758355, 3.2341406428407566, -0.5349944602375606, -1.1947493795582, 1.8133047141149887, 1.5440616085230539, 0.6453499264358126, 1.254879921709037, -0.38543637680974835, 0.36342764322923443, 0.6018488556120964, 1.440449604715788]</td>\n",
       "    </tr>\n",
       "    <tr>\n",
       "      <th>20</th>\n",
       "      <td>How Deep Is Your Love</td>\n",
       "      <td>Calvin Harris, Disciples</td>\n",
       "      <td>2015</td>\n",
       "      <td>[-0.4728720784187317, 0.5518804788589478, 1.6109695434570312, -1.0286717414855957, 0.3675752282142639, 0.13997463881969452, -1.1280438899993896, -0.04889865592122078, -0.11885416507720947, 0.1102195754647255, 1.030755639076233, 0.2824874520301819, 0.517681896686554, -0.6716663837432861, -0.14745381474494934, -1.2374776256498958, 1.140818391212692, -0.1419670824388751, 1.4471184472594425, -0.3092011481361043, -0.5295460441927495, 1.6493680770749588, 1.032701714085416, 1.251033477000964, -1.549546934208044, 2.0746415232881863, -0.16599391249016654, 0.16920889601873085, -0.7278179886760573, 1.478977731977775]</td>\n",
       "    </tr>\n",
       "    <tr>\n",
       "      <th>21</th>\n",
       "      <td>This Is What You Came For (feat. Rihanna)</td>\n",
       "      <td>Calvin Harris, Rihanna</td>\n",
       "      <td>2016</td>\n",
       "      <td>[-0.4270360767841339, 0.8244922757148743, 1.6008398532867432, -1.1161952018737793, -0.024216825142502785, 0.22562886774539948, -1.1976300477981567, -0.00886276364326477, -0.10469965636730194, 0.37526029348373413, 1.1089911460876465, 0.3554907739162445, 0.7297189235687256, -0.715300440788269, -0.11959255486726761, -0.8117578469533806, 0.5285648758956155, -0.06669414023597499, 1.6713006045525571, -0.3092011481361043, -0.13990464178342266, 1.0805445857483271, -0.33477799399558694, 1.5293224689734395, -1.549546934208044, 2.16572614568587, -0.4045183302288425, 0.23294047889711456, -0.23774078035270924, 1.517505859239762]</td>\n",
       "    </tr>\n",
       "    <tr>\n",
       "      <th>22</th>\n",
       "      <td>The Weekend - Funk Wav Remix</td>\n",
       "      <td>SZA, Calvin Harris, Funk Wav</td>\n",
       "      <td>2017</td>\n",
       "      <td>[-0.552349865436554, 0.519532322883606, 1.3387690782546997, -1.0530767440795898, 0.15811410546302795, 0.24560780823230743, -0.594443142414093, -0.12019900232553482, -0.00834596436470747, 0.26289835572242737, 0.5789621472358704, 0.6655816435813904, 0.4282321035861969, -0.44156667590141296, -0.15059545636177063, -0.024668187402047063, 1.3505719103490978, -0.46483423810202873, 0.3448895072349624, -0.3092011481361043, -0.5349944602375606, 1.6493680770749588, -0.46013030056967885, 1.1527725466702032, 0.6453499264358126, 2.0290992120893447, -0.2530553249647832, -0.48364963512014286, 0.5296669412078823, 1.556033986501749]</td>\n",
       "    </tr>\n",
       "    <tr>\n",
       "      <th>23</th>\n",
       "      <td>Slide (feat. Frank Ocean &amp; Migos)</td>\n",
       "      <td>Calvin Harris, Frank Ocean, Migos</td>\n",
       "      <td>2017</td>\n",
       "      <td>[-0.6439547538757324, 0.7923202514648438, 1.6501028537750244, -1.3161218166351318, -0.00830418523401022, 0.3083350956439972, -0.9791264533996582, -0.33999472856521606, 0.061965323984622955, 0.2743394672870636, 0.653153121471405, 0.7045636177062988, 0.5345454812049866, -0.3346024751663208, -0.15162959694862366, -0.016690927339026784, 1.1294803631512644, 0.0017235875877324247, 1.1743634892194865, 3.2341406428407566, -0.5349906049256224, -1.1947493795582, 0.2691922104068561, 1.4394839040996015, -1.549546934208044, 1.8924722784928198, -0.2769077667386508, -0.41403263565962234, -0.06298456653198053, 1.556033986501749]</td>\n",
       "    </tr>\n",
       "    <tr>\n",
       "      <th>24</th>\n",
       "      <td>Feels (feat. Pharrell Williams, Katy Perry &amp; Big Sean)</td>\n",
       "      <td>Calvin Harris, Pharrell Williams, Katy Perry, Big Sean, Funk Wav</td>\n",
       "      <td>2017</td>\n",
       "      <td>[-0.1343434453010559, 0.8025839924812317, 1.6011394262313843, -1.3177911043167114, -0.10094013065099716, 0.5396584272384644, -0.8790429830551147, -0.2712416350841522, -0.0832965224981308, 0.5782085657119751, 0.6473608016967773, 0.5536864995956421, 0.3662877082824707, -0.6567828059196472, -0.12414964288473129, -1.1702027324517583, 2.019515565973311, -0.05678689269603446, 0.9875450248085577, 3.2341406428407566, -0.5349944602375606, 1.6493680770749588, -0.6407515786787114, 1.473524297821329, -1.549546934208044, 1.9835569008905032, -0.26140367958563687, -0.513141750258252, 1.3084718071480863, 1.556033986501749]</td>\n",
       "    </tr>\n",
       "    <tr>\n",
       "      <th>25</th>\n",
       "      <td>Rollin (feat. Future &amp; Khalid)</td>\n",
       "      <td>Calvin Harris, Future, Khalid</td>\n",
       "      <td>2017</td>\n",
       "      <td>[-0.271653950214386, 0.9007911682128906, 1.4545247554779053, -1.3459070920944214, -0.1159094050526619, 0.38602936267852783, -0.8927914500236511, -0.4109659492969513, 0.06055565923452377, 0.5921362042427063, 0.75566565990448, 0.7608054876327515, 0.4182330369949341, -0.4724940359592438, -0.11672980338335037, -0.1443270883473511, 1.2315226157041106, 0.3326557013440539, 1.0510633027082734, 3.2341406428407566, -0.5347819401497308, 0.2273093487583794, 0.09825724689673071, 1.2312058249877926, -1.549546934208044, 1.5736761001009283, -0.09562920925725711, -0.8063070314988182, 0.5524612299671078, 1.556033986501749]</td>\n",
       "    </tr>\n",
       "    <tr>\n",
       "      <th>26</th>\n",
       "      <td>Slide (feat. Frank Ocean &amp; Migos)</td>\n",
       "      <td>Calvin Harris, Frank Ocean, Migos, Funk Wav</td>\n",
       "      <td>2017</td>\n",
       "      <td>[-0.6320245265960693, 0.7431554198265076, 1.5742533206939697, -1.2664735317230225, -0.01375668030232191, 0.28404319286346436, -0.884591281414032, -0.29355305433273315, 0.05956243723630905, 0.27304238080978394, 0.6070736646652222, 0.6801023483276367, 0.5112859606742859, -0.3615528643131256, -0.18587154150009155, -0.016690927339026784, 1.1294803631512644, 0.0017235875877324247, 1.1743634892194865, 3.2341406428407566, -0.5349906049256224, -1.1947493795582, 0.2691922104068561, 1.4394839040996015, -1.549546934208044, 1.61921841129977, -0.2769077667386508, -0.41403263565962234, -0.06298456653198053, 1.556033986501749]</td>\n",
       "    </tr>\n",
       "    <tr>\n",
       "      <th>27</th>\n",
       "      <td>Faking It (feat. Kehlani &amp; Lil Yachty)</td>\n",
       "      <td>Calvin Harris, Kehlani, Lil Yachty, Funk Wav</td>\n",
       "      <td>2017</td>\n",
       "      <td>[-0.2435208261013031, 0.878855288028717, 1.3256962299346924, -1.2897371053695679, -0.1352124959230423, 0.41241326928138733, -0.811428964138031, -0.43150678277015686, 0.056013185530900955, 0.6813869476318359, 0.8109644651412964, 0.5908800959587097, 0.500191867351532, -0.469093918800354, -0.20538823306560516, -0.4926674444325697, 1.3562409243798115, 0.07509889259224008, 0.40467141584645966, 3.2341406428407566, -0.5349944602375606, 1.0805445857483271, -0.7706621509464066, 1.2212042660076972, -1.549546934208044, 1.3915068553055618, 0.08386041509109653, 0.10518466811692596, 0.5334659893344199, 1.556033986501749]</td>\n",
       "    </tr>\n",
       "    <tr>\n",
       "      <th>28</th>\n",
       "      <td>Rollin (feat. Future &amp; Khalid)</td>\n",
       "      <td>Calvin Harris, Future, Khalid, Funk Wav</td>\n",
       "      <td>2017</td>\n",
       "      <td>[-0.32044824957847595, 0.8280851244926453, 1.4028438329696655, -1.2857781648635864, -0.10403352975845337, 0.34608930349349976, -0.8021416068077087, -0.34753552079200745, 0.0581207275390625, 0.5377289056777954, 0.687380850315094, 0.7242526412010193, 0.41177451610565186, -0.4794570207595825, -0.16059303283691406, -0.15496343509804483, 1.225853601673397, 0.33254500584081437, 1.0435905641318364, 3.2341406428407566, -0.534894731920483, 0.2273093487583794, -0.14105170201744485, 1.2255909146831776, -1.549546934208044, 1.3915068553055618, -0.0896660988137902, -0.8079003210707776, 0.4916764599425064, 1.556033986501749]</td>\n",
       "    </tr>\n",
       "    <tr>\n",
       "      <th>29</th>\n",
       "      <td>One Kiss (with Dua Lipa)</td>\n",
       "      <td>Calvin Harris, Dua Lipa</td>\n",
       "      <td>2018</td>\n",
       "      <td>[-0.23094740509986877, 0.7112250924110413, 1.4803465604782104, -1.0836466550827026, 0.08652644604444504, 0.3618428111076355, -0.8829537034034729, -0.0023090941831469536, 0.11337322741746902, 0.3758752942085266, 0.8001696467399597, 0.5654802918434143, 0.3208208382129669, -0.40069741010665894, -0.23168574273586273, -1.2425298903564754, 1.4412761348405165, -0.12451672703532461, 1.424700231530131, -0.3092011481361043, -0.5349246822776885, 1.0805445857483271, -0.7142536129880652, 1.449836394973735, -1.549546934208044, 2.3023530792823945, 0.054044862873762006, 0.23394847842223204, 0.24473833171756343, 1.5945621137637358]</td>\n",
       "    </tr>\n",
       "    <tr>\n",
       "      <th>30</th>\n",
       "      <td>Promises (with Sam Smith)</td>\n",
       "      <td>Calvin Harris, Sam Smith, Jessie Reyez</td>\n",
       "      <td>2018</td>\n",
       "      <td>[-0.34296104311943054, 0.4847215414047241, 1.6837449073791504, -1.12843656539917, 0.11851763725280762, 0.3825898766517639, -0.8144000172615051, -0.35309574007987976, -0.12614989280700684, 0.3834197223186493, 0.5459585189819336, 0.710420548915863, 0.7096815705299377, -0.36669090390205383, -0.17640478909015656, -1.3092729662170783, 1.3845859945333798, -0.13667741874835615, 1.073481518437585, -0.3092011481361043, -0.5349788159552331, 1.6493680770749588, 0.6737382907141528, 0.9671295747238734, 0.6453499264358126, 2.256810768083553, -0.366950734435001, 0.2039035893509937, -0.15796076969542017, 1.5945621137637358]</td>\n",
       "    </tr>\n",
       "    <tr>\n",
       "      <th>31</th>\n",
       "      <td>Giant (with Rag'n'Bone Man)</td>\n",
       "      <td>Calvin Harris', \"Rag'n'Bone Man\"</td>\n",
       "      <td>2019</td>\n",
       "      <td>[-0.421536386013031, 0.4355911910533905, 1.2112109661102295, -0.9331219792366028, -0.19318148493766785, 0.252230167388916, -0.5849483013153076, -0.12701471149921417, -0.006912388373166323, 0.49249017238616943, 0.8104239106178284, 0.3682797849178314, 0.44277307391166687, -1.0204404592514038, -0.05349435657262802, -1.2983707107976172, 1.5319803593319354, -0.011156624896356259, 1.5181094637355954, -0.3092011481361043, -0.5333917975062507, -1.1947493795582, -0.7159629626231665, 1.2619123657161553, -1.549546934208044, 2.16572614568587, -0.38662899889844177, 0.16959908938329238, 0.2979250054890896, 1.6330902410257229]</td>\n",
       "    </tr>\n",
       "    <tr>\n",
       "      <th>32</th>\n",
       "      <td>Over Now (with The Weeknd)</td>\n",
       "      <td>Calvin Harris, The Weeknd</td>\n",
       "      <td>2020</td>\n",
       "      <td>[-0.4947325885295868, 0.6079550385475159, 1.737709641456604, -1.0877118110656738, -0.011317149735987186, 0.3219142258167267, -1.031133770942688, -0.17133262753486633, -0.06881973892450333, 0.24320575594902039, 0.8558908700942993, 0.6969547271728516, 0.617370069026947, -0.6724939346313477, 0.08804884552955627, -1.1390914182059793, 0.4265226233427693, -0.15655516840151695, 1.5069003558709397, 3.2341406428407566, -0.530788665395952, -0.34151414256825235, 0.2293073855878268, 1.29665462322596, -1.549546934208044, 2.256810768083553, -0.33117207177419955, 1.9914119085210957, 0.5752555187263333, 1.67161836828771]</td>\n",
       "    </tr>\n",
       "  </tbody>\n",
       "</table>\n",
       "</div>"
      ],
      "text/plain": [
       "                                                 song_name  \\\n",
       "0                                                Flashback   \n",
       "1                                      You Used To Hold Me   \n",
       "2                               I'm Not Alone - Radio Edit   \n",
       "3                                            We Found Love   \n",
       "4                                Dance Wiv Me - Radio Edit   \n",
       "5                               Feel So Close - Radio Edit   \n",
       "6                     Sweet Nothing (feat. Florence Welch)   \n",
       "7                  I Need Your Love (feat. Ellie Goulding)   \n",
       "8                                   Let's Go (feat. Ne-Yo)   \n",
       "9                    Thinking About You (feat. Ayah Marar)   \n",
       "10            Spectrum (Say My Name) - Calvin Harris Remix   \n",
       "11                       Bounce (feat. Kelis) - Radio Edit   \n",
       "12                    We'll Be Coming Back (feat. Example)   \n",
       "13           Drinking from the Bottle (feat. Tinie Tempah)   \n",
       "14                                                  Summer   \n",
       "15                          Outside (feat. Ellie Goulding)   \n",
       "16                               Blame (feat. John Newman)   \n",
       "17                             Under Control (feat. Hurts)   \n",
       "18                                Pray to God (feat. HAIM)   \n",
       "19                              Open Wide (feat. Big Sean)   \n",
       "20                                   How Deep Is Your Love   \n",
       "21               This Is What You Came For (feat. Rihanna)   \n",
       "22                            The Weekend - Funk Wav Remix   \n",
       "23                       Slide (feat. Frank Ocean & Migos)   \n",
       "24  Feels (feat. Pharrell Williams, Katy Perry & Big Sean)   \n",
       "25                          Rollin (feat. Future & Khalid)   \n",
       "26                       Slide (feat. Frank Ocean & Migos)   \n",
       "27                  Faking It (feat. Kehlani & Lil Yachty)   \n",
       "28                          Rollin (feat. Future & Khalid)   \n",
       "29                                One Kiss (with Dua Lipa)   \n",
       "30                               Promises (with Sam Smith)   \n",
       "31                             Giant (with Rag'n'Bone Man)   \n",
       "32                              Over Now (with The Weeknd)   \n",
       "\n",
       "                                                        song_artists  \\\n",
       "0                                                      Calvin Harris   \n",
       "1                                                      Calvin Harris   \n",
       "2                                                      Calvin Harris   \n",
       "3                                             Rihanna, Calvin Harris   \n",
       "4                               Dizzee Rascal, Calvin Harris, Chrome   \n",
       "5                                                      Calvin Harris   \n",
       "6                                      Calvin Harris, Florence Welch   \n",
       "7                                      Calvin Harris, Ellie Goulding   \n",
       "8                                               Calvin Harris, Ne-Yo   \n",
       "9                                          Calvin Harris, Ayah Marar   \n",
       "10                             Florence + The Machine, Calvin Harris   \n",
       "11                                              Calvin Harris, Kelis   \n",
       "12                                            Calvin Harris, Example   \n",
       "13                                       Calvin Harris, Tinie Tempah   \n",
       "14                                                     Calvin Harris   \n",
       "15                                     Calvin Harris, Ellie Goulding   \n",
       "16                                        Calvin Harris, John Newman   \n",
       "17                                      Calvin Harris, Alesso, Hurts   \n",
       "18                                               Calvin Harris, HAIM   \n",
       "19                                           Calvin Harris, Big Sean   \n",
       "20                                          Calvin Harris, Disciples   \n",
       "21                                            Calvin Harris, Rihanna   \n",
       "22                                      SZA, Calvin Harris, Funk Wav   \n",
       "23                                 Calvin Harris, Frank Ocean, Migos   \n",
       "24  Calvin Harris, Pharrell Williams, Katy Perry, Big Sean, Funk Wav   \n",
       "25                                     Calvin Harris, Future, Khalid   \n",
       "26                       Calvin Harris, Frank Ocean, Migos, Funk Wav   \n",
       "27                      Calvin Harris, Kehlani, Lil Yachty, Funk Wav   \n",
       "28                           Calvin Harris, Future, Khalid, Funk Wav   \n",
       "29                                           Calvin Harris, Dua Lipa   \n",
       "30                            Calvin Harris, Sam Smith, Jessie Reyez   \n",
       "31                                  Calvin Harris', \"Rag'n'Bone Man\"   \n",
       "32                                         Calvin Harris, The Weeknd   \n",
       "\n",
       "    song_year  \\\n",
       "0        2009   \n",
       "1        2009   \n",
       "2        2009   \n",
       "3        2011   \n",
       "4        2011   \n",
       "5        2012   \n",
       "6        2012   \n",
       "7        2012   \n",
       "8        2012   \n",
       "9        2012   \n",
       "10       2012   \n",
       "11       2012   \n",
       "12       2012   \n",
       "13       2012   \n",
       "14       2014   \n",
       "15       2014   \n",
       "16       2014   \n",
       "17       2014   \n",
       "18       2014   \n",
       "19       2014   \n",
       "20       2015   \n",
       "21       2016   \n",
       "22       2017   \n",
       "23       2017   \n",
       "24       2017   \n",
       "25       2017   \n",
       "26       2017   \n",
       "27       2017   \n",
       "28       2017   \n",
       "29       2018   \n",
       "30       2018   \n",
       "31       2019   \n",
       "32       2020   \n",
       "\n",
       "                                                                                                                                                                                                                                                                                                                                                                                                                                                                                                                                                                                                                                       song_embeddings  \n",
       "0           [-0.4910580515861511, 0.540467381477356, 1.3442914485931396, -1.1832348108291626, 0.5024847984313965, 0.4400637745857239, -0.8165419101715088, -0.14912326633930206, 0.13948674499988556, 0.15553173422813416, 0.41881316900253296, 0.602066695690155, 0.3767136335372925, -0.3130016028881073, -0.17774870991706848, -1.3351724705550174, -1.5406252453148743, -0.011030115749796763, 1.7460279903169285, -0.3092011481361043, -0.5313940449564866, 1.0805445857483271, -0.7039975151774578, 1.0250333372402145, -1.549546934208044, 0.7539144985217788, -0.307319630000332, 0.36420802995835755, -1.2520866301382436, 1.247808968405853]  \n",
       "1              [-0.4107224941253662, 0.6976003050804138, 1.8933608531951904, -1.1152050495147705, 0.3909798264503479, 0.1973215937614441, -1.1214869022369385, 0.12395014613866806, -0.28961804509162903, 0.09116952866315842, 1.361146092414856, 0.2691359519958496, 0.8772494196891785, -0.22174984216690063, -0.1768137663602829, -1.279491195315136, 0.46053670752705134, 0.004253770518922344, 1.8244917453695186, -0.3092011481361043, -0.5349904137531296, 1.6493680770749588, 0.6224578016611152, 0.958707209266951, -1.549546934208044, 0.5717452537264123, -0.35562082459241384, 0.3955535635781341, -1.2824790151505443, 1.247808968405853]  \n",
       "2           [-0.5333942770957947, 0.632325291633606, 1.6398407220840454, -1.0604794025421143, 0.2829623520374298, 0.18867354094982147, -0.9835246801376343, 0.1709904968738556, -0.19129319489002228, 0.24490037560462952, 1.0491188764572144, 0.36916524171829224, 0.8066525459289551, -0.44579797983169556, -0.11600116640329361, -1.3273547556932577, 0.3074733286977821, -0.1491385696844665, 0.7932538218211915, -0.3092011481361043, -0.14309084999676247, 0.5117210944216953, 0.4914076629700189, 0.8665875870818629, 0.6453499264358126, 0.3895760089310457, -0.411077751716656, 0.46191895166730823, -0.36310936852844955, 1.247808968405853]  \n",
       "3             [-0.3598034977912903, 0.7455580830574036, 1.6835709810256958, -1.104311227798462, 0.2709399461746216, 0.22481369972229004, -1.127227544784546, 0.005336357280611992, -0.034981757402420044, 0.25602656602859497, 0.934143602848053, 0.438564270734787, 0.7639918327331543, -0.5546166896820068, -0.23971381783485413, -1.2744389306085564, 1.1181423350898372, -0.12151213480453658, 1.0660087798611477, -0.3092011481361043, -0.5305974929031516, -1.1947493795582, -0.5626912786757541, 1.2313812909348116, 0.6453499264358126, 1.9835569008905032, -0.37351015592281456, 0.36375280436636925, 0.2751307167298641, 1.3248652229298272]  \n",
       "4              [-0.38744503259658813, 0.5095685720443726, 1.3607453107833862, -0.9676647186279297, 0.1452278345823288, 0.26811453700065613, -0.56062251329422, 0.058428164571523666, -0.23659648001194, 0.222921684384346, 0.5812807083129883, 0.40284159779548645, 0.28188979625701904, -0.3537159562110901, -0.19545702636241913, -1.2143435714671371, 1.9344803555126058, -0.20954668716662583, 0.9912813940967762, -0.3092011481361043, -0.5349944602375606, 1.6493680770749588, -0.30059100129356187, 1.2671763441267319, 0.6453499264358126, 1.5281337889020867, -0.3329610049072396, -0.1561798539118754, 1.00454795702508, 1.3248652229298272]  \n",
       "5          [-0.44324296712875366, 0.6264983415603638, 1.615656852722168, -1.2315382957458496, 0.36009278893470764, 0.4174306392669678, -0.9566606879234314, 0.1460820585489273, -0.3323456048965454, 0.22914759814739227, 0.9515199661254883, 0.47497859597206116, 0.6885043978691101, -0.3836240768432617, -0.10300761461257935, -1.3383314655399736, 0.9650789562605678, -0.19120286091549893, 1.6563551273996828, -0.3092011481361043, -0.5125954164977816, 0.5117210944216953, -0.015699395443352974, 1.5196718418873827, 0.6453499264358126, 2.2112684568847114, -0.4170408621601229, 0.36215951479440944, 1.4870270690953529, 1.363393350191814]  \n",
       "6      [-0.40882691740989685, 0.6764470338821411, 1.477700114250183, -1.1095026731491089, 0.016572212800383568, 0.06780119240283966, -0.9213535189628601, -0.1499304473400116, -0.012639260850846767, 0.3309081196784973, 0.8274251222610474, 0.6812624335289001, 0.4366550147533417, -0.5594111084938049, -0.18349286913871765, -0.8170760203287275, 0.20543107614493594, -0.14259962817167257, 1.6750369738407758, -0.3092011481361043, -0.5346376049176665, 0.7961328400850112, -0.8549900662780685, 1.3266593001662457, -1.549546934208044, 1.8469299672939783, 0.048081752430295104, 0.36206196645326905, 0.20674785045218758, 1.363393350191814]  \n",
       "7         [-0.3774174749851227, 0.8269869089126587, 1.50078284740448, -1.1727783679962158, -0.010527359321713448, 0.23503747582435608, -1.0714644193649292, -0.033264197409152985, -0.07468359172344208, 0.4814065992832184, 0.9365670680999756, 0.5289013385772705, 0.5522522926330566, -0.4374532699584961, -0.13418690860271454, -0.2506905558542882, 0.8970507878920038, 0.030931386799656055, 1.4508548165476611, -0.3092011481361043, -0.5349944602375606, 0.7961328400850112, 0.17232906441778495, 1.1294355757166477, 0.6453499264358126, 1.8013876560951365, -0.31387905148814554, 0.2663020115671261, 0.1991497541991124, 1.363393350191814]  \n",
       "8          [-0.39963534474372864, 0.7486370801925659, 1.5308308601379395, -1.272628664970398, -0.2500835061073303, 0.2834585905075073, -0.9142901301383972, -0.11888151615858078, -0.07866819947957993, 0.5267953276634216, 1.0008399486541748, 0.5832821130752563, 0.7204375863075256, -0.5482826232910156, -0.09892870485782623, -1.3202549942371695, 0.9820859983527089, 0.01743444222608983, 1.4994276172945025, -0.3092011481361043, -0.5104287949127105, -0.34151414256825235, 0.4971054950870231, 1.5038799066556534, -1.549546934208044, 1.5736761001009283, -0.24709221452131636, 0.36472828777777266, 1.3198689515276991, 1.363393350191814]  \n",
       "9            [-0.3512330949306488, 0.7024886012077332, 1.2614879608154297, -0.9504008889198303, 0.015216207131743431, 0.19515106081962585, -0.7863128781318665, -0.04647252336144447, -0.007798895705491304, 0.4837551414966583, 0.7469135522842407, 0.4484209716320038, 0.5094717741012573, -0.41166651248931885, -0.17580729722976685, -1.3339492906786878, 1.067121208813414, 0.1370883744063931, 1.4695366629887539, -0.3092011481361043, -0.5336817424536646, -1.479161125221516, -0.6322048305032051, 1.3664900701396077, -1.549546934208044, 1.61921841129977, -0.36575811234630756, 0.3637202882526556, 0.8373898394574263, 1.363393350191814]  \n",
       "10        [-0.45267805457115173, 0.5793741941452026, 1.724799633026123, -1.1064972877502441, 0.23043972253799438, 0.20666712522506714, -0.9249350428581238, -0.09840086847543716, -0.052852317690849304, 0.1088552251458168, 0.8847510814666748, 0.740455150604248, 0.43202877044677734, -0.48771727085113525, -0.077384814620018, -1.334933152753127, 0.23377614629850432, -0.09808422222604993, 1.7385552517404912, -0.3092011481361043, -0.5218672823986005, 1.6493680770749588, -0.6276465648096017, 1.3428021672920136, -1.549546934208044, 0.9360837433171454, -0.31447536253249225, 0.30216728499307355, 0.2295421392114131, 1.363393350191814]  \n",
       "11          [-0.3972977101802826, 0.7559469938278198, 1.4296000003814697, -1.2333838939666748, -0.08654845505952835, 0.2865409851074219, -0.7764200568199158, -0.07368560135364532, -0.10281690210103989, 0.5347558856010437, 0.6492310762405396, 0.6430849432945251, 0.4008353352546692, -0.40742650628089905, -0.08398512750864029, -1.2521026024320998, 1.3732479664719526, -0.06648065605115584, 1.802073529640207, -0.3092011481361043, 1.0358061889389716, -0.9103376338948841, 2.6053033783785695, 1.6454809259001602, -1.549546934208044, 1.4370491665044034, -0.36396917921326755, 0.3622895792492634, 0.8791793688493397, 1.363393350191814]  \n",
       "12        [-0.34059783816337585, 0.7046299576759338, 1.567442536354065, -0.9440027475357056, 0.010635298676788807, 0.21948833763599396, -0.9731754660606384, 0.029252592474222183, -0.13168580830097198, 0.3829052746295929, 0.9932756423950195, 0.4696826934814453, 0.7406731843948364, -0.5489519834518433, -0.19860906898975372, -1.3374326942395398, 0.3358183988513505, 0.029769084015640684, 1.7609734674698028, -0.3092011481361043, -0.5349944602375606, 0.5117210944216953, 2.2292464586562937, 1.252612670524137, 0.6453499264358126, 1.5281337889020867, -0.08131774419293655, 0.36241964370411694, 0.16495832106027414, 1.363393350191814]  \n",
       "13        [-0.42183399200439453, 0.5862194895744324, 1.2953916788101196, -0.9390124678611755, -0.08238545805215836, 0.17917677760124207, -0.7101532220840454, -0.1406235694885254, -0.0787709653377533, 0.41837039589881897, 0.7092507481575012, 0.5465660095214844, 0.36408814787864685, -0.6244803071022034, -0.08556903898715973, -1.2162049321485084, 0.7269803669705941, 0.07710722529387208, 1.5143730944473768, -0.3092011481361043, -0.5347956408450482, 1.0805445857483271, -0.878920961169486, 1.2857757345107685, -1.549546934208044, 1.4370491665044034, -0.2953934091133982, 0.3662240290085925, 0.009197347872233573, 1.363393350191814]  \n",
       "14             [-0.6719444394111633, 0.6872846484184265, 1.7020819187164307, -1.436699628829956, 0.40188056230545044, 0.4849163889884949, -1.083462119102478, -0.16809232532978058, -0.1046343743801117, 0.05270920693874359, 0.6027317643165588, 0.710165798664093, 0.5008111596107483, -0.42074471712112427, -0.04613339900970459, -1.284809368690483, 0.3358183988513505, -0.06374489575680674, 1.4022820158008196, -0.3092011481361043, -0.4782799540401117, -0.34151414256825235, -0.37466281881461627, 1.394389155715663, -1.549546934208044, 2.2112684568847114, -0.3955736645636421, 0.362549708158971, 0.8183945988247383, 1.440449604715788]  \n",
       "15       [-0.3573906123638153, 0.8027336597442627, 1.3717281818389893, -1.2795078754425049, -0.043902747333049774, 0.3503075838088989, -0.9301891326904297, -0.1977846473455429, 0.0013075803872197866, 0.516788899898529, 0.7290318012237549, 0.6742270588874817, 0.4341610372066498, -0.44604623317718506, -0.12713971734046936, -0.7745306333259528, 0.6192691003870343, -0.02631400201851587, 1.2789818292896065, -0.3092011481361043, -0.5349944602375606, -0.9103376338948841, 0.6566447943631403, 1.2948999637557677, -1.549546934208044, 2.2112684568847114, -0.366950734435001, 0.36534609393832856, -0.41629604229997574, 1.440449604715788]  \n",
       "16             [-0.40171974897384644, 0.6296876072883606, 1.5806726217269897, -1.440370798110962, 0.042835451662540436, 0.4440273642539978, -1.1382536888122559, -0.181850403547287, -0.0705193355679512, 0.3635680079460144, 0.5343220233917236, 0.6028924584388733, 0.38578176498413086, -0.8557679653167725, -0.2957802414894104, -1.2646003098641647, -0.6959421547385375, -0.13943689950768517, 1.406018385089038, -0.3092011481361043, -0.51670562509299, -1.479161125221516, 0.7762992688202281, 1.3027959313716324, -1.549546934208044, 2.0290992120893447, -0.12007796207547143, 0.36498841668748067, -0.6822294111576065, 1.440449604715788]  \n",
       "17  [-0.34438657760620117, 0.6941242218017578, 1.4575908184051514, -1.1487195491790771, -0.024735113605856895, 0.30485472083091736, -0.8760634064674377, -0.04816131666302681, 0.06255228817462921, 0.4548816680908203, 0.8383621573448181, 0.5947394371032715, 0.40871840715408325, -0.46514543890953064, -0.17008700966835022, -0.9978939150905204, 0.04102966925423999, -0.36620454471558167, 1.6227278038057156, -0.3092011481361043, -0.532082265930568, 0.7961328400850112, -0.5228064538567248, 1.4208845137155646, 0.6453499264358126, 1.8924722784928198, -0.10039969761203067, 0.30223231722050037, -0.06678361465851812, 1.440449604715788]  \n",
       "18       [-0.39463168382644653, 0.6960747838020325, 1.357674241065979, -1.0414999723434448, -0.06338931620121002, 0.2308138757944107, -0.9231687784194946, -0.11910665780305862, 0.01573355868458748, 0.34958145022392273, 0.7799509763717651, 0.5971093773841858, 0.48386746644973755, -0.5111026763916016, -0.20487645268440247, -1.3010297974852907, 0.39250853915848727, 0.01290383341492788, 1.7497643596051469, -0.3092011481361043, -0.5349065208908724, 0.5117210944216953, -0.5569934465587499, 1.5359901749601697, -1.549546934208044, 1.4370491665044034, -0.3550245135480672, 0.10508711977578558, -0.3479131760222992, 1.440449604715788]  \n",
       "19               [-0.334529846906662, 0.8217257261276245, 1.5565983057022095, -1.3403756618499756, -0.022130949422717094, 0.36997514963150024, -0.9882375001907349, -0.3357073664665222, 0.010691196657717228, 0.6033620834350586, 0.8761431574821472, 0.6704148650169373, 0.3931194841861725, -0.6119762063026428, 0.03310846909880638, -1.1553118470007873, 1.2655366998883928, -0.3403729583524646, 1.7273461438758355, 3.2341406428407566, -0.5349944602375606, -1.1947493795582, 1.8133047141149887, 1.5440616085230539, 0.6453499264358126, 1.254879921709037, -0.38543637680974835, 0.36342764322923443, 0.6018488556120964, 1.440449604715788]  \n",
       "20               [-0.4728720784187317, 0.5518804788589478, 1.6109695434570312, -1.0286717414855957, 0.3675752282142639, 0.13997463881969452, -1.1280438899993896, -0.04889865592122078, -0.11885416507720947, 0.1102195754647255, 1.030755639076233, 0.2824874520301819, 0.517681896686554, -0.6716663837432861, -0.14745381474494934, -1.2374776256498958, 1.140818391212692, -0.1419670824388751, 1.4471184472594425, -0.3092011481361043, -0.5295460441927495, 1.6493680770749588, 1.032701714085416, 1.251033477000964, -1.549546934208044, 2.0746415232881863, -0.16599391249016654, 0.16920889601873085, -0.7278179886760573, 1.478977731977775]  \n",
       "21     [-0.4270360767841339, 0.8244922757148743, 1.6008398532867432, -1.1161952018737793, -0.024216825142502785, 0.22562886774539948, -1.1976300477981567, -0.00886276364326477, -0.10469965636730194, 0.37526029348373413, 1.1089911460876465, 0.3554907739162445, 0.7297189235687256, -0.715300440788269, -0.11959255486726761, -0.8117578469533806, 0.5285648758956155, -0.06669414023597499, 1.6713006045525571, -0.3092011481361043, -0.13990464178342266, 1.0805445857483271, -0.33477799399558694, 1.5293224689734395, -1.549546934208044, 2.16572614568587, -0.4045183302288425, 0.23294047889711456, -0.23774078035270924, 1.517505859239762]  \n",
       "22      [-0.552349865436554, 0.519532322883606, 1.3387690782546997, -1.0530767440795898, 0.15811410546302795, 0.24560780823230743, -0.594443142414093, -0.12019900232553482, -0.00834596436470747, 0.26289835572242737, 0.5789621472358704, 0.6655816435813904, 0.4282321035861969, -0.44156667590141296, -0.15059545636177063, -0.024668187402047063, 1.3505719103490978, -0.46483423810202873, 0.3448895072349624, -0.3092011481361043, -0.5349944602375606, 1.6493680770749588, -0.46013030056967885, 1.1527725466702032, 0.6453499264358126, 2.0290992120893447, -0.2530553249647832, -0.48364963512014286, 0.5296669412078823, 1.556033986501749]  \n",
       "23        [-0.6439547538757324, 0.7923202514648438, 1.6501028537750244, -1.3161218166351318, -0.00830418523401022, 0.3083350956439972, -0.9791264533996582, -0.33999472856521606, 0.061965323984622955, 0.2743394672870636, 0.653153121471405, 0.7045636177062988, 0.5345454812049866, -0.3346024751663208, -0.15162959694862366, -0.016690927339026784, 1.1294803631512644, 0.0017235875877324247, 1.1743634892194865, 3.2341406428407566, -0.5349906049256224, -1.1947493795582, 0.2691922104068561, 1.4394839040996015, -1.549546934208044, 1.8924722784928198, -0.2769077667386508, -0.41403263565962234, -0.06298456653198053, 1.556033986501749]  \n",
       "24              [-0.1343434453010559, 0.8025839924812317, 1.6011394262313843, -1.3177911043167114, -0.10094013065099716, 0.5396584272384644, -0.8790429830551147, -0.2712416350841522, -0.0832965224981308, 0.5782085657119751, 0.6473608016967773, 0.5536864995956421, 0.3662877082824707, -0.6567828059196472, -0.12414964288473129, -1.1702027324517583, 2.019515565973311, -0.05678689269603446, 0.9875450248085577, 3.2341406428407566, -0.5349944602375606, 1.6493680770749588, -0.6407515786787114, 1.473524297821329, -1.549546934208044, 1.9835569008905032, -0.26140367958563687, -0.513141750258252, 1.3084718071480863, 1.556033986501749]  \n",
       "25                [-0.271653950214386, 0.9007911682128906, 1.4545247554779053, -1.3459070920944214, -0.1159094050526619, 0.38602936267852783, -0.8927914500236511, -0.4109659492969513, 0.06055565923452377, 0.5921362042427063, 0.75566565990448, 0.7608054876327515, 0.4182330369949341, -0.4724940359592438, -0.11672980338335037, -0.1443270883473511, 1.2315226157041106, 0.3326557013440539, 1.0510633027082734, 3.2341406428407566, -0.5347819401497308, 0.2273093487583794, 0.09825724689673071, 1.2312058249877926, -1.549546934208044, 1.5736761001009283, -0.09562920925725711, -0.8063070314988182, 0.5524612299671078, 1.556033986501749]  \n",
       "26         [-0.6320245265960693, 0.7431554198265076, 1.5742533206939697, -1.2664735317230225, -0.01375668030232191, 0.28404319286346436, -0.884591281414032, -0.29355305433273315, 0.05956243723630905, 0.27304238080978394, 0.6070736646652222, 0.6801023483276367, 0.5112859606742859, -0.3615528643131256, -0.18587154150009155, -0.016690927339026784, 1.1294803631512644, 0.0017235875877324247, 1.1743634892194865, 3.2341406428407566, -0.5349906049256224, -1.1947493795582, 0.2691922104068561, 1.4394839040996015, -1.549546934208044, 1.61921841129977, -0.2769077667386508, -0.41403263565962234, -0.06298456653198053, 1.556033986501749]  \n",
       "27              [-0.2435208261013031, 0.878855288028717, 1.3256962299346924, -1.2897371053695679, -0.1352124959230423, 0.41241326928138733, -0.811428964138031, -0.43150678277015686, 0.056013185530900955, 0.6813869476318359, 0.8109644651412964, 0.5908800959587097, 0.500191867351532, -0.469093918800354, -0.20538823306560516, -0.4926674444325697, 1.3562409243798115, 0.07509889259224008, 0.40467141584645966, 3.2341406428407566, -0.5349944602375606, 1.0805445857483271, -0.7706621509464066, 1.2212042660076972, -1.549546934208044, 1.3915068553055618, 0.08386041509109653, 0.10518466811692596, 0.5334659893344199, 1.556033986501749]  \n",
       "28           [-0.32044824957847595, 0.8280851244926453, 1.4028438329696655, -1.2857781648635864, -0.10403352975845337, 0.34608930349349976, -0.8021416068077087, -0.34753552079200745, 0.0581207275390625, 0.5377289056777954, 0.687380850315094, 0.7242526412010193, 0.41177451610565186, -0.4794570207595825, -0.16059303283691406, -0.15496343509804483, 1.225853601673397, 0.33254500584081437, 1.0435905641318364, 3.2341406428407566, -0.534894731920483, 0.2273093487583794, -0.14105170201744485, 1.2255909146831776, -1.549546934208044, 1.3915068553055618, -0.0896660988137902, -0.8079003210707776, 0.4916764599425064, 1.556033986501749]  \n",
       "29      [-0.23094740509986877, 0.7112250924110413, 1.4803465604782104, -1.0836466550827026, 0.08652644604444504, 0.3618428111076355, -0.8829537034034729, -0.0023090941831469536, 0.11337322741746902, 0.3758752942085266, 0.8001696467399597, 0.5654802918434143, 0.3208208382129669, -0.40069741010665894, -0.23168574273586273, -1.2425298903564754, 1.4412761348405165, -0.12451672703532461, 1.424700231530131, -0.3092011481361043, -0.5349246822776885, 1.0805445857483271, -0.7142536129880652, 1.449836394973735, -1.549546934208044, 2.3023530792823945, 0.054044862873762006, 0.23394847842223204, 0.24473833171756343, 1.5945621137637358]  \n",
       "30             [-0.34296104311943054, 0.4847215414047241, 1.6837449073791504, -1.12843656539917, 0.11851763725280762, 0.3825898766517639, -0.8144000172615051, -0.35309574007987976, -0.12614989280700684, 0.3834197223186493, 0.5459585189819336, 0.710420548915863, 0.7096815705299377, -0.36669090390205383, -0.17640478909015656, -1.3092729662170783, 1.3845859945333798, -0.13667741874835615, 1.073481518437585, -0.3092011481361043, -0.5349788159552331, 1.6493680770749588, 0.6737382907141528, 0.9671295747238734, 0.6453499264358126, 2.256810768083553, -0.366950734435001, 0.2039035893509937, -0.15796076969542017, 1.5945621137637358]  \n",
       "31         [-0.421536386013031, 0.4355911910533905, 1.2112109661102295, -0.9331219792366028, -0.19318148493766785, 0.252230167388916, -0.5849483013153076, -0.12701471149921417, -0.006912388373166323, 0.49249017238616943, 0.8104239106178284, 0.3682797849178314, 0.44277307391166687, -1.0204404592514038, -0.05349435657262802, -1.2983707107976172, 1.5319803593319354, -0.011156624896356259, 1.5181094637355954, -0.3092011481361043, -0.5333917975062507, -1.1947493795582, -0.7159629626231665, 1.2619123657161553, -1.549546934208044, 2.16572614568587, -0.38662899889844177, 0.16959908938329238, 0.2979250054890896, 1.6330902410257229]  \n",
       "32                [-0.4947325885295868, 0.6079550385475159, 1.737709641456604, -1.0877118110656738, -0.011317149735987186, 0.3219142258167267, -1.031133770942688, -0.17133262753486633, -0.06881973892450333, 0.24320575594902039, 0.8558908700942993, 0.6969547271728516, 0.617370069026947, -0.6724939346313477, 0.08804884552955627, -1.1390914182059793, 0.4265226233427693, -0.15655516840151695, 1.5069003558709397, 3.2341406428407566, -0.530788665395952, -0.34151414256825235, 0.2293073855878268, 1.29665462322596, -1.549546934208044, 2.256810768083553, -0.33117207177419955, 1.9914119085210957, 0.5752555187263333, 1.67161836828771]  "
      ]
     },
     "execution_count": 51,
     "metadata": {},
     "output_type": "execute_result"
    }
   ],
   "source": [
    "songs.query(filter=[(\"like\", \"song_artists\", \"*Calvin Harris*\")], sort_by=\"song_year\")"
   ]
  },
  {
   "cell_type": "markdown",
   "id": "ea4f8da1",
   "metadata": {},
   "source": [
    "### Find Specific Song"
   ]
  },
  {
   "cell_type": "markdown",
   "id": "1a8df467",
   "metadata": {},
   "source": [
    "We can filter this query further by looking for the song `We Found Love` by `Calvin Harris` in our dataset.\n",
    "\n",
    "This will only return one song as he only produced one song with this name."
   ]
  },
  {
   "cell_type": "code",
   "execution_count": 52,
   "id": "4e70a62b",
   "metadata": {},
   "outputs": [
    {
     "data": {
      "text/html": [
       "<div>\n",
       "<style scoped>\n",
       "    .dataframe tbody tr th:only-of-type {\n",
       "        vertical-align: middle;\n",
       "    }\n",
       "\n",
       "    .dataframe tbody tr th {\n",
       "        vertical-align: top;\n",
       "    }\n",
       "\n",
       "    .dataframe thead th {\n",
       "        text-align: right;\n",
       "    }\n",
       "</style>\n",
       "<table border=\"1\" class=\"dataframe\">\n",
       "  <thead>\n",
       "    <tr style=\"text-align: right;\">\n",
       "      <th></th>\n",
       "      <th>song_name</th>\n",
       "      <th>song_artists</th>\n",
       "      <th>song_year</th>\n",
       "      <th>song_embeddings</th>\n",
       "    </tr>\n",
       "  </thead>\n",
       "  <tbody>\n",
       "    <tr>\n",
       "      <th>0</th>\n",
       "      <td>We Found Love</td>\n",
       "      <td>Rihanna, Calvin Harris</td>\n",
       "      <td>2011</td>\n",
       "      <td>[-0.3598034977912903, 0.7455580830574036, 1.6835709810256958, -1.104311227798462, 0.2709399461746216, 0.22481369972229004, -1.127227544784546, 0.005336357280611992, -0.034981757402420044, 0.25602656602859497, 0.934143602848053, 0.438564270734787, 0.7639918327331543, -0.5546166896820068, -0.23971381783485413, -1.2744389306085564, 1.1181423350898372, -0.12151213480453658, 1.0660087798611477, -0.3092011481361043, -0.5305974929031516, -1.1947493795582, -0.5626912786757541, 1.2313812909348116, 0.6453499264358126, 1.9835569008905032, -0.37351015592281456, 0.36375280436636925, 0.2751307167298641, 1.3248652229298272]</td>\n",
       "    </tr>\n",
       "  </tbody>\n",
       "</table>\n",
       "</div>"
      ],
      "text/plain": [
       "       song_name            song_artists  song_year  \\\n",
       "0  We Found Love  Rihanna, Calvin Harris       2011   \n",
       "\n",
       "                                                                                                                                                                                                                                                                                                                                                                                                                                                                                                                                                                                                                            song_embeddings  \n",
       "0  [-0.3598034977912903, 0.7455580830574036, 1.6835709810256958, -1.104311227798462, 0.2709399461746216, 0.22481369972229004, -1.127227544784546, 0.005336357280611992, -0.034981757402420044, 0.25602656602859497, 0.934143602848053, 0.438564270734787, 0.7639918327331543, -0.5546166896820068, -0.23971381783485413, -1.2744389306085564, 1.1181423350898372, -0.12151213480453658, 1.0660087798611477, -0.3092011481361043, -0.5305974929031516, -1.1947493795582, -0.5626912786757541, 1.2313812909348116, 0.6453499264358126, 1.9835569008905032, -0.37351015592281456, 0.36375280436636925, 0.2751307167298641, 1.3248652229298272]  "
      ]
     },
     "execution_count": 52,
     "metadata": {},
     "output_type": "execute_result"
    }
   ],
   "source": [
    "songs.query(\n",
    "    filter=[\n",
    "        (\"like\", \"song_artists\", \"*Calvin Harris*\"),\n",
    "        (\"like\", \"song_name\", \"*We Found Love*\"),\n",
    "    ]\n",
    ")"
   ]
  },
  {
   "cell_type": "markdown",
   "id": "f70fbb78",
   "metadata": {},
   "source": [
    "### Find Similar Songs"
   ]
  },
  {
   "cell_type": "markdown",
   "id": "d079845c",
   "metadata": {},
   "source": [
    "We can then copy and paste the vector associated with this song below and save it as the variable `my_vec`.\n",
    "\n",
    "We will then use KDB.AI's `.search()` function to find similar songs in the dataset to this song using this vector.\n",
    "We will pull out the 5 songs most similar to this song from the dataset.\n",
    "\n",
    "<div class=\"alert alert-block alert-warning\">\n",
    "Note that the most similar song will be \"We Found Love\" by \"Calvin Harris\" as this is the vector we are using for the search.\n",
    "</div>"
   ]
  },
  {
   "cell_type": "code",
   "execution_count": 53,
   "id": "7782270e",
   "metadata": {},
   "outputs": [],
   "source": [
    "my_vec = [-0.19870510697364807, 1.3078361749649048, 1.0181931257247925, -0.3232698142528534, 0.98063725233078, 0.26473715901374817, -1.0277972221374512, 0.0383748784661293, 0.1495048850774765, 0.23416249454021454, 1.1922948360443115, 0.47670742869377136, 1.1959521770477295, -0.08822440356016159, 0.042070869356393814, -1.2744389306085564, 1.1181423350898372, -0.12151213480453658, 1.0660087798611477, -0.3092011481361043, -0.5305974929031516, -1.1947493795582, -0.5626912786757541, 1.2313812909348116, 0.6453499264358126, 1.9835569008905032, -0.37351015592281456, 0.36375280436636925, 0.2751307167298641, 1.3248652229298272]"
   ]
  },
  {
   "cell_type": "code",
   "execution_count": 54,
   "id": "fbcc1335",
   "metadata": {},
   "outputs": [
    {
     "data": {
      "text/html": [
       "<div>\n",
       "<style scoped>\n",
       "    .dataframe tbody tr th:only-of-type {\n",
       "        vertical-align: middle;\n",
       "    }\n",
       "\n",
       "    .dataframe tbody tr th {\n",
       "        vertical-align: top;\n",
       "    }\n",
       "\n",
       "    .dataframe thead th {\n",
       "        text-align: right;\n",
       "    }\n",
       "</style>\n",
       "<table border=\"1\" class=\"dataframe\">\n",
       "  <thead>\n",
       "    <tr style=\"text-align: right;\">\n",
       "      <th></th>\n",
       "      <th>song_name</th>\n",
       "      <th>song_artists</th>\n",
       "      <th>song_year</th>\n",
       "      <th>song_embeddings</th>\n",
       "      <th>__nn_distance</th>\n",
       "    </tr>\n",
       "  </thead>\n",
       "  <tbody>\n",
       "    <tr>\n",
       "      <th>0</th>\n",
       "      <td>We Found Love</td>\n",
       "      <td>Rihanna, Calvin Harris</td>\n",
       "      <td>2011</td>\n",
       "      <td>[-0.3598034977912903, 0.7455580830574036, 1.6835709810256958, -1.104311227798462, 0.2709399461746216, 0.22481369972229004, -1.127227544784546, 0.005336357280611992, -0.034981757402420044, 0.25602656602859497, 0.934143602848053, 0.438564270734787, 0.7639918327331543, -0.5546166896820068, -0.23971381783485413, -1.2744389306085564, 1.1181423350898372, -0.12151213480453658, 1.0660087798611477, -0.3092011481361043, -0.5305974929031516, -1.1947493795582, -0.5626912786757541, 1.2313812909348116, 0.6453499264358126, 1.9835569008905032, -0.37351015592281456, 0.36375280436636925, 0.2751307167298641, 1.3248652229298272]</td>\n",
       "      <td>2.497229</td>\n",
       "    </tr>\n",
       "    <tr>\n",
       "      <th>1</th>\n",
       "      <td>Try Everything</td>\n",
       "      <td>Shakira</td>\n",
       "      <td>2016</td>\n",
       "      <td>[-0.45326852798461914, 0.7631129026412964, 1.4206933975219727, -0.5168099999427795, 0.10055868327617645, 0.3728799819946289, -0.9679427742958069, 0.3327452540397644, -0.3841341435909271, 0.3373335599899292, 1.3592381477355957, 0.3151901066303253, 0.5810573101043701, -0.08865176141262054, -0.06225752830505371, -1.272577569927185, 0.9537409281991405, -0.26679207598479776, 0.47939880161083126, -0.3092011481361043, -0.5349944602375606, -1.1947493795582, -0.696020550213652, 1.159089320762895, 0.6453499264358126, 1.7103030336974534, -0.41882979529316294, -0.0430888104164571, -0.19595125096079602, 1.517505859239762]</td>\n",
       "      <td>3.092355</td>\n",
       "    </tr>\n",
       "    <tr>\n",
       "      <th>2</th>\n",
       "      <td>Since U Been Gone</td>\n",
       "      <td>Kelly Clarkson</td>\n",
       "      <td>2004</td>\n",
       "      <td>[-0.11152409762144089, 0.6174209713935852, 1.5025031566619873, -0.8987154364585876, 0.333455353975296, -0.06713759899139404, -1.147297739982605, 0.03241661936044693, -0.1582876592874527, 0.39395079016685486, 1.5894933938980103, 0.5742592215538025, 0.9644389152526855, -0.6342738270759583, -0.2583732306957245, -1.3365286047657308, 0.7099733248784531, -0.3292006193469291, 0.9725995476556833, -0.3092011481361043, -0.438452351373364, -1.479161125221516, -0.528504285973729, 1.0697771537301144, 0.6453499264358126, 1.8469299672939783, -0.40272939709580236, 0.4617563710987411, -0.4694827160715017, 1.0551683320959184]</td>\n",
       "      <td>3.318148</td>\n",
       "    </tr>\n",
       "    <tr>\n",
       "      <th>3</th>\n",
       "      <td>Bad At Love</td>\n",
       "      <td>Halsey</td>\n",
       "      <td>2017</td>\n",
       "      <td>[-0.5517164468765259, 0.34906429052352905, 1.7956831455230713, -0.675864577293396, 0.1774449646472931, 0.12092027813196182, -0.9815996289253235, 0.11402924358844757, -0.10657869279384613, 0.4558851718902588, 1.2332789897918701, 0.42635613679885864, 0.6847960352897644, -0.6413012146949768, 0.21150214970111847, -1.1803072618649173, 0.7836705072777309, -0.3899329165171471, 1.0099632405378691, -0.3092011481361043, -0.5349944602375606, -1.479161125221516, -0.6692407392637322, 1.3973720768149898, 0.6453499264358126, 1.9380145896916616, -0.4253892167809766, 0.051533080489714826, 0.32071929424831513, 1.556033986501749]</td>\n",
       "      <td>3.634671</td>\n",
       "    </tr>\n",
       "    <tr>\n",
       "      <th>4</th>\n",
       "      <td>I'm Not Mad</td>\n",
       "      <td>Halsey</td>\n",
       "      <td>2020</td>\n",
       "      <td>[-0.4158092439174652, 0.6362892985343933, 1.4361778497695923, -0.6862751841545105, 0.19531361758708954, -0.10460829734802246, -1.0953339338302612, 0.28047657012939453, -0.005529905203729868, 0.4606150686740875, 1.5008271932601929, 0.23351790010929108, 1.011540412902832, -0.6577786803245544, -0.09148161858320236, -0.8888713608959099, 1.3789169805026662, -0.45170100732482105, 0.7596264982272247, -0.3092011481361043, -0.5349944602375606, -1.479161125221516, -0.5797847750267666, 1.0080131403793504, 0.6453499264358126, 1.9380145896916616, -0.22264346170310204, 1.0768311781025728, 0.7766050694328249, 1.67161836828771]</td>\n",
       "      <td>3.682489</td>\n",
       "    </tr>\n",
       "  </tbody>\n",
       "</table>\n",
       "</div>"
      ],
      "text/plain": [
       "           song_name            song_artists  song_year  \\\n",
       "0      We Found Love  Rihanna, Calvin Harris       2011   \n",
       "1     Try Everything                 Shakira       2016   \n",
       "2  Since U Been Gone          Kelly Clarkson       2004   \n",
       "3        Bad At Love                  Halsey       2017   \n",
       "4        I'm Not Mad                  Halsey       2020   \n",
       "\n",
       "                                                                                                                                                                                                                                                                                                                                                                                                                                                                                                                                                                                                                               song_embeddings  \\\n",
       "0     [-0.3598034977912903, 0.7455580830574036, 1.6835709810256958, -1.104311227798462, 0.2709399461746216, 0.22481369972229004, -1.127227544784546, 0.005336357280611992, -0.034981757402420044, 0.25602656602859497, 0.934143602848053, 0.438564270734787, 0.7639918327331543, -0.5546166896820068, -0.23971381783485413, -1.2744389306085564, 1.1181423350898372, -0.12151213480453658, 1.0660087798611477, -0.3092011481361043, -0.5305974929031516, -1.1947493795582, -0.5626912786757541, 1.2313812909348116, 0.6453499264358126, 1.9835569008905032, -0.37351015592281456, 0.36375280436636925, 0.2751307167298641, 1.3248652229298272]   \n",
       "1     [-0.45326852798461914, 0.7631129026412964, 1.4206933975219727, -0.5168099999427795, 0.10055868327617645, 0.3728799819946289, -0.9679427742958069, 0.3327452540397644, -0.3841341435909271, 0.3373335599899292, 1.3592381477355957, 0.3151901066303253, 0.5810573101043701, -0.08865176141262054, -0.06225752830505371, -1.272577569927185, 0.9537409281991405, -0.26679207598479776, 0.47939880161083126, -0.3092011481361043, -0.5349944602375606, -1.1947493795582, -0.696020550213652, 1.159089320762895, 0.6453499264358126, 1.7103030336974534, -0.41882979529316294, -0.0430888104164571, -0.19595125096079602, 1.517505859239762]   \n",
       "2      [-0.11152409762144089, 0.6174209713935852, 1.5025031566619873, -0.8987154364585876, 0.333455353975296, -0.06713759899139404, -1.147297739982605, 0.03241661936044693, -0.1582876592874527, 0.39395079016685486, 1.5894933938980103, 0.5742592215538025, 0.9644389152526855, -0.6342738270759583, -0.2583732306957245, -1.3365286047657308, 0.7099733248784531, -0.3292006193469291, 0.9725995476556833, -0.3092011481361043, -0.438452351373364, -1.479161125221516, -0.528504285973729, 1.0697771537301144, 0.6453499264358126, 1.8469299672939783, -0.40272939709580236, 0.4617563710987411, -0.4694827160715017, 1.0551683320959184]   \n",
       "3   [-0.5517164468765259, 0.34906429052352905, 1.7956831455230713, -0.675864577293396, 0.1774449646472931, 0.12092027813196182, -0.9815996289253235, 0.11402924358844757, -0.10657869279384613, 0.4558851718902588, 1.2332789897918701, 0.42635613679885864, 0.6847960352897644, -0.6413012146949768, 0.21150214970111847, -1.1803072618649173, 0.7836705072777309, -0.3899329165171471, 1.0099632405378691, -0.3092011481361043, -0.5349944602375606, -1.479161125221516, -0.6692407392637322, 1.3973720768149898, 0.6453499264358126, 1.9380145896916616, -0.4253892167809766, 0.051533080489714826, 0.32071929424831513, 1.556033986501749]   \n",
       "4  [-0.4158092439174652, 0.6362892985343933, 1.4361778497695923, -0.6862751841545105, 0.19531361758708954, -0.10460829734802246, -1.0953339338302612, 0.28047657012939453, -0.005529905203729868, 0.4606150686740875, 1.5008271932601929, 0.23351790010929108, 1.011540412902832, -0.6577786803245544, -0.09148161858320236, -0.8888713608959099, 1.3789169805026662, -0.45170100732482105, 0.7596264982272247, -0.3092011481361043, -0.5349944602375606, -1.479161125221516, -0.5797847750267666, 1.0080131403793504, 0.6453499264358126, 1.9380145896916616, -0.22264346170310204, 1.0768311781025728, 0.7766050694328249, 1.67161836828771]   \n",
       "\n",
       "   __nn_distance  \n",
       "0       2.497229  \n",
       "1       3.092355  \n",
       "2       3.318148  \n",
       "3       3.634671  \n",
       "4       3.682489  "
      ]
     },
     "execution_count": 54,
     "metadata": {},
     "output_type": "execute_result"
    }
   ],
   "source": [
    "songs.search(vectors=[my_vec], n=5)[0]"
   ]
  },
  {
   "cell_type": "markdown",
   "id": "8826521d",
   "metadata": {},
   "source": [
    "### Automate This Process"
   ]
  },
  {
   "cell_type": "markdown",
   "id": "63d21923",
   "metadata": {},
   "source": [
    "We can define a function to automate this process and find songs which are the most similar to any input song.\n",
    "This will allow us to use the KDB.AI vector database in a more production-like setting to perform similarity search and music recommendation."
   ]
  },
  {
   "cell_type": "code",
   "execution_count": 55,
   "id": "36709ce9",
   "metadata": {},
   "outputs": [],
   "source": [
    "def find_similar_songs(\n",
    "    vectorDB_song_tab,\n",
    "    song_name: str,\n",
    "    song_artists: list[str] = None,\n",
    "    song_year: int = None,\n",
    "    n_similar: int = 5,\n",
    "    exact: bool = False,\n",
    ") -> None:\n",
    "\n",
    "    # create filter list\n",
    "    filter_list = [(\"like\", \"song_name\", f\"{song_name}\" if exact else f\"*{song_name}*\")]\n",
    "    if song_artists:\n",
    "        if type(song_artists) == str:\n",
    "            song_artists = list(song_artists)\n",
    "        for artist in song_artists:\n",
    "            filter_list.append((\"like\", \"song_artists\", f\"*{artist}*\"))\n",
    "    if song_year:\n",
    "        filter_list.append((\"like\", \"song_year\", f\"{song_year}\"))\n",
    "\n",
    "    # find songs liks this in vector DB\n",
    "    resulting_song = vectorDB_song_tab.query(filter=filter_list, sort_by=\"song_year\")\n",
    "\n",
    "    # quality check\n",
    "    if resulting_song.empty:\n",
    "        print(\n",
    "            \"Song Not Found! Please double check the values entered or try another song\"\n",
    "        )\n",
    "        return\n",
    "\n",
    "    # find vectors associated with these songs\n",
    "    resulting_vectors = [v.tolist() for v in resulting_song[\"song_embeddings\"]]\n",
    "\n",
    "    # search for similar songs to selected songs\n",
    "    similar_songs = songs.search(vectors=resulting_vectors, n=n_similar + 1)\n",
    "\n",
    "    # process similar song table\n",
    "    for i, similar_df in enumerate(similar_songs):\n",
    "        name = resulting_song.loc[i, \"song_name\"]\n",
    "        artists = resulting_song.loc[i, \"song_artists\"]\n",
    "        year = resulting_song.loc[i, \"song_year\"]\n",
    "        print(f\"Songs Similar To '{name}' By '{artists}' ({year})\")\n",
    "        for j, song in similar_df[1:].iterrows():\n",
    "            print(\n",
    "                f\"   {j}. {song['song_name']} - {song['song_artists']} ({song['song_year']})\"\n",
    "            )\n",
    "        print()"
   ]
  },
  {
   "cell_type": "code",
   "execution_count": 56,
   "id": "9562fdb9",
   "metadata": {},
   "outputs": [
    {
     "name": "stdout",
     "output_type": "stream",
     "text": [
      "Songs Similar To 'Let's Go (feat. Ne-Yo)' By 'Calvin Harris, Ne-Yo' (2012)\n",
      "   1. I Cry - Flo Rida (2012)\n",
      "   2. Mmm Yeah (feat. Pitbull) - Austin Mahone, Pitbull (2014)\n",
      "   3. Too Much (feat. Usher) - Marshmello, Imanbek, Usher (2020)\n",
      "   4. All Around The World - Justin Bieber, Ludacris (2012)\n",
      "   5. Play Hard (feat. Ne-Yo & Akon) - David Guetta (2011)\n",
      "\n"
     ]
    }
   ],
   "source": [
    "# song by multiple artists\n",
    "find_similar_songs(songs, song_name=\"Let's Go\", song_artists=[\"Calvin Harris\", \"Ne-Yo\"])"
   ]
  },
  {
   "cell_type": "code",
   "execution_count": 57,
   "id": "056f42b8",
   "metadata": {},
   "outputs": [
    {
     "name": "stdout",
     "output_type": "stream",
     "text": [
      "Songs Similar To 'Californication' By 'Red Hot Chili Peppers' (1999)\n",
      "   1. Police Station - Red Hot Chili Peppers (2011)\n",
      "   2. Charlie - Red Hot Chili Peppers (2006)\n",
      "   3. Dark Necessities - Red Hot Chili Peppers (2016)\n",
      "   4. Especially in Michigan - Red Hot Chili Peppers (2006)\n",
      "   5. Don't Forget Me - Red Hot Chili Peppers (2002)\n",
      "   6. Cabron - Red Hot Chili Peppers (2002)\n",
      "   7. Face Down - The Red Jumpsuit Apparatus (2006)\n",
      "   8. Look Around - Red Hot Chili Peppers (2011)\n",
      "\n"
     ]
    }
   ],
   "source": [
    "# specify different number of similar songs\n",
    "find_similar_songs(songs, song_name=\"Californication\", song_artists=\"Red Hot Chili Peppers\", n_similar=8)"
   ]
  },
  {
   "cell_type": "code",
   "execution_count": 58,
   "id": "b5474afc",
   "metadata": {},
   "outputs": [
    {
     "name": "stdout",
     "output_type": "stream",
     "text": [
      "Songs Similar To 'Love Me' By 'Elvis Presley' (1956)\n",
      "   1. Don't - Elvis Presley (1959)\n",
      "   2. Without Him - Elvis Presley (1967)\n",
      "   3. Harbor Lights - Elvis Presley (1959)\n",
      "   4. His Hand in Mine - Elvis Presley (1960)\n",
      "   5. You Go To My Head - Billie Holiday (1956)\n",
      "\n",
      "Songs Similar To 'Love Me' By 'Buddy Holly' (1958)\n",
      "   1. A Love That's Worth Having - Willie Hutch (1969)\n",
      "   2. Johnny be good - Radio Version - Jonny Bombastic (1955)\n",
      "   3. Lonely Weekends - Wanda Jackson (1961)\n",
      "   4. Midnight Shift - Buddy Holly (1958)\n",
      "   5. Rock & Roll Guitar - Johnny Knight (1959)\n",
      "\n",
      "Songs Similar To 'Love Me' By 'Sarah Vaughan' (1958)\n",
      "   1. Summer Is Gone - Carmen McRae (1956)\n",
      "   2. Make the World Go Away - Ray Price (1956)\n",
      "   3. A Pretty Girl Is Like A Melody - Irving Berlin, Ethel Merman, Dan Dailey (1954)\n",
      "   4. I'll Come Back For More - Dinah Washington (1961)\n",
      "   5. I'm Confessin' (That I Love You) - Judy Garland (1958)\n",
      "\n",
      "Songs Similar To 'Love Me' By 'Bo Diddley' (1960)\n",
      "   1. Time To Go - Lesley Gore (1963)\n",
      "   2. Keepin' Out Of Mischief Now - Barbra Streisand (1963)\n",
      "   3. Come Back Silly Girl - The Lettermen (1962)\n",
      "   4. It's a Bird, It's a Plane, It's Superman: You've Got Possibilities - Charles Strouse, Linda Lavin, Harold Hastings (1966)\n",
      "   5. Baby, What You Want Me To Do - Jimmy Reed (1960)\n",
      "\n",
      "Songs Similar To 'Love Me' By 'Bee Gees' (1976)\n",
      "   1. Keep It Alive - Lee Ritenour (1982)\n",
      "   2. Go Down Easy - Dan Fogelberg (1985)\n",
      "   3. Don't You Ever Get Tired (Of Hurting Me) - Ronnie Milsap (1989)\n",
      "   4. It Tears Me Up - Percy Sledge (1966)\n",
      "   5. Save Me - Queen (1981)\n",
      "\n",
      "Songs Similar To 'Love Me' By 'The Cramps' (1983)\n",
      "   1. Football Fight - Remastered 2011 - Queen (1980)\n",
      "   2. Let's Get This Party Started - Korn (1999)\n",
      "   3. Coming Home - Live - Scorpions (1985)\n",
      "   4. Rock On The Moon - Remastered - The Cramps (1980)\n",
      "   5. Civilization's Dying - Zero Boys (1981)\n",
      "\n",
      "Songs Similar To 'Love Me' By 'Tesla' (1986)\n",
      "   1. She Sheila - The Producers (1982)\n",
      "   2. Walks Like a Woman - Baton Rouge (1990)\n",
      "   3. Play with Me - Jeff Beck (1976)\n",
      "   4. Catch Me I'm Falling - Real Life (1983)\n",
      "   5. Away - Toadies (1994)\n",
      "\n",
      "Songs Similar To 'Love Me' By 'Love and Rockets' (1986)\n",
      "   1. No One Like You - Live - Scorpions (1985)\n",
      "   2. Loving You Sunday Morning - Scorpions (1979)\n",
      "   3. Promises - Fugazi (1989)\n",
      "   4. Fight It Back - Accept (1983)\n",
      "   5. Strap Me In - The Cars (1987)\n",
      "\n",
      "Songs Similar To 'Love Me' By 'Yiruma' (2001)\n",
      "   1. Think Of Me - Stan Whitmire (1996)\n",
      "   2. I Feel My Savior's Love - Paul Cardall (2000)\n",
      "   3. O, I Love You - Essie Jain (2011)\n",
      "   4. Baby Mine - Fred Mollin (2000)\n",
      "   5. Just the Way You Are - The Piano Guys (2013)\n",
      "\n",
      "Songs Similar To 'Love Me' By 'Obie Trice, 50 Cent, Eminem' (2002)\n",
      "   1. Just a Moment (feat. Quan) - Nas, Quan (2004)\n",
      "   2. Spend Some Time - Eminem, Obie Trice, Stat Quo, 50 Cent (2004)\n",
      "   3. Jealous Got Me Strapped - Spice 1, 2Pac (1994)\n",
      "   4. Girls - D12 (2001)\n",
      "   5. Can I Have It Like That - Pharrell Williams, Gwen Stefani (2006)\n",
      "\n",
      "Songs Similar To 'Love Me' By 'JJ Heller' (2006)\n",
      "   1. Snake Eyes - Ryan Bingham (2009)\n",
      "   2. Whenever We're Alone - Brantley Gilbert (2009)\n",
      "   3. Dream About You - Pop A.C. Mix - Stevie B (1998)\n",
      "   4. Pretty Things - TFDI (2009)\n",
      "   5. Hard Times - Gillian Welch (2011)\n",
      "\n",
      "Songs Similar To 'Love Me' By 'Justin Bieber' (2009)\n",
      "   1. Somebody To Love - Justin Bieber (2010)\n",
      "   2. Somebody To Love Remix - Justin Bieber, Usher (2011)\n",
      "   3. Cut To The Feeling - Carly Rae Jepsen (2017)\n",
      "   4. I Really Like You - Carly Rae Jepsen (2015)\n",
      "   5. 4 Minutes (feat. Justin Timberlake & Timbaland) - Madonna, Justin Timberlake, Timbaland (2009)\n",
      "\n",
      "Songs Similar To 'Love Me' By 'Lil Wayne, Drake, Future' (2013)\n",
      "   1. That Way - Bonus Track - Lil Uzi Vert (2020)\n",
      "   2. Studio - ScHoolboy Q, BJ The Chicago Kid (2014)\n",
      "   3. That Way - Lil Uzi Vert (2020)\n",
      "   4. LOYALTY. FEAT. RIHANNA. - Kendrick Lamar, Rihanna (2017)\n",
      "   5. Lies (feat. Lil Skies) - Lil Xan, Lil Skies (2018)\n",
      "\n",
      "Songs Similar To 'Love Me' By 'The 1975' (2016)\n",
      "   1. Casual Sex - My Darkest Days (2012)\n",
      "   2. Lotus Eater - Foster The People (2017)\n",
      "   3. Moneygrabber - Fitz and The Tantrums (2010)\n",
      "   4. Monster - Lady Gaga (2009)\n",
      "   5. She Lives in My Lap (feat. Rosario Dawson) - OutKast, Rosario Dawson (2003)\n",
      "\n",
      "Songs Similar To 'Love Me' By 'Lil Tecca' (2019)\n",
      "   1. Me and My Guitar - A Boogie Wit da Hoodie (2020)\n",
      "   2. Red Nose - Sage The Gemini (2014)\n",
      "   3. Stuntin' On You (feat. DaBaby) - Tyla Yaweh, DaBaby (2020)\n",
      "   4. Run Me Dry - Bryson Tiller (2017)\n",
      "   5. Best Friend - 50 Cent (2005)\n",
      "\n"
     ]
    }
   ],
   "source": [
    "# all songs with a given name by any artist\n",
    "find_similar_songs(songs, song_name=\"Love Me\", exact=True)"
   ]
  },
  {
   "cell_type": "markdown",
   "id": "cf91f429",
   "metadata": {},
   "source": [
    "These result are good quality as the top results include plenty of similar songs.\n",
    "\n",
    "With that, we have built a recommendation system which is able to recommend music based both on user numerical and categorical song data."
   ]
  }
 ],
 "metadata": {
  "kernelspec": {
   "display_name": "Python 3 (ipykernel)",
   "language": "python",
   "name": "python3"
  },
  "language_info": {
   "codemirror_mode": {
    "name": "ipython",
    "version": 3
   },
   "file_extension": ".py",
   "mimetype": "text/x-python",
   "name": "python",
   "nbconvert_exporter": "python",
   "pygments_lexer": "ipython3",
   "version": "3.9.2"
  }
 },
 "nbformat": 4,
 "nbformat_minor": 5
}
