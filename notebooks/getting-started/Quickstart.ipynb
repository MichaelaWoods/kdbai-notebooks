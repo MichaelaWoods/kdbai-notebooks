{
 "cells": [
  {
   "cell_type": "markdown",
   "id": "bb2094b8-13a5-4f7c-bd21-d2c709dab914",
   "metadata": {},
   "source": [
    "# Quickstart: Hello, kdb.ai\n",
    "\n",
    "How to get started with the kdb.ai vector database. Here, you'll get a quick taste of kdb.ai in  ~10 minutes.\n",
    "\n",
    "You will:\n",
    "- Build a vector database, and\n",
    "- Query it with semantic search."
   ]
  },
  {
   "cell_type": "markdown",
   "id": "260d0f4b-ef09-4bd2-a197-a9351be24684",
   "metadata": {},
   "source": [
    "## 1. Import libraries"
   ]
  },
  {
   "cell_type": "code",
   "execution_count": 148,
   "id": "a55ae34e-472b-4aa7-9add-1fcb2ee24a41",
   "metadata": {},
   "outputs": [],
   "source": [
    "import kdbai\n",
    "import numpy as np\n",
    "import pandas as pd"
   ]
  },
  {
   "cell_type": "markdown",
   "id": "d8aed9bc-72b2-4e70-b763-e7ce054557db",
   "metadata": {},
   "source": [
    "## 2. Create a vector index\n",
    "\n",
    "Create a vector embedding index and data table for storage of raw input data. The command below creates an index named `myHNSW` that performs Hierarchical Navigable Small Worlds (HNSW) for 8-dimensional vectors."
   ]
  },
  {
   "cell_type": "code",
   "execution_count": 162,
   "id": "be32b328-2097-40ea-bf29-1f1a629f9c50",
   "metadata": {},
   "outputs": [
    {
     "name": "stdout",
     "output_type": "stream",
     "text": [
      "Setting the table: '.kdbai.table.table' as a global table within this process\n",
      "\n"
     ]
    }
   ],
   "source": [
    "index = kdbai.KDBAI('myHNSW', 'hnsw', ('table', None), 'vectors', options=dict(dims=8))"
   ]
  },
  {
   "cell_type": "markdown",
   "id": "74e6e509-be11-469b-97de-041ca73e130c",
   "metadata": {},
   "source": [
    "## 3. See your indexes\n",
    "\n",
    "The `list` function will return indexes available in your process. Once your index is created in the previous step, its details appears when running the below command."
   ]
  },
  {
   "cell_type": "code",
   "execution_count": 163,
   "id": "e75510da-65e6-4f28-801d-524cbf0b70ad",
   "metadata": {},
   "outputs": [
    {
     "data": {
      "text/plain": [
       "pykx.Dictionary(pykx.q('\n",
       "      | name                mdlType algo                                     ..\n",
       "------| ---------------------------------------------------------------------..\n",
       "myHNSW| .kdbai.model.myHNSW hnsw    `ptrs`add`search`filter`write`delete!(946..\n",
       "'))"
      ]
     },
     "execution_count": 163,
     "metadata": {},
     "output_type": "execute_result"
    }
   ],
   "source": [
    "kdbai.KDBAI.list()"
   ]
  },
  {
   "cell_type": "markdown",
   "id": "ec7204ab-1edf-4e9c-b3ac-8ae22086a274",
   "metadata": {},
   "source": [
    "## 3. Add data\n",
    "\n",
    "First, generate a vector of 5 8-dimensional vectors. Then add these to a dataframe to match the table and vector column specified during the index creation in Step 1 above."
   ]
  },
  {
   "cell_type": "code",
   "execution_count": 164,
   "id": "6777b7d7-974f-4d71-be08-e7503f67aedf",
   "metadata": {},
   "outputs": [
    {
     "data": {
      "text/html": [
       "<div>\n",
       "<style scoped>\n",
       "    .dataframe tbody tr th:only-of-type {\n",
       "        vertical-align: middle;\n",
       "    }\n",
       "\n",
       "    .dataframe tbody tr th {\n",
       "        vertical-align: top;\n",
       "    }\n",
       "\n",
       "    .dataframe thead th {\n",
       "        text-align: right;\n",
       "    }\n",
       "</style>\n",
       "<table border=\"1\" class=\"dataframe\">\n",
       "  <thead>\n",
       "    <tr style=\"text-align: right;\">\n",
       "      <th></th>\n",
       "      <th>vectors</th>\n",
       "    </tr>\n",
       "  </thead>\n",
       "  <tbody>\n",
       "    <tr>\n",
       "      <th>0</th>\n",
       "      <td>[0.1, 0.2, 0.3, 0.4, 0.5, 0.6, 0.7, 0.8]</td>\n",
       "    </tr>\n",
       "    <tr>\n",
       "      <th>1</th>\n",
       "      <td>[0.2, 0.3, 0.4, 0.5, 0.6, 0.7, 0.8, 0.9]</td>\n",
       "    </tr>\n",
       "    <tr>\n",
       "      <th>2</th>\n",
       "      <td>[0.3, 0.4, 0.5, 0.6, 0.7, 0.8, 0.9, 1.0]</td>\n",
       "    </tr>\n",
       "    <tr>\n",
       "      <th>3</th>\n",
       "      <td>[0.4, 0.5, 0.6, 0.7, 0.8, 0.9, 1.0, 0.1]</td>\n",
       "    </tr>\n",
       "    <tr>\n",
       "      <th>4</th>\n",
       "      <td>[0.5, 0.6, 0.7, 0.8, 0.9, 1.0, 0.1, 0.2]</td>\n",
       "    </tr>\n",
       "  </tbody>\n",
       "</table>\n",
       "</div>"
      ],
      "text/plain": [
       "                                    vectors\n",
       "0  [0.1, 0.2, 0.3, 0.4, 0.5, 0.6, 0.7, 0.8]\n",
       "1  [0.2, 0.3, 0.4, 0.5, 0.6, 0.7, 0.8, 0.9]\n",
       "2  [0.3, 0.4, 0.5, 0.6, 0.7, 0.8, 0.9, 1.0]\n",
       "3  [0.4, 0.5, 0.6, 0.7, 0.8, 0.9, 1.0, 0.1]\n",
       "4  [0.5, 0.6, 0.7, 0.8, 0.9, 1.0, 0.1, 0.2]"
      ]
     },
     "execution_count": 164,
     "metadata": {},
     "output_type": "execute_result"
    }
   ],
   "source": [
    "# Create a NumPy array of 5 eight-dimensional float32 arrays\n",
    "vectors = np.array([\n",
    "    [0.1, 0.2, 0.3, 0.4, 0.5, 0.6, 0.7, 0.8],\n",
    "    [0.2, 0.3, 0.4, 0.5, 0.6, 0.7, 0.8, 0.9],\n",
    "    [0.3, 0.4, 0.5, 0.6, 0.7, 0.8, 0.9, 1.0],\n",
    "    [0.4, 0.5, 0.6, 0.7, 0.8, 0.9, 1.0, 0.1],\n",
    "    [0.5, 0.6, 0.7, 0.8, 0.9, 1.0, 0.1, 0.2]\n",
    "], dtype=np.float32)\n",
    "\n",
    "df = pd.DataFrame(dict(vectors=list(vectors)))       # df needs to match the table and vector column specified during the index creation\n",
    "df"
   ]
  },
  {
   "cell_type": "markdown",
   "id": "6e0f8a4c-0d18-4e95-8749-6fadc06dc09f",
   "metadata": {},
   "source": [
    "Next, add this dummy data into your index, use the `append` operation."
   ]
  },
  {
   "cell_type": "code",
   "execution_count": 165,
   "id": "c53cebec-7b37-453e-b217-96c79bf80e73",
   "metadata": {},
   "outputs": [
    {
     "name": "stdout",
     "output_type": "stream",
     "text": [
      "Updating index with new vector data\n",
      "Updating in-memory table: '.kdbai.table.table' with new data\n"
     ]
    }
   ],
   "source": [
    "index.append(df)"
   ]
  },
  {
   "cell_type": "markdown",
   "id": "ddc4b8a7-8ba2-4bbf-8e55-202cd77757ac",
   "metadata": {},
   "source": [
    "## 4. Query the index\n",
    "\n",
    "Query the index using the `search` operation and get similar vectors. The following code queries the index and calculates the nearest neighbors distance for each."
   ]
  },
  {
   "cell_type": "code",
   "execution_count": 166,
   "id": "b63a9d4f-aaad-4a0e-bef4-52669f33496a",
   "metadata": {},
   "outputs": [
    {
     "data": {
      "text/html": [
       "<div>\n",
       "<style scoped>\n",
       "    .dataframe tbody tr th:only-of-type {\n",
       "        vertical-align: middle;\n",
       "    }\n",
       "\n",
       "    .dataframe tbody tr th {\n",
       "        vertical-align: top;\n",
       "    }\n",
       "\n",
       "    .dataframe thead th {\n",
       "        text-align: right;\n",
       "    }\n",
       "</style>\n",
       "<table border=\"1\" class=\"dataframe\">\n",
       "  <thead>\n",
       "    <tr style=\"text-align: right;\">\n",
       "      <th></th>\n",
       "      <th>vectors</th>\n",
       "      <th>nn_dist</th>\n",
       "      <th>nn_idx</th>\n",
       "    </tr>\n",
       "  </thead>\n",
       "  <tbody>\n",
       "    <tr>\n",
       "      <th>0</th>\n",
       "      <td>[0.3, 0.4, 0.5, 0.6, 0.7, 0.8, 0.9, 1.0]</td>\n",
       "      <td>0.00</td>\n",
       "      <td>2</td>\n",
       "    </tr>\n",
       "    <tr>\n",
       "      <th>1</th>\n",
       "      <td>[0.2, 0.3, 0.4, 0.5, 0.6, 0.7, 0.8, 0.9]</td>\n",
       "      <td>0.08</td>\n",
       "      <td>1</td>\n",
       "    </tr>\n",
       "    <tr>\n",
       "      <th>2</th>\n",
       "      <td>[0.1, 0.2, 0.3, 0.4, 0.5, 0.6, 0.7, 0.8]</td>\n",
       "      <td>0.32</td>\n",
       "      <td>0</td>\n",
       "    </tr>\n",
       "    <tr>\n",
       "      <th>3</th>\n",
       "      <td>[0.4, 0.5, 0.6, 0.7, 0.8, 0.9, 1.0, 0.1]</td>\n",
       "      <td>0.88</td>\n",
       "      <td>3</td>\n",
       "    </tr>\n",
       "    <tr>\n",
       "      <th>4</th>\n",
       "      <td>[0.5, 0.6, 0.7, 0.8, 0.9, 1.0, 0.1, 0.2]</td>\n",
       "      <td>1.52</td>\n",
       "      <td>4</td>\n",
       "    </tr>\n",
       "  </tbody>\n",
       "</table>\n",
       "</div>"
      ],
      "text/plain": [
       "                                    vectors  nn_dist  nn_idx\n",
       "0  [0.3, 0.4, 0.5, 0.6, 0.7, 0.8, 0.9, 1.0]     0.00       2\n",
       "1  [0.2, 0.3, 0.4, 0.5, 0.6, 0.7, 0.8, 0.9]     0.08       1\n",
       "2  [0.1, 0.2, 0.3, 0.4, 0.5, 0.6, 0.7, 0.8]     0.32       0\n",
       "3  [0.4, 0.5, 0.6, 0.7, 0.8, 0.9, 1.0, 0.1]     0.88       3\n",
       "4  [0.5, 0.6, 0.7, 0.8, 0.9, 1.0, 0.1, 0.2]     1.52       4"
      ]
     },
     "execution_count": 166,
     "metadata": {},
     "output_type": "execute_result"
    }
   ],
   "source": [
    "query = np.array([[0.3, 0.4, 0.5, 0.6, 0.7, 0.8, 0.9, 1.0]], dtype=np.float32)\n",
    "\n",
    "index.search(query).pd()                        # Search similar vectors (5 by default)"
   ]
  },
  {
   "cell_type": "markdown",
   "id": "91341f52-6e75-4493-84d2-aefc406e21f3",
   "metadata": {},
   "source": [
    "Search for the 2 closest neighbors."
   ]
  },
  {
   "cell_type": "code",
   "execution_count": 169,
   "id": "9d94024a-4739-4179-82ea-4eee2b444456",
   "metadata": {},
   "outputs": [
    {
     "data": {
      "text/html": [
       "<div>\n",
       "<style scoped>\n",
       "    .dataframe tbody tr th:only-of-type {\n",
       "        vertical-align: middle;\n",
       "    }\n",
       "\n",
       "    .dataframe tbody tr th {\n",
       "        vertical-align: top;\n",
       "    }\n",
       "\n",
       "    .dataframe thead th {\n",
       "        text-align: right;\n",
       "    }\n",
       "</style>\n",
       "<table border=\"1\" class=\"dataframe\">\n",
       "  <thead>\n",
       "    <tr style=\"text-align: right;\">\n",
       "      <th></th>\n",
       "      <th>vectors</th>\n",
       "      <th>nn_dist</th>\n",
       "      <th>nn_idx</th>\n",
       "    </tr>\n",
       "  </thead>\n",
       "  <tbody>\n",
       "    <tr>\n",
       "      <th>0</th>\n",
       "      <td>[0.3, 0.4, 0.5, 0.6, 0.7, 0.8, 0.9, 1.0]</td>\n",
       "      <td>0.00</td>\n",
       "      <td>2</td>\n",
       "    </tr>\n",
       "    <tr>\n",
       "      <th>1</th>\n",
       "      <td>[0.2, 0.3, 0.4, 0.5, 0.6, 0.7, 0.8, 0.9]</td>\n",
       "      <td>0.08</td>\n",
       "      <td>1</td>\n",
       "    </tr>\n",
       "  </tbody>\n",
       "</table>\n",
       "</div>"
      ],
      "text/plain": [
       "                                    vectors  nn_dist  nn_idx\n",
       "0  [0.3, 0.4, 0.5, 0.6, 0.7, 0.8, 0.9, 1.0]     0.00       2\n",
       "1  [0.2, 0.3, 0.4, 0.5, 0.6, 0.7, 0.8, 0.9]     0.08       1"
      ]
     },
     "execution_count": 169,
     "metadata": {},
     "output_type": "execute_result"
    }
   ],
   "source": [
    "index.search(query, options=dict(neighbors=2)).pd()  # Search the 2 closest neighbors"
   ]
  },
  {
   "cell_type": "markdown",
   "id": "5f1cd8f3-21c5-4a3d-ae3e-b0a9b788e2b9",
   "metadata": {},
   "source": [
    "## 5. Persist the index \n",
    "\n",
    "Save the index model, tabular data and metadata using `persist` which allows us to recover from disk for use later on."
   ]
  },
  {
   "cell_type": "code",
   "execution_count": 171,
   "id": "25502225-7d7a-4d59-8ee7-9e5256b4c39b",
   "metadata": {},
   "outputs": [
    {
     "name": "stdout",
     "output_type": "stream",
     "text": [
      "Saving metadata associated with model\n",
      "Persisting embedding model\n",
      "Persisting tabular data to disk\n"
     ]
    },
    {
     "data": {
      "text/plain": [
       "pykx.Identity(pykx.q('::'))"
      ]
     },
     "execution_count": 171,
     "metadata": {},
     "output_type": "execute_result"
    }
   ],
   "source": [
    "index.persist('/tmp/index.kdbai')"
   ]
  },
  {
   "cell_type": "markdown",
   "id": "7a0d7842-fbf8-4883-be0b-126dfe81c2c5",
   "metadata": {},
   "source": [
    "## 6. Remove index\n",
    "\n",
    "Now we have persisted we can then use the `remove` operation to delete it."
   ]
  },
  {
   "cell_type": "code",
   "execution_count": 176,
   "id": "548a9d95-aac3-4d63-a87a-99eedfe55f07",
   "metadata": {},
   "outputs": [
    {
     "name": "stdout",
     "output_type": "stream",
     "text": [
      "Deleting the underlying search index\n",
      "Deleting the backing table for the search index\n",
      "Deleting all search \n",
      "Performing garbage collection on process\n"
     ]
    }
   ],
   "source": [
    "index.remove()\n",
    "del index"
   ]
  },
  {
   "cell_type": "markdown",
   "id": "8bc6d801-1371-48d0-98b4-0baa53bc8446",
   "metadata": {},
   "source": [
    "<div class=\"alert alert-block alert-warning\">\n",
    "<b>Warning:</b>If you remove an index without first persisting, you cannot use it again.\n",
    "</div>"
   ]
  },
  {
   "cell_type": "markdown",
   "id": "be8326fa-88cc-4278-8e4c-281f0d93973c",
   "metadata": {},
   "source": [
    "## 7. Load index from disk\n",
    "\n",
    "When we next want to use this index we can simply retrieve all content associated index using `from_disk`."
   ]
  },
  {
   "cell_type": "code",
   "execution_count": 177,
   "id": "abf85255-10b0-4c8a-ae86-b4d94c44219a",
   "metadata": {},
   "outputs": [
    {
     "data": {
      "text/html": [
       "<div>\n",
       "<style scoped>\n",
       "    .dataframe tbody tr th:only-of-type {\n",
       "        vertical-align: middle;\n",
       "    }\n",
       "\n",
       "    .dataframe tbody tr th {\n",
       "        vertical-align: top;\n",
       "    }\n",
       "\n",
       "    .dataframe thead th {\n",
       "        text-align: right;\n",
       "    }\n",
       "</style>\n",
       "<table border=\"1\" class=\"dataframe\">\n",
       "  <thead>\n",
       "    <tr style=\"text-align: right;\">\n",
       "      <th></th>\n",
       "      <th>vectors</th>\n",
       "      <th>nn_dist</th>\n",
       "      <th>nn_idx</th>\n",
       "    </tr>\n",
       "  </thead>\n",
       "  <tbody>\n",
       "    <tr>\n",
       "      <th>0</th>\n",
       "      <td>[0.3, 0.4, 0.5, 0.6, 0.7, 0.8, 0.9, 1.0]</td>\n",
       "      <td>0.0</td>\n",
       "      <td>2</td>\n",
       "    </tr>\n",
       "  </tbody>\n",
       "</table>\n",
       "</div>"
      ],
      "text/plain": [
       "                                    vectors  nn_dist  nn_idx\n",
       "0  [0.3, 0.4, 0.5, 0.6, 0.7, 0.8, 0.9, 1.0]      0.0       2"
      ]
     },
     "execution_count": 177,
     "metadata": {},
     "output_type": "execute_result"
    }
   ],
   "source": [
    "index = kdbai.KDBAI.from_disk('myHNSW', '/tmp/index.kdbai')\n",
    "index.search(query, options=dict(neighbors=1)).pd() "
   ]
  },
  {
   "cell_type": "markdown",
   "id": "a7672241-42b0-4798-90d7-95aa9fefe68c",
   "metadata": {},
   "source": [
    "## Next Steps\n",
    "\n",
    "Now that you’re successfully making indexes with kdb.ai, you can start inserting data or view more examples.\n"
   ]
  }
 ],
 "metadata": {
  "kernelspec": {
   "display_name": "Python 3 (ipykernel)",
   "language": "python",
   "name": "python3"
  },
  "language_info": {
   "codemirror_mode": {
    "name": "ipython",
    "version": 3
   },
   "file_extension": ".py",
   "mimetype": "text/x-python",
   "name": "python",
   "nbconvert_exporter": "python",
   "pygments_lexer": "ipython3",
   "version": "3.10.12"
  }
 },
 "nbformat": 4,
 "nbformat_minor": 5
}
